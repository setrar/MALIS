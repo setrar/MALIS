{
 "cells": [
  {
   "cell_type": "markdown",
   "id": "7740b85e-4b89-45dd-af1c-9821785468f9",
   "metadata": {},
   "source": [
    "# Definition\n",
    "\n",
    "\n",
    "$$ \\text{ We have }{\\color{Orange}y} \\in \\mathcal{C} \\text{ and } {\\color{Orange}x} \\in \\mathbb{R}^2$$"
   ]
  },
  {
   "cell_type": "code",
   "execution_count": null,
   "id": "4dcb9a65-a959-42ba-8eab-23c4b37218f3",
   "metadata": {},
   "outputs": [],
   "source": []
  }
 ],
 "metadata": {
  "kernelspec": {
   "display_name": "Julia 1.9.3",
   "language": "julia",
   "name": "julia-1.9"
  },
  "language_info": {
   "file_extension": ".jl",
   "mimetype": "application/julia",
   "name": "julia",
   "version": "1.9.3"
  }
 },
 "nbformat": 4,
 "nbformat_minor": 5
}

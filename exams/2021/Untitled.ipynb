{
 "cells": [
  {
   "cell_type": "code",
   "execution_count": 3,
   "id": "a1bf38b8-c508-4068-ae88-d7f588bca3f7",
   "metadata": {},
   "outputs": [
    {
     "data": {
      "text/plain": [
       "Dict{Int64, Int64} with 3 entries:\n",
       "  5 => 1\n",
       "  3 => 1\n",
       "  1 => 1"
      ]
     },
     "execution_count": 3,
     "metadata": {},
     "output_type": "execute_result"
    }
   ],
   "source": [
    "# Define the points and the test point\n",
    "circles = [(1, 3), (3, 2), (3, 4)]\n",
    "bars = [(2, 1), (2, 2), (4, 1), (4, 3)]\n",
    "test_point = (3, 3)\n",
    "\n",
    "# Define the Euclidean distance function\n",
    "function euclidean_distance(p1, p2)\n",
    "    sqrt((p1[1] - p2[1])^2 + (p1[2] - p2[2])^2)\n",
    "end\n",
    "\n",
    "# Calculate distances and associate with class labels\n",
    "distances = [(euclidean_distance(test_point, p), 1) for p in circles]\n",
    "append!(distances, [(euclidean_distance(test_point, p), 0) for p in bars])\n",
    "\n",
    "# Sort by distance\n",
    "sort!(distances, by=x->x[1])\n",
    "\n",
    "# Function to classify the test point based on K\n",
    "function classify_test_point(k, distances)\n",
    "    neighbors = distances[1:k]\n",
    "    class_vote = sum([neighbor[2] for neighbor in neighbors])\n",
    "    classification = class_vote > k/2 ? 1 : 0\n",
    "    return classification\n",
    "end\n",
    "\n",
    "# Classify the test point for different values of K\n",
    "k_values = [1, 3, 5]\n",
    "classifications = Dict(k => classify_test_point(k, distances) for k in k_values)\n",
    "classifications\n"
   ]
  },
  {
   "cell_type": "code",
   "execution_count": null,
   "id": "f220c542-adeb-4df5-ad83-5dd280a57555",
   "metadata": {},
   "outputs": [],
   "source": []
  }
 ],
 "metadata": {
  "kernelspec": {
   "display_name": "Julia 1.9.3",
   "language": "julia",
   "name": "julia-1.9"
  },
  "language_info": {
   "file_extension": ".jl",
   "mimetype": "application/julia",
   "name": "julia",
   "version": "1.10.0"
  }
 },
 "nbformat": 4,
 "nbformat_minor": 5
}

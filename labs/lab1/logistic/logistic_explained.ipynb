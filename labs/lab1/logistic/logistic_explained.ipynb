{
 "cells": [
  {
   "cell_type": "markdown",
   "id": "98dca5f4-eb9f-44a9-92ef-88f491176694",
   "metadata": {},
   "source": [
    "# How to implement polynomial logistic regression in scikit-learn?"
   ]
  },
  {
   "cell_type": "code",
   "execution_count": 36,
   "id": "567ee5d1-c481-4963-9c78-9405736f4382",
   "metadata": {},
   "outputs": [],
   "source": [
    "from sklearn.datasets import load_iris\n",
    "from sklearn.linear_model import LogisticRegression\n",
    "from sklearn.preprocessing import PolynomialFeatures\n",
    "from sklearn.model_selection import train_test_split\n",
    "from sklearn.pipeline import Pipeline\n",
    "\n",
    "data = load_iris()\n",
    "X = data.data\n",
    "y = data.target\n",
    "X_train, X_test, y_train, y_test = train_test_split(X, y)"
   ]
  },
  {
   "cell_type": "code",
   "execution_count": 37,
   "id": "07fd5fb4-cecc-4193-9909-0c643b41e884",
   "metadata": {},
   "outputs": [
    {
     "data": {
      "text/plain": [
       "(150, 4)"
      ]
     },
     "execution_count": 37,
     "metadata": {},
     "output_type": "execute_result"
    }
   ],
   "source": [
    "X.shape"
   ]
  },
  {
   "cell_type": "markdown",
   "id": "9c62a104-db19-4aec-94e2-7b146ce4e1e8",
   "metadata": {},
   "source": [
    "## Step 1"
   ]
  },
  {
   "cell_type": "markdown",
   "id": "5bb1e2a2-6f3b-4b99-a411-62cf9d7092df",
   "metadata": {},
   "source": [
    "First you need to convert your data to polynomial features. Originally, our data has 4 columns:"
   ]
  },
  {
   "cell_type": "code",
   "execution_count": 38,
   "id": "176e08f3-6c53-46b2-952f-8fc80e6a5a71",
   "metadata": {},
   "outputs": [
    {
     "data": {
      "text/plain": [
       "(112, 4)"
      ]
     },
     "execution_count": 38,
     "metadata": {},
     "output_type": "execute_result"
    }
   ],
   "source": [
    "X_train.shape"
   ]
  },
  {
   "cell_type": "markdown",
   "id": "2dc6d797-a1a7-4c62-81c3-c5acbf09ab0b",
   "metadata": {},
   "source": [
    "You can create the polynomial features with scikit learn (here it is for degree 2):"
   ]
  },
  {
   "cell_type": "code",
   "execution_count": 39,
   "id": "a03029c8-eba0-4a76-acea-2c8a60f79489",
   "metadata": {},
   "outputs": [
    {
     "data": {
      "text/plain": [
       "(112, 14)"
      ]
     },
     "execution_count": 39,
     "metadata": {},
     "output_type": "execute_result"
    }
   ],
   "source": [
    "poly = PolynomialFeatures(degree = 2, interaction_only=False, include_bias=False)\n",
    "X_poly = poly.fit_transform(X_train)\n",
    "X_poly.shape"
   ]
  },
  {
   "cell_type": "markdown",
   "id": "5dcfed5b-9d21-441a-886d-fc49e408c920",
   "metadata": {},
   "source": [
    "We know have 14 features (the original 4, their square, and the 6 crossed combinations)"
   ]
  },
  {
   "cell_type": "markdown",
   "id": "02efd292-0b24-47ac-b81d-85d10bc38d41",
   "metadata": {},
   "source": [
    "## Step 2"
   ]
  },
  {
   "cell_type": "markdown",
   "id": "faa7d979-4861-4b34-b0bc-2479267acbdc",
   "metadata": {},
   "source": [
    "On this you can now build your logistic regression calling `X_poly`"
   ]
  },
  {
   "cell_type": "code",
   "execution_count": 40,
   "id": "906869cb-cd7c-4be0-9eff-d98190d5e14d",
   "metadata": {},
   "outputs": [
    {
     "name": "stdout",
     "output_type": "stream",
     "text": [
      "Logistic regression model coefficients:[[  1.29131952   1.20450927  -0.66783301  -0.5269703    4.10355629\n",
      "    4.72831301  -4.22525882  -2.85482295   4.12411739  -1.16829398\n",
      "   -1.25933566  -4.59718793  -2.07590722  -0.8178695 ]\n",
      " [  2.70666477   1.12624387   2.23891673   0.19757773   3.62196281\n",
      "   -0.58774185  -0.29592672  -4.30044307   5.93203176   3.03581619\n",
      "    0.34758996  -5.66623784  -5.3223053   -3.32300639]\n",
      " [ -3.99798429  -2.33075315  -1.57108372   0.32939256  -7.7255191\n",
      "   -4.14057116   4.52118554   7.15526602 -10.05614915  -1.86752221\n",
      "    0.91174571  10.26342577   7.39821252   4.14087588]]\n",
      "\n"
     ]
    }
   ],
   "source": [
    "logistic_model = LogisticRegression(C=1000000, solver='newton-cg', max_iter=250).fit(X_poly,y_train)\n",
    "print(f'Logistic regression model coefficients:{logistic_model.coef_}\\n')"
   ]
  },
  {
   "cell_type": "markdown",
   "id": "f1fa974d-9047-478a-8bb5-65b9b497dc7b",
   "metadata": {},
   "source": [
    "Note: if you then want to evaluate your model on the test data, you also need to follow these 2 steps and do:"
   ]
  },
  {
   "cell_type": "code",
   "execution_count": 41,
   "id": "12977e07-95d8-4989-b80c-e7a2634f8cac",
   "metadata": {},
   "outputs": [
    {
     "data": {
      "text/plain": [
       "0.9473684210526315"
      ]
     },
     "execution_count": 41,
     "metadata": {},
     "output_type": "execute_result"
    }
   ],
   "source": [
    "logistic_model.score(poly.transform(X_test), y_test)"
   ]
  },
  {
   "cell_type": "markdown",
   "id": "0d01bd40-e601-446c-a595-2c8c51e26c60",
   "metadata": {},
   "source": [
    "# Putting everything together in a Pipeline (optional)"
   ]
  },
  {
   "cell_type": "markdown",
   "id": "8928689e-e6bc-40e4-9320-bd8a5fdf074f",
   "metadata": {},
   "source": [
    "You may want to use a Pipeline instead that processes these two steps in one object to avoid building intermediary objects:"
   ]
  },
  {
   "cell_type": "code",
   "execution_count": 42,
   "id": "ea7e258a-926c-4325-bea2-231f4172dbe1",
   "metadata": {},
   "outputs": [
    {
     "data": {
      "text/plain": [
       "0.9473684210526315"
      ]
     },
     "execution_count": 42,
     "metadata": {},
     "output_type": "execute_result"
    }
   ],
   "source": [
    "pipe = Pipeline([('polynomial_features',poly), ('logistic_regression',logistic_model)])\n",
    "pipe.fit(X_train, y_train)\n",
    "pipe.score(X_test, y_test)"
   ]
  },
  {
   "cell_type": "markdown",
   "id": "5421ca94-d041-48d1-8111-9a8448431177",
   "metadata": {},
   "source": [
    "# References\n",
    "- [ ] [How to implement polynomial logistic regression in scikit-learn?](https://stackoverflow.com/questions/55937244/how-to-implement-polynomial-logistic-regression-in-scikit-learn)\n",
    "- [ ] %pip install scikit-learn when using IPython to install packages"
   ]
  }
 ],
 "metadata": {
  "kernelspec": {
   "display_name": "Python 3 (ipykernel)",
   "language": "python",
   "name": "python3"
  },
  "language_info": {
   "codemirror_mode": {
    "name": "ipython",
    "version": 3
   },
   "file_extension": ".py",
   "mimetype": "text/x-python",
   "name": "python",
   "nbconvert_exporter": "python",
   "pygments_lexer": "ipython3",
   "version": "3.10.13"
  }
 },
 "nbformat": 4,
 "nbformat_minor": 5
}

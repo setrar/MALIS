{
 "cells": [
  {
   "cell_type": "markdown",
   "id": "283f0a6f-afb1-4ba5-a464-12ca6b7d1345",
   "metadata": {},
   "source": [
    "# Part 2: Linear Regression\n",
    "\n",
    "\n",
    "In this part, we will be working with a dataset scraped by [Shubham Maurya](https://www.kaggle.com/mauryashubham/linear-regression-to-predict-market-value/data), which collects facts about players in the English Premier League as of 2017. His original goal was to establish if there was a relationship between a player's popularity and his market value, as estimated by transfermrkt.com.\n",
    "\n",
    "**Your goal is to fit a model able to predict a player's market value.**"
   ]
  },
  {
   "cell_type": "markdown",
   "id": "0848b48b-6880-40b9-9fbc-c5fdf2602adc",
   "metadata": {},
   "source": [
    "## The dataset\n",
    "\n",
    "The dataset contains the following information:\n",
    "\n",
    "<table >\n",
    "<tr>\n",
    "<th><b>Field</b></th>\n",
    "<th><b>Description</b></th>\n",
    "</tr>\n",
    "<tr><td> name </td><td> Name of the player </td></tr>\n",
    "<tr><td> club </td><td> Club of the player </td></tr>\n",
    "<tr><td> age </td><td> Age of the player </td></tr>\n",
    "<tr><td> position </td><td>  The usual position on the pitch </td><tr> \n",
    "<tr><td>position_cat</td><td> 1 for attackers, 2 for midfielders, 3 for defenders, 4 for goalkeepers</td></tr>\n",
    "<tr><td>market_value</td><td> As on transfermrkt.com on July 20th, 2017</td></tr>\n",
    "<tr><td>page_views</td><td> Average daily Wikipedia page views from September 1, 2016 to May 1, 2017</td></tr>\n",
    "<tr><td>fpl_value</td><td> Value in Fantasy Premier League as on July 20th, 2017</td></tr>\n",
    "<tr><td>fpl_sel</td><td> % of FPL players who have selected that player in their team</td></tr>\n",
    "<tr><td>fpl_points</td><td> FPL points accumulated over the previous season</td></tr>\n",
    "<tr><td>region</td><td> 1 for England, 2 for EU, 3 for Americas, 4 for Rest of World</td></tr>\n",
    "<tr><td>nationality</td><td> Player's nationality</td></tr>\n",
    "<tr><td>new_foreign</td><td> Whether a new signing from a different league, for 2017/18 (till 20th July)</td></tr>\n",
    "<tr><td>age_cat</td><td> a categorical version of the Age feature</td></tr>\n",
    "<tr><td>club_id</td><td> a numerical version of the Club feature</td></tr>\n",
    "<tr><td>big_club</td><td> Whether one of the Top 6 clubs</td></tr>\n",
    "<tr><td>new_signing</td><td> Whether a new signing for 2017/18 (till 20th July)</td></tr>\n",
    "<table>\n"
   ]
  },
  {
   "cell_type": "markdown",
   "id": "96ad5421-6ecd-473d-8814-bffe70749acc",
   "metadata": {},
   "source": [
    "## Exercise 1: Exploring the data\n",
    "The first step you need to do is to explore your data.\n",
    "\n",
    "We will start wil the necessary imports. In this exercise, we will be working with the library `pandas`. If you are not familiar with it, it is recommended that you follow the introductory exercises that can be found in the course's github repository."
   ]
  },
  {
   "cell_type": "code",
   "execution_count": 11,
   "id": "4280699b-45db-456d-9293-4436473eaaac",
   "metadata": {},
   "outputs": [],
   "source": [
    "using DataFrames, CSV"
   ]
  },
  {
   "cell_type": "markdown",
   "id": "8ee9f4ca-7356-40c5-a717-e6e9c881dfa1",
   "metadata": {},
   "source": [
    "We will now proceed to read the dataset:"
   ]
  },
  {
   "cell_type": "code",
   "execution_count": 14,
   "id": "c9678294-ea42-4083-9e48-4e8ceef90027",
   "metadata": {},
   "outputs": [
    {
     "data": {
      "text/html": [
       "<div class=\"data-frame\"><p>461 rows × 17 columns (omitted printing of 11 columns)</p><table class=\"data-frame\"><thead><tr><th></th><th>name</th><th>club</th><th>age</th><th>position</th><th>position_cat</th><th>market_value</th></tr><tr><th></th><th title=\"String31\">String31</th><th title=\"String31\">String31</th><th title=\"Int64\">Int64</th><th title=\"String3\">String3</th><th title=\"Int64\">Int64</th><th title=\"Float64\">Float64</th></tr></thead><tbody><tr><th>1</th><td>Alexis Sanchez</td><td>Arsenal</td><td>28</td><td>LW</td><td>1</td><td>65.0</td></tr><tr><th>2</th><td>Mesut Ozil</td><td>Arsenal</td><td>28</td><td>AM</td><td>1</td><td>50.0</td></tr><tr><th>3</th><td>Petr Cech</td><td>Arsenal</td><td>35</td><td>GK</td><td>4</td><td>7.0</td></tr><tr><th>4</th><td>Theo Walcott</td><td>Arsenal</td><td>28</td><td>RW</td><td>1</td><td>20.0</td></tr><tr><th>5</th><td>Laurent Koscielny</td><td>Arsenal</td><td>31</td><td>CB</td><td>3</td><td>22.0</td></tr><tr><th>6</th><td>Hector Bellerin</td><td>Arsenal</td><td>22</td><td>RB</td><td>3</td><td>30.0</td></tr><tr><th>7</th><td>Olivier Giroud</td><td>Arsenal</td><td>30</td><td>CF</td><td>1</td><td>22.0</td></tr><tr><th>8</th><td>Nacho Monreal</td><td>Arsenal</td><td>31</td><td>LB</td><td>3</td><td>13.0</td></tr><tr><th>9</th><td>Shkodran Mustafi</td><td>Arsenal</td><td>25</td><td>CB</td><td>3</td><td>30.0</td></tr><tr><th>10</th><td>Alex Iwobi</td><td>Arsenal</td><td>21</td><td>LW</td><td>1</td><td>10.0</td></tr><tr><th>11</th><td>Granit Xhaka</td><td>Arsenal</td><td>24</td><td>DM</td><td>2</td><td>35.0</td></tr><tr><th>12</th><td>Alex Oxlade-Chamberlain</td><td>Arsenal</td><td>23</td><td>RM</td><td>2</td><td>22.0</td></tr><tr><th>13</th><td>Jack Wilshere</td><td>Arsenal</td><td>25</td><td>CM</td><td>2</td><td>18.0</td></tr><tr><th>14</th><td>Aaron Ramsey</td><td>Arsenal</td><td>26</td><td>CM</td><td>2</td><td>35.0</td></tr><tr><th>15</th><td>Francis Coquelin</td><td>Arsenal</td><td>26</td><td>DM</td><td>2</td><td>15.0</td></tr><tr><th>16</th><td>Gabriel Paulista</td><td>Arsenal</td><td>26</td><td>CB</td><td>3</td><td>13.0</td></tr><tr><th>17</th><td>Kieran Gibbs</td><td>Arsenal</td><td>27</td><td>LB</td><td>3</td><td>10.0</td></tr><tr><th>18</th><td>Santi Cazorla</td><td>Arsenal</td><td>32</td><td>CM</td><td>2</td><td>12.0</td></tr><tr><th>19</th><td>Danny Welbeck</td><td>Arsenal</td><td>26</td><td>CF</td><td>1</td><td>15.0</td></tr><tr><th>20</th><td>Rob Holding</td><td>Arsenal</td><td>21</td><td>CB</td><td>3</td><td>7.0</td></tr><tr><th>21</th><td>Mohamed Elneny</td><td>Arsenal</td><td>25</td><td>DM</td><td>2</td><td>10.0</td></tr><tr><th>22</th><td>Lucas Perez</td><td>Arsenal</td><td>28</td><td>CF</td><td>1</td><td>15.0</td></tr><tr><th>23</th><td>Emiliano Martinez</td><td>Arsenal</td><td>24</td><td>GK</td><td>4</td><td>1.0</td></tr><tr><th>24</th><td>David Ospina</td><td>Arsenal</td><td>28</td><td>GK</td><td>4</td><td>7.0</td></tr><tr><th>25</th><td>Carl Jenkinson</td><td>Arsenal</td><td>25</td><td>RB</td><td>3</td><td>5.0</td></tr><tr><th>26</th><td>Per Mertesacker</td><td>Arsenal</td><td>32</td><td>CB</td><td>3</td><td>6.0</td></tr><tr><th>27</th><td>Sead Kolasinac</td><td>Arsenal</td><td>24</td><td>LB</td><td>3</td><td>15.0</td></tr><tr><th>28</th><td>Alexandre Lacazette</td><td>Arsenal</td><td>26</td><td>CF</td><td>1</td><td>40.0</td></tr><tr><th>29</th><td>Joshua King</td><td>Bournemouth</td><td>25</td><td>SS</td><td>1</td><td>8.0</td></tr><tr><th>30</th><td>Jermain Defoe</td><td>Bournemouth</td><td>34</td><td>CF</td><td>1</td><td>5.0</td></tr><tr><th>&vellip;</th><td>&vellip;</td><td>&vellip;</td><td>&vellip;</td><td>&vellip;</td><td>&vellip;</td><td>&vellip;</td></tr></tbody></table></div>"
      ],
      "text/latex": [
       "\\begin{tabular}{r|ccccccc}\n",
       "\t& name & club & age & position & position\\_cat & market\\_value & \\\\\n",
       "\t\\hline\n",
       "\t& String31 & String31 & Int64 & String3 & Int64 & Float64 & \\\\\n",
       "\t\\hline\n",
       "\t1 & Alexis Sanchez & Arsenal & 28 & LW & 1 & 65.0 & $\\dots$ \\\\\n",
       "\t2 & Mesut Ozil & Arsenal & 28 & AM & 1 & 50.0 & $\\dots$ \\\\\n",
       "\t3 & Petr Cech & Arsenal & 35 & GK & 4 & 7.0 & $\\dots$ \\\\\n",
       "\t4 & Theo Walcott & Arsenal & 28 & RW & 1 & 20.0 & $\\dots$ \\\\\n",
       "\t5 & Laurent Koscielny & Arsenal & 31 & CB & 3 & 22.0 & $\\dots$ \\\\\n",
       "\t6 & Hector Bellerin & Arsenal & 22 & RB & 3 & 30.0 & $\\dots$ \\\\\n",
       "\t7 & Olivier Giroud & Arsenal & 30 & CF & 1 & 22.0 & $\\dots$ \\\\\n",
       "\t8 & Nacho Monreal & Arsenal & 31 & LB & 3 & 13.0 & $\\dots$ \\\\\n",
       "\t9 & Shkodran Mustafi & Arsenal & 25 & CB & 3 & 30.0 & $\\dots$ \\\\\n",
       "\t10 & Alex Iwobi & Arsenal & 21 & LW & 1 & 10.0 & $\\dots$ \\\\\n",
       "\t11 & Granit Xhaka & Arsenal & 24 & DM & 2 & 35.0 & $\\dots$ \\\\\n",
       "\t12 & Alex Oxlade-Chamberlain & Arsenal & 23 & RM & 2 & 22.0 & $\\dots$ \\\\\n",
       "\t13 & Jack Wilshere & Arsenal & 25 & CM & 2 & 18.0 & $\\dots$ \\\\\n",
       "\t14 & Aaron Ramsey & Arsenal & 26 & CM & 2 & 35.0 & $\\dots$ \\\\\n",
       "\t15 & Francis Coquelin & Arsenal & 26 & DM & 2 & 15.0 & $\\dots$ \\\\\n",
       "\t16 & Gabriel Paulista & Arsenal & 26 & CB & 3 & 13.0 & $\\dots$ \\\\\n",
       "\t17 & Kieran Gibbs & Arsenal & 27 & LB & 3 & 10.0 & $\\dots$ \\\\\n",
       "\t18 & Santi Cazorla & Arsenal & 32 & CM & 2 & 12.0 & $\\dots$ \\\\\n",
       "\t19 & Danny Welbeck & Arsenal & 26 & CF & 1 & 15.0 & $\\dots$ \\\\\n",
       "\t20 & Rob Holding & Arsenal & 21 & CB & 3 & 7.0 & $\\dots$ \\\\\n",
       "\t21 & Mohamed Elneny & Arsenal & 25 & DM & 2 & 10.0 & $\\dots$ \\\\\n",
       "\t22 & Lucas Perez & Arsenal & 28 & CF & 1 & 15.0 & $\\dots$ \\\\\n",
       "\t23 & Emiliano Martinez & Arsenal & 24 & GK & 4 & 1.0 & $\\dots$ \\\\\n",
       "\t24 & David Ospina & Arsenal & 28 & GK & 4 & 7.0 & $\\dots$ \\\\\n",
       "\t25 & Carl Jenkinson & Arsenal & 25 & RB & 3 & 5.0 & $\\dots$ \\\\\n",
       "\t26 & Per Mertesacker & Arsenal & 32 & CB & 3 & 6.0 & $\\dots$ \\\\\n",
       "\t27 & Sead Kolasinac & Arsenal & 24 & LB & 3 & 15.0 & $\\dots$ \\\\\n",
       "\t28 & Alexandre Lacazette & Arsenal & 26 & CF & 1 & 40.0 & $\\dots$ \\\\\n",
       "\t29 & Joshua King & Bournemouth & 25 & SS & 1 & 8.0 & $\\dots$ \\\\\n",
       "\t30 & Jermain Defoe & Bournemouth & 34 & CF & 1 & 5.0 & $\\dots$ \\\\\n",
       "\t$\\dots$ & $\\dots$ & $\\dots$ & $\\dots$ & $\\dots$ & $\\dots$ & $\\dots$ &  \\\\\n",
       "\\end{tabular}\n"
      ],
      "text/plain": [
       "\u001b[1m461×17 DataFrame\u001b[0m\n",
       "\u001b[1m Row \u001b[0m│\u001b[1m name                    \u001b[0m\u001b[1m club     \u001b[0m\u001b[1m age   \u001b[0m\u001b[1m position \u001b[0m\u001b[1m position_cat \u001b[0m\u001b[1m marke\u001b[0m ⋯\n",
       "\u001b[1m     \u001b[0m│\u001b[90m String31                \u001b[0m\u001b[90m String31 \u001b[0m\u001b[90m Int64 \u001b[0m\u001b[90m String3  \u001b[0m\u001b[90m Int64        \u001b[0m\u001b[90m Float\u001b[0m ⋯\n",
       "─────┼──────────────────────────────────────────────────────────────────────────\n",
       "   1 │ Alexis Sanchez           Arsenal      28  LW                   1        ⋯\n",
       "   2 │ Mesut Ozil               Arsenal      28  AM                   1\n",
       "   3 │ Petr Cech                Arsenal      35  GK                   4\n",
       "   4 │ Theo Walcott             Arsenal      28  RW                   1\n",
       "   5 │ Laurent Koscielny        Arsenal      31  CB                   3        ⋯\n",
       "   6 │ Hector Bellerin          Arsenal      22  RB                   3\n",
       "   7 │ Olivier Giroud           Arsenal      30  CF                   1\n",
       "   8 │ Nacho Monreal            Arsenal      31  LB                   3\n",
       "   9 │ Shkodran Mustafi         Arsenal      25  CB                   3        ⋯\n",
       "  10 │ Alex Iwobi               Arsenal      21  LW                   1\n",
       "  11 │ Granit Xhaka             Arsenal      24  DM                   2\n",
       "  ⋮  │            ⋮                ⋮        ⋮       ⋮           ⋮              ⋱\n",
       " 452 │ Aaron Cresswell          West+Ham     27  LB                   3\n",
       " 453 │ Pedro Obiang             West+Ham     25  CM                   2        ⋯\n",
       " 454 │ Sofiane Feghouli         West+Ham     27  RW                   1\n",
       " 455 │ Angelo Ogbonna           West+Ham     29  CB                   3\n",
       " 456 │ Pablo Zabaleta           West+Ham     32  RB                   3\n",
       " 457 │ Edimilson Fernandes      West+Ham     21  CM                   2        ⋯\n",
       " 458 │ Arthur Masuaku           West+Ham     23  LB                   3\n",
       " 459 │ Sam Byram                West+Ham     23  RB                   3\n",
       " 460 │ Ashley Fletcher          West+Ham     21  CF                   1\n",
       " 461 │ Diafra Sakho             West+Ham     27  CF                   1        ⋯\n",
       "\u001b[36m                                                 12 columns and 440 rows omitted\u001b[0m"
      ]
     },
     "execution_count": 14,
     "metadata": {},
     "output_type": "execute_result"
    }
   ],
   "source": [
    "league_df = DataFrame(CSV.File(\"data/football_data.csv\")) #Reads a CSV file"
   ]
  },
  {
   "cell_type": "markdown",
   "id": "1b698061-3c70-4ec7-897c-37ae930a0809",
   "metadata": {},
   "source": [
    "### Task 1.1: Using DataFrames for data exploration\n",
    "Use the method `first(name_dataframe, N)` (N is the number of entries) to look at the first instances of the dataframe. \n",
    "\n",
    "Then, use the method `name_dataframe.describe(include='all')` to generate descriptive statistics that summarize each field of the dataframe. \n",
    "\n",
    "Finally, print the result of `name_dataframe.dtypes`, in this way you print out the data types associated to each of the fields in the table "
   ]
  },
  {
   "cell_type": "code",
   "execution_count": 18,
   "id": "2c45426d-4f4a-4134-ad43-e7829fa4c621",
   "metadata": {},
   "outputs": [
    {
     "data": {
      "text/html": [
       "<div class=\"data-frame\"><p>10 rows × 17 columns (omitted printing of 10 columns)</p><table class=\"data-frame\"><thead><tr><th></th><th>name</th><th>club</th><th>age</th><th>position</th><th>position_cat</th><th>market_value</th><th>page_views</th></tr><tr><th></th><th title=\"String31\">String31</th><th title=\"String31\">String31</th><th title=\"Int64\">Int64</th><th title=\"String3\">String3</th><th title=\"Int64\">Int64</th><th title=\"Float64\">Float64</th><th title=\"Int64\">Int64</th></tr></thead><tbody><tr><th>1</th><td>Alexis Sanchez</td><td>Arsenal</td><td>28</td><td>LW</td><td>1</td><td>65.0</td><td>4329</td></tr><tr><th>2</th><td>Mesut Ozil</td><td>Arsenal</td><td>28</td><td>AM</td><td>1</td><td>50.0</td><td>4395</td></tr><tr><th>3</th><td>Petr Cech</td><td>Arsenal</td><td>35</td><td>GK</td><td>4</td><td>7.0</td><td>1529</td></tr><tr><th>4</th><td>Theo Walcott</td><td>Arsenal</td><td>28</td><td>RW</td><td>1</td><td>20.0</td><td>2393</td></tr><tr><th>5</th><td>Laurent Koscielny</td><td>Arsenal</td><td>31</td><td>CB</td><td>3</td><td>22.0</td><td>912</td></tr><tr><th>6</th><td>Hector Bellerin</td><td>Arsenal</td><td>22</td><td>RB</td><td>3</td><td>30.0</td><td>1675</td></tr><tr><th>7</th><td>Olivier Giroud</td><td>Arsenal</td><td>30</td><td>CF</td><td>1</td><td>22.0</td><td>2230</td></tr><tr><th>8</th><td>Nacho Monreal</td><td>Arsenal</td><td>31</td><td>LB</td><td>3</td><td>13.0</td><td>555</td></tr><tr><th>9</th><td>Shkodran Mustafi</td><td>Arsenal</td><td>25</td><td>CB</td><td>3</td><td>30.0</td><td>1877</td></tr><tr><th>10</th><td>Alex Iwobi</td><td>Arsenal</td><td>21</td><td>LW</td><td>1</td><td>10.0</td><td>1812</td></tr></tbody></table></div>"
      ],
      "text/latex": [
       "\\begin{tabular}{r|cccccccc}\n",
       "\t& name & club & age & position & position\\_cat & market\\_value & page\\_views & \\\\\n",
       "\t\\hline\n",
       "\t& String31 & String31 & Int64 & String3 & Int64 & Float64 & Int64 & \\\\\n",
       "\t\\hline\n",
       "\t1 & Alexis Sanchez & Arsenal & 28 & LW & 1 & 65.0 & 4329 & $\\dots$ \\\\\n",
       "\t2 & Mesut Ozil & Arsenal & 28 & AM & 1 & 50.0 & 4395 & $\\dots$ \\\\\n",
       "\t3 & Petr Cech & Arsenal & 35 & GK & 4 & 7.0 & 1529 & $\\dots$ \\\\\n",
       "\t4 & Theo Walcott & Arsenal & 28 & RW & 1 & 20.0 & 2393 & $\\dots$ \\\\\n",
       "\t5 & Laurent Koscielny & Arsenal & 31 & CB & 3 & 22.0 & 912 & $\\dots$ \\\\\n",
       "\t6 & Hector Bellerin & Arsenal & 22 & RB & 3 & 30.0 & 1675 & $\\dots$ \\\\\n",
       "\t7 & Olivier Giroud & Arsenal & 30 & CF & 1 & 22.0 & 2230 & $\\dots$ \\\\\n",
       "\t8 & Nacho Monreal & Arsenal & 31 & LB & 3 & 13.0 & 555 & $\\dots$ \\\\\n",
       "\t9 & Shkodran Mustafi & Arsenal & 25 & CB & 3 & 30.0 & 1877 & $\\dots$ \\\\\n",
       "\t10 & Alex Iwobi & Arsenal & 21 & LW & 1 & 10.0 & 1812 & $\\dots$ \\\\\n",
       "\\end{tabular}\n"
      ],
      "text/plain": [
       "\u001b[1m10×17 DataFrame\u001b[0m\n",
       "\u001b[1m Row \u001b[0m│\u001b[1m name              \u001b[0m\u001b[1m club     \u001b[0m\u001b[1m age   \u001b[0m\u001b[1m position \u001b[0m\u001b[1m position_cat \u001b[0m\u001b[1m market_valu\u001b[0m ⋯\n",
       "\u001b[1m     \u001b[0m│\u001b[90m String31          \u001b[0m\u001b[90m String31 \u001b[0m\u001b[90m Int64 \u001b[0m\u001b[90m String3  \u001b[0m\u001b[90m Int64        \u001b[0m\u001b[90m Float64    \u001b[0m ⋯\n",
       "─────┼──────────────────────────────────────────────────────────────────────────\n",
       "   1 │ Alexis Sanchez     Arsenal      28  LW                   1          65. ⋯\n",
       "   2 │ Mesut Ozil         Arsenal      28  AM                   1          50.\n",
       "   3 │ Petr Cech          Arsenal      35  GK                   4           7.\n",
       "   4 │ Theo Walcott       Arsenal      28  RW                   1          20.\n",
       "   5 │ Laurent Koscielny  Arsenal      31  CB                   3          22. ⋯\n",
       "   6 │ Hector Bellerin    Arsenal      22  RB                   3          30.\n",
       "   7 │ Olivier Giroud     Arsenal      30  CF                   1          22.\n",
       "   8 │ Nacho Monreal      Arsenal      31  LB                   3          13.\n",
       "   9 │ Shkodran Mustafi   Arsenal      25  CB                   3          30. ⋯\n",
       "  10 │ Alex Iwobi         Arsenal      21  LW                   1          10.\n",
       "\u001b[36m                                                              12 columns omitted\u001b[0m"
      ]
     },
     "execution_count": 18,
     "metadata": {},
     "output_type": "execute_result"
    }
   ],
   "source": [
    "#Your code for first\n",
    "first(league_df,10)"
   ]
  },
  {
   "cell_type": "markdown",
   "id": "8b8794af-52b2-4517-a35a-9bae1a2943cc",
   "metadata": {},
   "source": [
    "# References\n",
    "- [ ] [DataFrames.jl](https://dataframes.juliadata.org/)\n",
    "- [ ] [Importing and Exporting Data (I/O)](https://dataframes.juliadata.org/stable/man/importing_and_exporting)"
   ]
  },
  {
   "cell_type": "code",
   "execution_count": null,
   "id": "d1f134ae-7ef8-43ea-9c9c-13196c6818cd",
   "metadata": {},
   "outputs": [],
   "source": []
  }
 ],
 "metadata": {
  "kernelspec": {
   "display_name": "Julia 1.9.3",
   "language": "julia",
   "name": "julia-1.9"
  },
  "language_info": {
   "file_extension": ".jl",
   "mimetype": "application/julia",
   "name": "julia",
   "version": "1.9.3"
  }
 },
 "nbformat": 4,
 "nbformat_minor": 5
}

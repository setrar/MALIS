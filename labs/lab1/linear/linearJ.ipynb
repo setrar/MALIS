{
 "cells": [
  {
   "cell_type": "markdown",
   "id": "283f0a6f-afb1-4ba5-a464-12ca6b7d1345",
   "metadata": {},
   "source": [
    "# Part 2: Linear Regression\n",
    "\n",
    "\n",
    "In this part, we will be working with a dataset scraped by [Shubham Maurya](https://www.kaggle.com/mauryashubham/linear-regression-to-predict-market-value/data), which collects facts about players in the English Premier League as of 2017. His original goal was to establish if there was a relationship between a player's popularity and his market value, as estimated by transfermrkt.com.\n",
    "\n",
    "**Your goal is to fit a model able to predict a player's market value.**"
   ]
  },
  {
   "cell_type": "markdown",
   "id": "0848b48b-6880-40b9-9fbc-c5fdf2602adc",
   "metadata": {},
   "source": [
    "## The dataset\n",
    "\n",
    "The dataset contains the following information:\n",
    "\n",
    "<table >\n",
    "<tr>\n",
    "<th><b>Field</b></th>\n",
    "<th><b>Description</b></th>\n",
    "</tr>\n",
    "<tr><td> name </td><td> Name of the player </td></tr>\n",
    "<tr><td> club </td><td> Club of the player </td></tr>\n",
    "<tr><td> age </td><td> Age of the player </td></tr>\n",
    "<tr><td> position </td><td>  The usual position on the pitch </td><tr> \n",
    "<tr><td>position_cat</td><td> 1 for attackers, 2 for midfielders, 3 for defenders, 4 for goalkeepers</td></tr>\n",
    "<tr><td>market_value</td><td> As on transfermrkt.com on July 20th, 2017</td></tr>\n",
    "<tr><td>page_views</td><td> Average daily Wikipedia page views from September 1, 2016 to May 1, 2017</td></tr>\n",
    "<tr><td>fpl_value</td><td> Value in Fantasy Premier League as on July 20th, 2017</td></tr>\n",
    "<tr><td>fpl_sel</td><td> % of FPL players who have selected that player in their team</td></tr>\n",
    "<tr><td>fpl_points</td><td> FPL points accumulated over the previous season</td></tr>\n",
    "<tr><td>region</td><td> 1 for England, 2 for EU, 3 for Americas, 4 for Rest of World</td></tr>\n",
    "<tr><td>nationality</td><td> Player's nationality</td></tr>\n",
    "<tr><td>new_foreign</td><td> Whether a new signing from a different league, for 2017/18 (till 20th July)</td></tr>\n",
    "<tr><td>age_cat</td><td> a categorical version of the Age feature</td></tr>\n",
    "<tr><td>club_id</td><td> a numerical version of the Club feature</td></tr>\n",
    "<tr><td>big_club</td><td> Whether one of the Top 6 clubs</td></tr>\n",
    "<tr><td>new_signing</td><td> Whether a new signing for 2017/18 (till 20th July)</td></tr>\n",
    "<table>\n"
   ]
  },
  {
   "cell_type": "markdown",
   "id": "96ad5421-6ecd-473d-8814-bffe70749acc",
   "metadata": {},
   "source": [
    "## Exercise 1: Exploring the data\n",
    "The first step you need to do is to explore your data.\n",
    "\n",
    "We will start wil the necessary imports. In this exercise, we will be working with the library `pandas`. If you are not familiar with it, it is recommended that you follow the introductory exercises that can be found in the course's github repository."
   ]
  },
  {
   "cell_type": "code",
   "execution_count": 11,
   "id": "4280699b-45db-456d-9293-4436473eaaac",
   "metadata": {},
   "outputs": [],
   "source": [
    "using DataFrames, CSV"
   ]
  },
  {
   "cell_type": "markdown",
   "id": "8ee9f4ca-7356-40c5-a717-e6e9c881dfa1",
   "metadata": {},
   "source": [
    "We will now proceed to read the dataset:"
   ]
  },
  {
   "cell_type": "code",
   "execution_count": 39,
   "id": "c9678294-ea42-4083-9e48-4e8ceef90027",
   "metadata": {},
   "outputs": [
    {
     "data": {
      "text/html": [
       "<div class=\"data-frame\"><p>461 rows × 17 columns (omitted printing of 11 columns)</p><table class=\"data-frame\"><thead><tr><th></th><th>name</th><th>club</th><th>age</th><th>position</th><th>position_cat</th><th>market_value</th></tr><tr><th></th><th title=\"String31\">String31</th><th title=\"String31\">String31</th><th title=\"Int64\">Int64</th><th title=\"String3\">String3</th><th title=\"Int64\">Int64</th><th title=\"Float64\">Float64</th></tr></thead><tbody><tr><th>1</th><td>Alexis Sanchez</td><td>Arsenal</td><td>28</td><td>LW</td><td>1</td><td>65.0</td></tr><tr><th>2</th><td>Mesut Ozil</td><td>Arsenal</td><td>28</td><td>AM</td><td>1</td><td>50.0</td></tr><tr><th>3</th><td>Petr Cech</td><td>Arsenal</td><td>35</td><td>GK</td><td>4</td><td>7.0</td></tr><tr><th>4</th><td>Theo Walcott</td><td>Arsenal</td><td>28</td><td>RW</td><td>1</td><td>20.0</td></tr><tr><th>5</th><td>Laurent Koscielny</td><td>Arsenal</td><td>31</td><td>CB</td><td>3</td><td>22.0</td></tr><tr><th>6</th><td>Hector Bellerin</td><td>Arsenal</td><td>22</td><td>RB</td><td>3</td><td>30.0</td></tr><tr><th>7</th><td>Olivier Giroud</td><td>Arsenal</td><td>30</td><td>CF</td><td>1</td><td>22.0</td></tr><tr><th>8</th><td>Nacho Monreal</td><td>Arsenal</td><td>31</td><td>LB</td><td>3</td><td>13.0</td></tr><tr><th>9</th><td>Shkodran Mustafi</td><td>Arsenal</td><td>25</td><td>CB</td><td>3</td><td>30.0</td></tr><tr><th>10</th><td>Alex Iwobi</td><td>Arsenal</td><td>21</td><td>LW</td><td>1</td><td>10.0</td></tr><tr><th>11</th><td>Granit Xhaka</td><td>Arsenal</td><td>24</td><td>DM</td><td>2</td><td>35.0</td></tr><tr><th>12</th><td>Alex Oxlade-Chamberlain</td><td>Arsenal</td><td>23</td><td>RM</td><td>2</td><td>22.0</td></tr><tr><th>13</th><td>Jack Wilshere</td><td>Arsenal</td><td>25</td><td>CM</td><td>2</td><td>18.0</td></tr><tr><th>14</th><td>Aaron Ramsey</td><td>Arsenal</td><td>26</td><td>CM</td><td>2</td><td>35.0</td></tr><tr><th>15</th><td>Francis Coquelin</td><td>Arsenal</td><td>26</td><td>DM</td><td>2</td><td>15.0</td></tr><tr><th>16</th><td>Gabriel Paulista</td><td>Arsenal</td><td>26</td><td>CB</td><td>3</td><td>13.0</td></tr><tr><th>17</th><td>Kieran Gibbs</td><td>Arsenal</td><td>27</td><td>LB</td><td>3</td><td>10.0</td></tr><tr><th>18</th><td>Santi Cazorla</td><td>Arsenal</td><td>32</td><td>CM</td><td>2</td><td>12.0</td></tr><tr><th>19</th><td>Danny Welbeck</td><td>Arsenal</td><td>26</td><td>CF</td><td>1</td><td>15.0</td></tr><tr><th>20</th><td>Rob Holding</td><td>Arsenal</td><td>21</td><td>CB</td><td>3</td><td>7.0</td></tr><tr><th>21</th><td>Mohamed Elneny</td><td>Arsenal</td><td>25</td><td>DM</td><td>2</td><td>10.0</td></tr><tr><th>22</th><td>Lucas Perez</td><td>Arsenal</td><td>28</td><td>CF</td><td>1</td><td>15.0</td></tr><tr><th>23</th><td>Emiliano Martinez</td><td>Arsenal</td><td>24</td><td>GK</td><td>4</td><td>1.0</td></tr><tr><th>24</th><td>David Ospina</td><td>Arsenal</td><td>28</td><td>GK</td><td>4</td><td>7.0</td></tr><tr><th>25</th><td>Carl Jenkinson</td><td>Arsenal</td><td>25</td><td>RB</td><td>3</td><td>5.0</td></tr><tr><th>26</th><td>Per Mertesacker</td><td>Arsenal</td><td>32</td><td>CB</td><td>3</td><td>6.0</td></tr><tr><th>27</th><td>Sead Kolasinac</td><td>Arsenal</td><td>24</td><td>LB</td><td>3</td><td>15.0</td></tr><tr><th>28</th><td>Alexandre Lacazette</td><td>Arsenal</td><td>26</td><td>CF</td><td>1</td><td>40.0</td></tr><tr><th>29</th><td>Joshua King</td><td>Bournemouth</td><td>25</td><td>SS</td><td>1</td><td>8.0</td></tr><tr><th>30</th><td>Jermain Defoe</td><td>Bournemouth</td><td>34</td><td>CF</td><td>1</td><td>5.0</td></tr><tr><th>&vellip;</th><td>&vellip;</td><td>&vellip;</td><td>&vellip;</td><td>&vellip;</td><td>&vellip;</td><td>&vellip;</td></tr></tbody></table></div>"
      ],
      "text/latex": [
       "\\begin{tabular}{r|ccccccc}\n",
       "\t& name & club & age & position & position\\_cat & market\\_value & \\\\\n",
       "\t\\hline\n",
       "\t& String31 & String31 & Int64 & String3 & Int64 & Float64 & \\\\\n",
       "\t\\hline\n",
       "\t1 & Alexis Sanchez & Arsenal & 28 & LW & 1 & 65.0 & $\\dots$ \\\\\n",
       "\t2 & Mesut Ozil & Arsenal & 28 & AM & 1 & 50.0 & $\\dots$ \\\\\n",
       "\t3 & Petr Cech & Arsenal & 35 & GK & 4 & 7.0 & $\\dots$ \\\\\n",
       "\t4 & Theo Walcott & Arsenal & 28 & RW & 1 & 20.0 & $\\dots$ \\\\\n",
       "\t5 & Laurent Koscielny & Arsenal & 31 & CB & 3 & 22.0 & $\\dots$ \\\\\n",
       "\t6 & Hector Bellerin & Arsenal & 22 & RB & 3 & 30.0 & $\\dots$ \\\\\n",
       "\t7 & Olivier Giroud & Arsenal & 30 & CF & 1 & 22.0 & $\\dots$ \\\\\n",
       "\t8 & Nacho Monreal & Arsenal & 31 & LB & 3 & 13.0 & $\\dots$ \\\\\n",
       "\t9 & Shkodran Mustafi & Arsenal & 25 & CB & 3 & 30.0 & $\\dots$ \\\\\n",
       "\t10 & Alex Iwobi & Arsenal & 21 & LW & 1 & 10.0 & $\\dots$ \\\\\n",
       "\t11 & Granit Xhaka & Arsenal & 24 & DM & 2 & 35.0 & $\\dots$ \\\\\n",
       "\t12 & Alex Oxlade-Chamberlain & Arsenal & 23 & RM & 2 & 22.0 & $\\dots$ \\\\\n",
       "\t13 & Jack Wilshere & Arsenal & 25 & CM & 2 & 18.0 & $\\dots$ \\\\\n",
       "\t14 & Aaron Ramsey & Arsenal & 26 & CM & 2 & 35.0 & $\\dots$ \\\\\n",
       "\t15 & Francis Coquelin & Arsenal & 26 & DM & 2 & 15.0 & $\\dots$ \\\\\n",
       "\t16 & Gabriel Paulista & Arsenal & 26 & CB & 3 & 13.0 & $\\dots$ \\\\\n",
       "\t17 & Kieran Gibbs & Arsenal & 27 & LB & 3 & 10.0 & $\\dots$ \\\\\n",
       "\t18 & Santi Cazorla & Arsenal & 32 & CM & 2 & 12.0 & $\\dots$ \\\\\n",
       "\t19 & Danny Welbeck & Arsenal & 26 & CF & 1 & 15.0 & $\\dots$ \\\\\n",
       "\t20 & Rob Holding & Arsenal & 21 & CB & 3 & 7.0 & $\\dots$ \\\\\n",
       "\t21 & Mohamed Elneny & Arsenal & 25 & DM & 2 & 10.0 & $\\dots$ \\\\\n",
       "\t22 & Lucas Perez & Arsenal & 28 & CF & 1 & 15.0 & $\\dots$ \\\\\n",
       "\t23 & Emiliano Martinez & Arsenal & 24 & GK & 4 & 1.0 & $\\dots$ \\\\\n",
       "\t24 & David Ospina & Arsenal & 28 & GK & 4 & 7.0 & $\\dots$ \\\\\n",
       "\t25 & Carl Jenkinson & Arsenal & 25 & RB & 3 & 5.0 & $\\dots$ \\\\\n",
       "\t26 & Per Mertesacker & Arsenal & 32 & CB & 3 & 6.0 & $\\dots$ \\\\\n",
       "\t27 & Sead Kolasinac & Arsenal & 24 & LB & 3 & 15.0 & $\\dots$ \\\\\n",
       "\t28 & Alexandre Lacazette & Arsenal & 26 & CF & 1 & 40.0 & $\\dots$ \\\\\n",
       "\t29 & Joshua King & Bournemouth & 25 & SS & 1 & 8.0 & $\\dots$ \\\\\n",
       "\t30 & Jermain Defoe & Bournemouth & 34 & CF & 1 & 5.0 & $\\dots$ \\\\\n",
       "\t$\\dots$ & $\\dots$ & $\\dots$ & $\\dots$ & $\\dots$ & $\\dots$ & $\\dots$ &  \\\\\n",
       "\\end{tabular}\n"
      ],
      "text/plain": [
       "\u001b[1m461×17 DataFrame\u001b[0m\n",
       "\u001b[1m Row \u001b[0m│\u001b[1m name                    \u001b[0m\u001b[1m club     \u001b[0m\u001b[1m age   \u001b[0m\u001b[1m position \u001b[0m\u001b[1m position_cat \u001b[0m\u001b[1m marke\u001b[0m ⋯\n",
       "\u001b[1m     \u001b[0m│\u001b[90m String31                \u001b[0m\u001b[90m String31 \u001b[0m\u001b[90m Int64 \u001b[0m\u001b[90m String3  \u001b[0m\u001b[90m Int64        \u001b[0m\u001b[90m Float\u001b[0m ⋯\n",
       "─────┼──────────────────────────────────────────────────────────────────────────\n",
       "   1 │ Alexis Sanchez           Arsenal      28  LW                   1        ⋯\n",
       "   2 │ Mesut Ozil               Arsenal      28  AM                   1\n",
       "   3 │ Petr Cech                Arsenal      35  GK                   4\n",
       "   4 │ Theo Walcott             Arsenal      28  RW                   1\n",
       "   5 │ Laurent Koscielny        Arsenal      31  CB                   3        ⋯\n",
       "   6 │ Hector Bellerin          Arsenal      22  RB                   3\n",
       "   7 │ Olivier Giroud           Arsenal      30  CF                   1\n",
       "   8 │ Nacho Monreal            Arsenal      31  LB                   3\n",
       "   9 │ Shkodran Mustafi         Arsenal      25  CB                   3        ⋯\n",
       "  10 │ Alex Iwobi               Arsenal      21  LW                   1\n",
       "  11 │ Granit Xhaka             Arsenal      24  DM                   2\n",
       "  ⋮  │            ⋮                ⋮        ⋮       ⋮           ⋮              ⋱\n",
       " 452 │ Aaron Cresswell          West+Ham     27  LB                   3\n",
       " 453 │ Pedro Obiang             West+Ham     25  CM                   2        ⋯\n",
       " 454 │ Sofiane Feghouli         West+Ham     27  RW                   1\n",
       " 455 │ Angelo Ogbonna           West+Ham     29  CB                   3\n",
       " 456 │ Pablo Zabaleta           West+Ham     32  RB                   3\n",
       " 457 │ Edimilson Fernandes      West+Ham     21  CM                   2        ⋯\n",
       " 458 │ Arthur Masuaku           West+Ham     23  LB                   3\n",
       " 459 │ Sam Byram                West+Ham     23  RB                   3\n",
       " 460 │ Ashley Fletcher          West+Ham     21  CF                   1\n",
       " 461 │ Diafra Sakho             West+Ham     27  CF                   1        ⋯\n",
       "\u001b[36m                                                 12 columns and 440 rows omitted\u001b[0m"
      ]
     },
     "execution_count": 39,
     "metadata": {},
     "output_type": "execute_result"
    }
   ],
   "source": [
    "league_df = CSV.read(joinpath(\"data\", \"football_data.csv\"), DataFrame) #Reads a CSV file"
   ]
  },
  {
   "cell_type": "markdown",
   "id": "1b698061-3c70-4ec7-897c-37ae930a0809",
   "metadata": {},
   "source": [
    "### Task 1.1: Using DataFrames for data exploration\n",
    "Use the method `first(name_dataframe, N)` (N is the number of entries) to look at the first instances of the dataframe. \n",
    "\n",
    "Then, use the method `describe(name_dataframe)` to generate descriptive statistics that summarize each field of the dataframe. \n",
    "\n",
    "Finally, print the result of `@view name_dataframe`, in this way you print out the data types associated to each of the fields in the table "
   ]
  },
  {
   "cell_type": "code",
   "execution_count": 41,
   "id": "2c45426d-4f4a-4134-ad43-e7829fa4c621",
   "metadata": {},
   "outputs": [
    {
     "data": {
      "text/html": [
       "<div class=\"data-frame\"><p>10 rows × 17 columns (omitted printing of 10 columns)</p><table class=\"data-frame\"><thead><tr><th></th><th>name</th><th>club</th><th>age</th><th>position</th><th>position_cat</th><th>market_value</th><th>page_views</th></tr><tr><th></th><th title=\"String31\">String31</th><th title=\"String31\">String31</th><th title=\"Int64\">Int64</th><th title=\"String3\">String3</th><th title=\"Int64\">Int64</th><th title=\"Float64\">Float64</th><th title=\"Int64\">Int64</th></tr></thead><tbody><tr><th>1</th><td>Alexis Sanchez</td><td>Arsenal</td><td>28</td><td>LW</td><td>1</td><td>65.0</td><td>4329</td></tr><tr><th>2</th><td>Mesut Ozil</td><td>Arsenal</td><td>28</td><td>AM</td><td>1</td><td>50.0</td><td>4395</td></tr><tr><th>3</th><td>Petr Cech</td><td>Arsenal</td><td>35</td><td>GK</td><td>4</td><td>7.0</td><td>1529</td></tr><tr><th>4</th><td>Theo Walcott</td><td>Arsenal</td><td>28</td><td>RW</td><td>1</td><td>20.0</td><td>2393</td></tr><tr><th>5</th><td>Laurent Koscielny</td><td>Arsenal</td><td>31</td><td>CB</td><td>3</td><td>22.0</td><td>912</td></tr><tr><th>6</th><td>Hector Bellerin</td><td>Arsenal</td><td>22</td><td>RB</td><td>3</td><td>30.0</td><td>1675</td></tr><tr><th>7</th><td>Olivier Giroud</td><td>Arsenal</td><td>30</td><td>CF</td><td>1</td><td>22.0</td><td>2230</td></tr><tr><th>8</th><td>Nacho Monreal</td><td>Arsenal</td><td>31</td><td>LB</td><td>3</td><td>13.0</td><td>555</td></tr><tr><th>9</th><td>Shkodran Mustafi</td><td>Arsenal</td><td>25</td><td>CB</td><td>3</td><td>30.0</td><td>1877</td></tr><tr><th>10</th><td>Alex Iwobi</td><td>Arsenal</td><td>21</td><td>LW</td><td>1</td><td>10.0</td><td>1812</td></tr></tbody></table></div>"
      ],
      "text/latex": [
       "\\begin{tabular}{r|cccccccc}\n",
       "\t& name & club & age & position & position\\_cat & market\\_value & page\\_views & \\\\\n",
       "\t\\hline\n",
       "\t& String31 & String31 & Int64 & String3 & Int64 & Float64 & Int64 & \\\\\n",
       "\t\\hline\n",
       "\t1 & Alexis Sanchez & Arsenal & 28 & LW & 1 & 65.0 & 4329 & $\\dots$ \\\\\n",
       "\t2 & Mesut Ozil & Arsenal & 28 & AM & 1 & 50.0 & 4395 & $\\dots$ \\\\\n",
       "\t3 & Petr Cech & Arsenal & 35 & GK & 4 & 7.0 & 1529 & $\\dots$ \\\\\n",
       "\t4 & Theo Walcott & Arsenal & 28 & RW & 1 & 20.0 & 2393 & $\\dots$ \\\\\n",
       "\t5 & Laurent Koscielny & Arsenal & 31 & CB & 3 & 22.0 & 912 & $\\dots$ \\\\\n",
       "\t6 & Hector Bellerin & Arsenal & 22 & RB & 3 & 30.0 & 1675 & $\\dots$ \\\\\n",
       "\t7 & Olivier Giroud & Arsenal & 30 & CF & 1 & 22.0 & 2230 & $\\dots$ \\\\\n",
       "\t8 & Nacho Monreal & Arsenal & 31 & LB & 3 & 13.0 & 555 & $\\dots$ \\\\\n",
       "\t9 & Shkodran Mustafi & Arsenal & 25 & CB & 3 & 30.0 & 1877 & $\\dots$ \\\\\n",
       "\t10 & Alex Iwobi & Arsenal & 21 & LW & 1 & 10.0 & 1812 & $\\dots$ \\\\\n",
       "\\end{tabular}\n"
      ],
      "text/plain": [
       "\u001b[1m10×17 DataFrame\u001b[0m\n",
       "\u001b[1m Row \u001b[0m│\u001b[1m name              \u001b[0m\u001b[1m club     \u001b[0m\u001b[1m age   \u001b[0m\u001b[1m position \u001b[0m\u001b[1m position_cat \u001b[0m\u001b[1m market_valu\u001b[0m ⋯\n",
       "\u001b[1m     \u001b[0m│\u001b[90m String31          \u001b[0m\u001b[90m String31 \u001b[0m\u001b[90m Int64 \u001b[0m\u001b[90m String3  \u001b[0m\u001b[90m Int64        \u001b[0m\u001b[90m Float64    \u001b[0m ⋯\n",
       "─────┼──────────────────────────────────────────────────────────────────────────\n",
       "   1 │ Alexis Sanchez     Arsenal      28  LW                   1          65. ⋯\n",
       "   2 │ Mesut Ozil         Arsenal      28  AM                   1          50.\n",
       "   3 │ Petr Cech          Arsenal      35  GK                   4           7.\n",
       "   4 │ Theo Walcott       Arsenal      28  RW                   1          20.\n",
       "   5 │ Laurent Koscielny  Arsenal      31  CB                   3          22. ⋯\n",
       "   6 │ Hector Bellerin    Arsenal      22  RB                   3          30.\n",
       "   7 │ Olivier Giroud     Arsenal      30  CF                   1          22.\n",
       "   8 │ Nacho Monreal      Arsenal      31  LB                   3          13.\n",
       "   9 │ Shkodran Mustafi   Arsenal      25  CB                   3          30. ⋯\n",
       "  10 │ Alex Iwobi         Arsenal      21  LW                   1          10.\n",
       "\u001b[36m                                                              12 columns omitted\u001b[0m"
      ]
     },
     "execution_count": 41,
     "metadata": {},
     "output_type": "execute_result"
    }
   ],
   "source": [
    "#Your code for first\n",
    "first(league_df,10)"
   ]
  },
  {
   "cell_type": "code",
   "execution_count": 19,
   "id": "6b3da77f-7d50-407f-bbd8-679c3718bb4f",
   "metadata": {},
   "outputs": [
    {
     "data": {
      "text/html": [
       "<div class=\"data-frame\"><p>17 rows × 7 columns (omitted printing of 1 columns)</p><table class=\"data-frame\"><thead><tr><th></th><th>variable</th><th>mean</th><th>min</th><th>median</th><th>max</th><th>nmissing</th></tr><tr><th></th><th title=\"Symbol\">Symbol</th><th title=\"Union{Nothing, Float64}\">Union…</th><th title=\"Any\">Any</th><th title=\"Union{Nothing, Float64}\">Union…</th><th title=\"Any\">Any</th><th title=\"Int64\">Int64</th></tr></thead><tbody><tr><th>1</th><td>name</td><td></td><td>Aaron Cresswell</td><td></td><td>Å\\u81ukasz FabiaÅ„ski</td><td>0</td></tr><tr><th>2</th><td>club</td><td></td><td>Arsenal</td><td></td><td>West+Ham</td><td>0</td></tr><tr><th>3</th><td>age</td><td>26.8048</td><td>17</td><td>27.0</td><td>38</td><td>0</td></tr><tr><th>4</th><td>position</td><td></td><td>AM</td><td></td><td>SS</td><td>0</td></tr><tr><th>5</th><td>position_cat</td><td>2.18004</td><td>1</td><td>2.0</td><td>4</td><td>0</td></tr><tr><th>6</th><td>market_value</td><td>11.012</td><td>0.05</td><td>7.0</td><td>75.0</td><td>0</td></tr><tr><th>7</th><td>page_views</td><td>763.777</td><td>3</td><td>460.0</td><td>7664</td><td>0</td></tr><tr><th>8</th><td>fpl_value</td><td>5.44794</td><td>4.0</td><td>5.0</td><td>12.5</td><td>0</td></tr><tr><th>9</th><td>fpl_sel</td><td></td><td>0.00%</td><td></td><td>9.70%</td><td>0</td></tr><tr><th>10</th><td>fpl_points</td><td>57.3145</td><td>0</td><td>51.0</td><td>264</td><td>0</td></tr><tr><th>11</th><td>region</td><td></td><td>1</td><td></td><td>NA</td><td>0</td></tr><tr><th>12</th><td>nationality</td><td></td><td>Algeria</td><td></td><td>Wales</td><td>0</td></tr><tr><th>13</th><td>new_foreign</td><td>0.0347072</td><td>0</td><td>0.0</td><td>1</td><td>0</td></tr><tr><th>14</th><td>age_cat</td><td>3.20607</td><td>1</td><td>3.0</td><td>6</td><td>0</td></tr><tr><th>15</th><td>club_id</td><td>10.3341</td><td>1</td><td>10.0</td><td>20</td><td>0</td></tr><tr><th>16</th><td>big_club</td><td>0.303688</td><td>0</td><td>0.0</td><td>1</td><td>0</td></tr><tr><th>17</th><td>new_signing</td><td>0.145336</td><td>0</td><td>0.0</td><td>1</td><td>0</td></tr></tbody></table></div>"
      ],
      "text/latex": [
       "\\begin{tabular}{r|ccccccc}\n",
       "\t& variable & mean & min & median & max & nmissing & \\\\\n",
       "\t\\hline\n",
       "\t& Symbol & Union… & Any & Union… & Any & Int64 & \\\\\n",
       "\t\\hline\n",
       "\t1 & name &  & Aaron Cresswell &  & Å\\textbackslash{}u81ukasz FabiaÅ„ski & 0 & $\\dots$ \\\\\n",
       "\t2 & club &  & Arsenal &  & West+Ham & 0 & $\\dots$ \\\\\n",
       "\t3 & age & 26.8048 & 17 & 27.0 & 38 & 0 & $\\dots$ \\\\\n",
       "\t4 & position &  & AM &  & SS & 0 & $\\dots$ \\\\\n",
       "\t5 & position\\_cat & 2.18004 & 1 & 2.0 & 4 & 0 & $\\dots$ \\\\\n",
       "\t6 & market\\_value & 11.012 & 0.05 & 7.0 & 75.0 & 0 & $\\dots$ \\\\\n",
       "\t7 & page\\_views & 763.777 & 3 & 460.0 & 7664 & 0 & $\\dots$ \\\\\n",
       "\t8 & fpl\\_value & 5.44794 & 4.0 & 5.0 & 12.5 & 0 & $\\dots$ \\\\\n",
       "\t9 & fpl\\_sel &  & 0.00\\% &  & 9.70\\% & 0 & $\\dots$ \\\\\n",
       "\t10 & fpl\\_points & 57.3145 & 0 & 51.0 & 264 & 0 & $\\dots$ \\\\\n",
       "\t11 & region &  & 1 &  & NA & 0 & $\\dots$ \\\\\n",
       "\t12 & nationality &  & Algeria &  & Wales & 0 & $\\dots$ \\\\\n",
       "\t13 & new\\_foreign & 0.0347072 & 0 & 0.0 & 1 & 0 & $\\dots$ \\\\\n",
       "\t14 & age\\_cat & 3.20607 & 1 & 3.0 & 6 & 0 & $\\dots$ \\\\\n",
       "\t15 & club\\_id & 10.3341 & 1 & 10.0 & 20 & 0 & $\\dots$ \\\\\n",
       "\t16 & big\\_club & 0.303688 & 0 & 0.0 & 1 & 0 & $\\dots$ \\\\\n",
       "\t17 & new\\_signing & 0.145336 & 0 & 0.0 & 1 & 0 & $\\dots$ \\\\\n",
       "\\end{tabular}\n"
      ],
      "text/plain": [
       "\u001b[1m17×7 DataFrame\u001b[0m\n",
       "\u001b[1m Row \u001b[0m│\u001b[1m variable     \u001b[0m\u001b[1m mean      \u001b[0m\u001b[1m min             \u001b[0m\u001b[1m median \u001b[0m\u001b[1m max                  \u001b[0m ⋯\n",
       "\u001b[1m     \u001b[0m│\u001b[90m Symbol       \u001b[0m\u001b[90m Union…    \u001b[0m\u001b[90m Any             \u001b[0m\u001b[90m Union… \u001b[0m\u001b[90m Any                  \u001b[0m ⋯\n",
       "─────┼──────────────────────────────────────────────────────────────────────────\n",
       "   1 │ name         \u001b[90m           \u001b[0m Aaron Cresswell \u001b[90m        \u001b[0m Å\\u81ukasz FabiaÅ„ski ⋯\n",
       "   2 │ club         \u001b[90m           \u001b[0m Arsenal         \u001b[90m        \u001b[0m West+Ham\n",
       "   3 │ age           26.8048    17               27.0    38\n",
       "   4 │ position     \u001b[90m           \u001b[0m AM              \u001b[90m        \u001b[0m SS\n",
       "   5 │ position_cat  2.18004    1                2.0     4                     ⋯\n",
       "   6 │ market_value  11.012     0.05             7.0     75.0\n",
       "   7 │ page_views    763.777    3                460.0   7664\n",
       "   8 │ fpl_value     5.44794    4.0              5.0     12.5\n",
       "   9 │ fpl_sel      \u001b[90m           \u001b[0m 0.00%           \u001b[90m        \u001b[0m 9.70%                 ⋯\n",
       "  10 │ fpl_points    57.3145    0                51.0    264\n",
       "  11 │ region       \u001b[90m           \u001b[0m 1               \u001b[90m        \u001b[0m NA\n",
       "  12 │ nationality  \u001b[90m           \u001b[0m Algeria         \u001b[90m        \u001b[0m Wales\n",
       "  13 │ new_foreign   0.0347072  0                0.0     1                     ⋯\n",
       "  14 │ age_cat       3.20607    1                3.0     6\n",
       "  15 │ club_id       10.3341    1                10.0    20\n",
       "  16 │ big_club      0.303688   0                0.0     1\n",
       "  17 │ new_signing   0.145336   0                0.0     1                     ⋯\n",
       "\u001b[36m                                                               2 columns omitted\u001b[0m"
      ]
     },
     "execution_count": 19,
     "metadata": {},
     "output_type": "execute_result"
    }
   ],
   "source": [
    "#Your code for describe\n",
    "describe(league_df)"
   ]
  },
  {
   "cell_type": "code",
   "execution_count": 59,
   "id": "6cfce02c-6f56-4ed7-a9c3-e554e64facff",
   "metadata": {},
   "outputs": [
    {
     "data": {
      "text/html": [
       "<p>DataFrameRow (17 columns)</p><div class=\"data-frame\"><table class=\"data-frame\"><thead><tr><th></th><th>name</th><th>club</th><th>age</th><th>position</th><th>position_cat</th><th>market_value</th><th>page_views</th></tr><tr><th></th><th title=\"String31\">String31</th><th title=\"String31\">String31</th><th title=\"Int64\">Int64</th><th title=\"String3\">String3</th><th title=\"Int64\">Int64</th><th title=\"Float64\">Float64</th><th title=\"Int64\">Int64</th></tr></thead><tbody><tr><th>461</th><td>Diafra Sakho</td><td>West+Ham</td><td>27</td><td>CF</td><td>1</td><td>10.0</td><td>214</td></tr></tbody></table></div>"
      ],
      "text/latex": [
       "\\begin{tabular}{r|cccccccc}\n",
       "\t& name & club & age & position & position\\_cat & market\\_value & page\\_views & \\\\\n",
       "\t\\hline\n",
       "\t& String31 & String31 & Int64 & String3 & Int64 & Float64 & Int64 & \\\\\n",
       "\t\\hline\n",
       "\t461 & Diafra Sakho & West+Ham & 27 & CF & 1 & 10.0 & 214 & $\\dots$ \\\\\n",
       "\\end{tabular}\n"
      ],
      "text/plain": [
       "\u001b[1mDataFrameRow\u001b[0m\n",
       "\u001b[1m Row \u001b[0m│\u001b[1m name         \u001b[0m\u001b[1m club     \u001b[0m\u001b[1m age   \u001b[0m\u001b[1m position \u001b[0m\u001b[1m position_cat \u001b[0m\u001b[1m market_value \u001b[0m\u001b[1m pa\u001b[0m ⋯\n",
       "\u001b[1m     \u001b[0m│\u001b[90m String31     \u001b[0m\u001b[90m String31 \u001b[0m\u001b[90m Int64 \u001b[0m\u001b[90m String3  \u001b[0m\u001b[90m Int64        \u001b[0m\u001b[90m Float64      \u001b[0m\u001b[90m In\u001b[0m ⋯\n",
       "─────┼──────────────────────────────────────────────────────────────────────────\n",
       " 461 │ Diafra Sakho  West+Ham     27  CF                   1          10.0     ⋯\n",
       "\u001b[36m                                                              11 columns omitted\u001b[0m"
      ]
     },
     "execution_count": 59,
     "metadata": {},
     "output_type": "execute_result"
    }
   ],
   "source": [
    "#Your code for d_type\n",
    "@view league_df[end, :] # Issue: not displaying all the columns"
   ]
  },
  {
   "cell_type": "markdown",
   "id": "ffbf46f3-7c0b-412c-96f5-37b7efb7750d",
   "metadata": {},
   "source": [
    "### Question set 1.1: About the data\n",
    "1. What is the name of the appearing in the 7th record of the dataset?\n",
    "2. What is the mean age in the English Premier League (in 2017)? \n",
    "3. What fields store a continuous value?"
   ]
  },
  {
   "cell_type": "code",
   "execution_count": 82,
   "id": "8beb4377-73f0-466b-bb36-6018e029ef28",
   "metadata": {},
   "outputs": [
    {
     "data": {
      "text/html": [
       "<div class=\"data-frame\"><p>2 rows × 2 columns</p><table class=\"data-frame\"><thead><tr><th></th><th>English_Premier_League</th><th>mean_age</th></tr><tr><th></th><th title=\"Bool\">Bool</th><th title=\"Float64\">Float64</th></tr></thead><tbody><tr><th>1</th><td>0</td><td>27.2098</td></tr><tr><th>2</th><td>1</td><td>26.0128</td></tr></tbody></table></div>"
      ],
      "text/latex": [
       "\\begin{tabular}{r|cc}\n",
       "\t& English\\_Premier\\_League & mean\\_age\\\\\n",
       "\t\\hline\n",
       "\t& Bool & Float64\\\\\n",
       "\t\\hline\n",
       "\t1 & 0 & 27.2098 \\\\\n",
       "\t2 & 1 & 26.0128 \\\\\n",
       "\\end{tabular}\n"
      ],
      "text/plain": [
       "\u001b[1m2×2 DataFrame\u001b[0m\n",
       "\u001b[1m Row \u001b[0m│\u001b[1m English_Premier_League \u001b[0m\u001b[1m mean_age \u001b[0m\n",
       "\u001b[1m     \u001b[0m│\u001b[90m Bool                   \u001b[0m\u001b[90m Float64  \u001b[0m\n",
       "─────┼──────────────────────────────────\n",
       "   1 │                  false   27.2098\n",
       "   2 │                   true   26.0128"
      ]
     },
     "execution_count": 82,
     "metadata": {},
     "output_type": "execute_result"
    }
   ],
   "source": [
    "using DataFrameMacros, Chain, Statistics\n",
    "@chain league_df begin\n",
    "          @groupby :English_Premier_League = :nationality == \"England\"\n",
    "          @combine \"mean_{}\" = mean(:age)\n",
    "       end"
   ]
  },
  {
   "cell_type": "markdown",
   "id": "8b8794af-52b2-4517-a35a-9bae1a2943cc",
   "metadata": {},
   "source": [
    "# References\n",
    "- [ ] [DataFrames.jl](https://dataframes.juliadata.org/)\n",
    "- [ ] [Importing and Exporting Data (I/O)](https://dataframes.juliadata.org/stable/man/importing_and_exporting)\n",
    "- [ ] [Summarizing Data](https://dataframes.juliadata.org/stable/man/working_with_dataframes/#Summarizing-Data)\n",
    "- [ ] [Compares DataFrames.jl with other data manipulation frameworks in Python, R, and Stata.](https://dataframes.juliadata.org/stable/man/comparisons/)"
   ]
  },
  {
   "cell_type": "code",
   "execution_count": null,
   "id": "d1f134ae-7ef8-43ea-9c9c-13196c6818cd",
   "metadata": {},
   "outputs": [],
   "source": []
  }
 ],
 "metadata": {
  "kernelspec": {
   "display_name": "Julia 1.9.3",
   "language": "julia",
   "name": "julia-1.9"
  },
  "language_info": {
   "file_extension": ".jl",
   "mimetype": "application/julia",
   "name": "julia",
   "version": "1.9.3"
  }
 },
 "nbformat": 4,
 "nbformat_minor": 5
}

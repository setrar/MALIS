{
 "cells": [
  {
   "cell_type": "code",
   "execution_count": null,
   "id": "22e459f5-95e8-4ba2-8880-c4f52335abfd",
   "metadata": {},
   "outputs": [],
   "source": [
    "using Gadfly         # Plot Library\n",
    "using Distributions  # juliastats Distribution Library"
   ]
  },
  {
   "cell_type": "code",
   "execution_count": null,
   "id": "06264b37-fff6-461a-8b86-146d6d226007",
   "metadata": {},
   "outputs": [],
   "source": [
    "∑(X) = sum(X)\n",
    "𝜨 = Normal()"
   ]
  },
  {
   "cell_type": "code",
   "execution_count": null,
   "id": "49b7bcc2-d7d7-4344-a320-68f4dbb34389",
   "metadata": {},
   "outputs": [],
   "source": [
    "function ∇(x, y, b)\n",
    "    ∑(- (y - b*x)' * x) # Note the (y - b*x) prime\n",
    "end"
   ]
  },
  {
   "cell_type": "code",
   "execution_count": null,
   "id": "1375e367-d301-4fa3-b4c1-1d4915fc2a5f",
   "metadata": {},
   "outputs": [],
   "source": [
    "function ploT(x, y, b, bvals)\n",
    "    plot(Guide.title(\"True beta: 2, est. beta: \" * string(b)),\n",
    "    layer(x=x, y=y, Geom.point(), Theme(default_color=color(\"orange\"))),\n",
    "    layer(x=x,y=x*bvals[1], Geom.line(), Theme(default_color=color(\"red\"))),\n",
    "    layer(x=x,y=x*bvals[5], Geom.line(), Theme(default_color=color(\"red\"))),\n",
    "    layer(x=x,y=x*b, Geom.line()), Theme(default_color=color(\"yellow\")))\n",
    "end"
   ]
  },
  {
   "cell_type": "code",
   "execution_count": null,
   "id": "c3a49e42-8fa0-4729-b2aa-2aef1794b210",
   "metadata": {},
   "outputs": [],
   "source": [
    "function gradient_descent(x, y)\n",
    "   b    = 0.0\n",
    "   bold = 1.0\n",
    "   bvals = Float64[]\n",
    "   while (∑(abs(b - bold)) > 1e-10)\n",
    "       push!(bvals, b)\n",
    "       bold = b\n",
    "       der = ∇(x, y, bold)\n",
    "       b   =  b - 0.001 * der\n",
    "   end\n",
    "   return b, bvals\n",
    "end"
   ]
  },
  {
   "cell_type": "code",
   "execution_count": null,
   "id": "9217b0eb-d22e-4321-a65f-a5f920c0bf5b",
   "metadata": {},
   "outputs": [],
   "source": [
    "x = rand(𝜨, 100)\n",
    "𝒘 = rand(𝜨, 100)\n",
    "y = 2x + 𝒘\n",
    "b, bvals = gradient_descent(x, y)\n",
    "ploT(x, y, b, bvals)"
   ]
  },
  {
   "cell_type": "markdown",
   "id": "e6f360df-8568-4181-96aa-3fee5a9d535f",
   "metadata": {},
   "source": [
    "# References\n",
    "- [ ] [gradient_descent.jl](https://gist.github.com/dirmeier/d9f53587e32f265d92b1039d5d9a168f)"
   ]
  }
 ],
 "metadata": {
  "kernelspec": {
   "display_name": "Julia 1.9.3",
   "language": "julia",
   "name": "julia-1.9"
  },
  "language_info": {
   "file_extension": ".jl",
   "mimetype": "application/julia",
   "name": "julia",
   "version": "1.9.3"
  }
 },
 "nbformat": 4,
 "nbformat_minor": 5
}

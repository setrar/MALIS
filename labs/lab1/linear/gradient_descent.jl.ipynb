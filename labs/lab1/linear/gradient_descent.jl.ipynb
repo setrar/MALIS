{
 "cells": [
  {
   "cell_type": "code",
   "execution_count": null,
   "id": "22e459f5-95e8-4ba2-8880-c4f52335abfd",
   "metadata": {},
   "outputs": [],
   "source": [
    "using Gadfly         # Plot Library\n",
    "using Distributions  # juliastats Distribution Library"
   ]
  },
  {
   "cell_type": "code",
   "execution_count": 1,
   "id": "06264b37-fff6-461a-8b86-146d6d226007",
   "metadata": {},
   "outputs": [
    {
     "data": {
      "text/plain": [
       "∑ (generic function with 1 method)"
      ]
     },
     "execution_count": 1,
     "metadata": {},
     "output_type": "execute_result"
    }
   ],
   "source": [
    "∑(X) = sum(X)"
   ]
  },
  {
   "cell_type": "code",
   "execution_count": 2,
   "id": "49b7bcc2-d7d7-4344-a320-68f4dbb34389",
   "metadata": {},
   "outputs": [
    {
     "data": {
      "text/plain": [
       "df (generic function with 1 method)"
      ]
     },
     "execution_count": 2,
     "metadata": {},
     "output_type": "execute_result"
    }
   ],
   "source": [
    "function df(x, y, b)\n",
    "    ∑(- (y - x*b)' * x)\n",
    "end"
   ]
  },
  {
   "cell_type": "code",
   "execution_count": 3,
   "id": "c3a49e42-8fa0-4729-b2aa-2aef1794b210",
   "metadata": {},
   "outputs": [
    {
     "data": {
      "text/plain": [
       "gd (generic function with 1 method)"
      ]
     },
     "execution_count": 3,
     "metadata": {},
     "output_type": "execute_result"
    }
   ],
   "source": [
    "\n",
    "function gd()\n",
    "   rnorm = Normal()\n",
    "   x = rand(rnorm, 100)\n",
    "   y = x * 2 + rand(rnorm, 100)\n",
    "   b    = 0.0\n",
    "   bold = 1.0\n",
    "   bvals = Float64[]\n",
    "   while (sum(abs(b - bold)) > 1e-10)\n",
    "       push!(bvals, b)\n",
    "       bold = b\n",
    "       der = df(x, y, bold)\n",
    "       b   =  b - 0.001 * der\n",
    "   end\n",
    "   plot(Guide.title(\"True beta: 2, est. beta: \" * string(b)),\n",
    "        layer(x=x, y=y, Geom.point(), Theme(default_color=color(\"orange\"))),\n",
    "        layer(x=x,y=x*bvals[1], Geom.line(), Theme(default_color=color(\"red\"))),\n",
    "        layer(x=x,y=x*bvals[5], Geom.line(), Theme(default_color=color(\"red\"))),\n",
    "        layer(x=x,y=x*b, Geom.line()))\n",
    "end"
   ]
  },
  {
   "cell_type": "markdown",
   "id": "e6f360df-8568-4181-96aa-3fee5a9d535f",
   "metadata": {},
   "source": [
    "# References\n",
    "- [ ] [gradient_descent.jl](https://gist.github.com/dirmeier/d9f53587e32f265d92b1039d5d9a168f)"
   ]
  }
 ],
 "metadata": {
  "kernelspec": {
   "display_name": "Julia 1.9.3",
   "language": "julia",
   "name": "julia-1.9"
  },
  "language_info": {
   "file_extension": ".jl",
   "mimetype": "application/julia",
   "name": "julia",
   "version": "1.9.3"
  }
 },
 "nbformat": 4,
 "nbformat_minor": 5
}

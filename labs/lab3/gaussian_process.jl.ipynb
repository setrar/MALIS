{
 "cells": [
  {
   "cell_type": "markdown",
   "id": "a97f9c46-9c27-4775-b5c2-a010be6082fe",
   "metadata": {},
   "source": [
    "# Gaussian Process"
   ]
  },
  {
   "cell_type": "markdown",
   "id": "d32334b0-80ca-49a0-8e32-b2a1ec70588f",
   "metadata": {},
   "source": [
    "##  Gaussian Process Models"
   ]
  },
  {
   "cell_type": "markdown",
   "id": "40a61e85-f0a0-493b-911b-609c0af6bbd0",
   "metadata": {},
   "source": [
    "## Gaussian Process Kernels"
   ]
  },
  {
   "cell_type": "markdown",
   "id": "71a85d9e-3e60-4c33-bb5b-bebd669b6e05",
   "metadata": {},
   "source": [
    "# References\n",
    "- [ ] [Simple Machine Learning Models Capable of Modelling Complex Behaviours](https://towardsdatascience.com/gaussian-process-models-7ebce1feb83d)\n",
    "- [ ] [Gaussian Process Kernels](https://towardsdatascience.com/gaussian-process-kernels-96bafb4dd63e)\n",
    "    - More than just the radial basis function"
   ]
  },
  {
   "cell_type": "code",
   "execution_count": null,
   "id": "d17e99e8-234a-454b-ab68-913ae7d3a62d",
   "metadata": {},
   "outputs": [],
   "source": []
  }
 ],
 "metadata": {
  "kernelspec": {
   "display_name": "Julia 1.9.3",
   "language": "julia",
   "name": "julia-1.9"
  },
  "language_info": {
   "file_extension": ".jl",
   "mimetype": "application/julia",
   "name": "julia",
   "version": "1.9.4"
  }
 },
 "nbformat": 4,
 "nbformat_minor": 5
}

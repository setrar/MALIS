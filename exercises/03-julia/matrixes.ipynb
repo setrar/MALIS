{
 "cells": [
  {
   "cell_type": "code",
   "execution_count": 2,
   "id": "42c98d7c-30df-4b57-b261-5cbe62b21538",
   "metadata": {},
   "outputs": [
    {
     "data": {
      "text/plain": [
       "4-element Vector{Int64}:\n",
       " 1\n",
       " 2\n",
       " 3\n",
       " 4"
      ]
     },
     "execution_count": 2,
     "metadata": {},
     "output_type": "execute_result"
    }
   ],
   "source": [
    "w = [1,2,3,4]"
   ]
  },
  {
   "cell_type": "code",
   "execution_count": 14,
   "id": "18847b84-18f6-4936-930f-044fdd31393e",
   "metadata": {},
   "outputs": [
    {
     "data": {
      "text/plain": [
       "1×4 transpose(::Vector{Int64}) with eltype Int64:\n",
       " 1  2  3  4"
      ]
     },
     "execution_count": 14,
     "metadata": {},
     "output_type": "execute_result"
    }
   ],
   "source": [
    "wᵀ = transpose(w)"
   ]
  },
  {
   "cell_type": "code",
   "execution_count": 15,
   "id": "5549717a-5efe-45a2-b4ea-f3e36af61382",
   "metadata": {},
   "outputs": [
    {
     "data": {
      "text/plain": [
       "30"
      ]
     },
     "execution_count": 15,
     "metadata": {},
     "output_type": "execute_result"
    }
   ],
   "source": [
    "m = wᵀ*w"
   ]
  },
  {
   "cell_type": "code",
   "execution_count": 16,
   "id": "629588a9-602d-49c4-9ed5-2c05a83f9376",
   "metadata": {},
   "outputs": [
    {
     "data": {
      "text/plain": [
       "5.477225575051661"
      ]
     },
     "execution_count": 16,
     "metadata": {},
     "output_type": "execute_result"
    }
   ],
   "source": [
    "√m"
   ]
  },
  {
   "cell_type": "code",
   "execution_count": 18,
   "id": "5aa912c7-d9f3-41f7-a2f8-fec7fa9eb06f",
   "metadata": {},
   "outputs": [
    {
     "data": {
      "text/plain": [
       "4×4 Matrix{Int64}:\n",
       " 1  2   3   4\n",
       " 2  4   6   8\n",
       " 3  6   9  12\n",
       " 4  8  12  16"
      ]
     },
     "execution_count": 18,
     "metadata": {},
     "output_type": "execute_result"
    }
   ],
   "source": [
    "m₁ = w*wᵀ"
   ]
  },
  {
   "cell_type": "code",
   "execution_count": null,
   "id": "944d55c2-a7a6-47d9-aae9-019c92a7e233",
   "metadata": {},
   "outputs": [],
   "source": []
  }
 ],
 "metadata": {
  "kernelspec": {
   "display_name": "Julia 1.9.3",
   "language": "julia",
   "name": "julia-1.9"
  },
  "language_info": {
   "file_extension": ".jl",
   "mimetype": "application/julia",
   "name": "julia",
   "version": "1.9.3"
  }
 },
 "nbformat": 4,
 "nbformat_minor": 5
}

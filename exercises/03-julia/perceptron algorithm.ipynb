{
 "cells": [
  {
   "cell_type": "code",
   "execution_count": 2,
   "id": "99b1ac16-07b6-401e-b3b3-dc7e25e14300",
   "metadata": {},
   "outputs": [
    {
     "data": {
      "text/plain": [
       "perceptron_learning_algorithm (generic function with 1 method)"
      ]
     },
     "execution_count": 2,
     "metadata": {},
     "output_type": "execute_result"
    }
   ],
   "source": [
    "function perceptron_learning_algorithm(X, y, η, max_iterations)\n",
    "    n, m = size(X)\n",
    "    w = zeros(m)  # Initialize weights vector\n",
    "\n",
    "    for iteration in 1:max_iterations\n",
    "        converged = true\n",
    "\n",
    "        for i in 1:n\n",
    "            xi = X[i, :]\n",
    "            ŷi = dot(w, xi)\n",
    "\n",
    "            if ŷi * y[i] ≤ 0\n",
    "                w += η * y[i] * xi\n",
    "                converged = false\n",
    "            end\n",
    "        end\n",
    "\n",
    "        if converged\n",
    "            println(\"Converged after $iteration iterations.\")\n",
    "            break\n",
    "        end\n",
    "    end\n",
    "\n",
    "    return w\n",
    "end"
   ]
  },
  {
   "cell_type": "markdown",
   "id": "e5715101-7c5a-481c-a313-c1c844a41e02",
   "metadata": {},
   "source": [
    "In this code:\n",
    "\n",
    "- `X` is assumed to be a matrix where each row corresponds to an example and each column corresponds to a feature.\n",
    "- `y` is a vector of labels corresponding to the examples.\n",
    "- `η` is the learning rate.\n",
    "- `max_iterations` is the maximum number of iterations to perform.\n",
    "\n",
    "The function initializes the weight vector `w` to zeros and iteratively updates it based on misclassified examples until convergence or reaching the maximum number of iterations. The dot product `dot(w, xi)` is used to calculate the predicted value for an example `xi`. If the prediction is incorrect (sign of `ŷi * y[i]` is not positive), the weights are updated. The process continues until convergence or reaching the maximum number of iterations."
   ]
  },
  {
   "cell_type": "markdown",
   "id": "d98d0229-e233-4419-8732-02795c498bb2",
   "metadata": {},
   "source": [
    "# References\n",
    "- [ ] [CS 6140: Machine Learning: The Perceptron Algorithm1](https://course.ccs.neu.edu/cs6140sp15/2_GD_REG_pton_NN/lecture_notes/lectureNotes_Perceptron.pdf)"
   ]
  },
  {
   "cell_type": "markdown",
   "id": "ae761893-fcf1-495a-b061-49994eb72365",
   "metadata": {},
   "source": [
    "```\n",
    "\n",
    "`Data`: Training Data:(xi, yi); ∀i ∈ {1, 2, . . . , N}, Learning Rate: η\n",
    "`Result`: Separating Hyper-plane coefficients : `w∗`\n",
    "Initialize `w ← 0`;\n",
    "`repeat`\n",
    "    get example (xi, yi);\n",
    "    yˆi ← wT xi;\n",
    "    if yˆiyi ≤ 0 then\n",
    "        w ← w + ηyixi\n",
    "`until` convergence;\n",
    "```\n",
    "\n",
    "$$ \\text{ Algorithm 1: The perceptron training algorithm.} $$ "
   ]
  },
  {
   "cell_type": "code",
   "execution_count": null,
   "id": "8d6fa9e9-3bbc-41c5-8db6-d255591e70a9",
   "metadata": {},
   "outputs": [],
   "source": []
  }
 ],
 "metadata": {
  "kernelspec": {
   "display_name": "Julia 1.9.3",
   "language": "julia",
   "name": "julia-1.9"
  },
  "language_info": {
   "file_extension": ".jl",
   "mimetype": "application/julia",
   "name": "julia",
   "version": "1.9.3"
  }
 },
 "nbformat": 4,
 "nbformat_minor": 5
}

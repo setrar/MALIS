{
 "cells": [
  {
   "cell_type": "markdown",
   "id": "d2afe1de-e320-40e0-8a35-8f302e5a282f",
   "metadata": {},
   "source": [
    "# Gradient Descent"
   ]
  },
  {
   "cell_type": "markdown",
   "id": "5705eb60-12a0-46a4-9851-b640fb329d71",
   "metadata": {},
   "source": [
    "$$\n",
    "{\\color{Green}\\mathit{w}}^{t+1} = \\mathit{w}^t + 2 \\alpha \\dots\n",
    "$$\n",
    "\n",
    "Loss Function in Linear Entropy is called cross-entropy"
   ]
  },
  {
   "cell_type": "markdown",
   "id": "e082863d-727a-4b4c-b2c1-cee480ae489f",
   "metadata": {},
   "source": [
    "## [1. Load Julia modules](https://jihongzhang.org/posts/2021-08-30-gradient-descent-via-julia/#load-julia-modules)"
   ]
  },
  {
   "cell_type": "code",
   "execution_count": 2,
   "id": "b1f55bce-0832-465f-bfd0-86fe3ba08562",
   "metadata": {},
   "outputs": [],
   "source": [
    "using RDatasets\n",
    "using DataFrames"
   ]
  },
  {
   "cell_type": "code",
   "execution_count": 3,
   "id": "b3c71b6e-f94a-4096-9dde-00975b0cbd4a",
   "metadata": {},
   "outputs": [
    {
     "data": {
      "text/html": [
       "<div class=\"data-frame\"><p>32 rows × 12 columns (omitted printing of 4 columns)</p><table class=\"data-frame\"><thead><tr><th></th><th>Model</th><th>MPG</th><th>Cyl</th><th>Disp</th><th>HP</th><th>DRat</th><th>WT</th><th>QSec</th></tr><tr><th></th><th title=\"InlineStrings.String31\">String31</th><th title=\"Float64\">Float64</th><th title=\"Int64\">Int64</th><th title=\"Float64\">Float64</th><th title=\"Int64\">Int64</th><th title=\"Float64\">Float64</th><th title=\"Float64\">Float64</th><th title=\"Float64\">Float64</th></tr></thead><tbody><tr><th>1</th><td>Mazda RX4</td><td>21.0</td><td>6</td><td>160.0</td><td>110</td><td>3.9</td><td>2.62</td><td>16.46</td></tr><tr><th>2</th><td>Mazda RX4 Wag</td><td>21.0</td><td>6</td><td>160.0</td><td>110</td><td>3.9</td><td>2.875</td><td>17.02</td></tr><tr><th>3</th><td>Datsun 710</td><td>22.8</td><td>4</td><td>108.0</td><td>93</td><td>3.85</td><td>2.32</td><td>18.61</td></tr><tr><th>4</th><td>Hornet 4 Drive</td><td>21.4</td><td>6</td><td>258.0</td><td>110</td><td>3.08</td><td>3.215</td><td>19.44</td></tr><tr><th>5</th><td>Hornet Sportabout</td><td>18.7</td><td>8</td><td>360.0</td><td>175</td><td>3.15</td><td>3.44</td><td>17.02</td></tr><tr><th>6</th><td>Valiant</td><td>18.1</td><td>6</td><td>225.0</td><td>105</td><td>2.76</td><td>3.46</td><td>20.22</td></tr><tr><th>7</th><td>Duster 360</td><td>14.3</td><td>8</td><td>360.0</td><td>245</td><td>3.21</td><td>3.57</td><td>15.84</td></tr><tr><th>8</th><td>Merc 240D</td><td>24.4</td><td>4</td><td>146.7</td><td>62</td><td>3.69</td><td>3.19</td><td>20.0</td></tr><tr><th>9</th><td>Merc 230</td><td>22.8</td><td>4</td><td>140.8</td><td>95</td><td>3.92</td><td>3.15</td><td>22.9</td></tr><tr><th>10</th><td>Merc 280</td><td>19.2</td><td>6</td><td>167.6</td><td>123</td><td>3.92</td><td>3.44</td><td>18.3</td></tr><tr><th>11</th><td>Merc 280C</td><td>17.8</td><td>6</td><td>167.6</td><td>123</td><td>3.92</td><td>3.44</td><td>18.9</td></tr><tr><th>12</th><td>Merc 450SE</td><td>16.4</td><td>8</td><td>275.8</td><td>180</td><td>3.07</td><td>4.07</td><td>17.4</td></tr><tr><th>13</th><td>Merc 450SL</td><td>17.3</td><td>8</td><td>275.8</td><td>180</td><td>3.07</td><td>3.73</td><td>17.6</td></tr><tr><th>14</th><td>Merc 450SLC</td><td>15.2</td><td>8</td><td>275.8</td><td>180</td><td>3.07</td><td>3.78</td><td>18.0</td></tr><tr><th>15</th><td>Cadillac Fleetwood</td><td>10.4</td><td>8</td><td>472.0</td><td>205</td><td>2.93</td><td>5.25</td><td>17.98</td></tr><tr><th>16</th><td>Lincoln Continental</td><td>10.4</td><td>8</td><td>460.0</td><td>215</td><td>3.0</td><td>5.424</td><td>17.82</td></tr><tr><th>17</th><td>Chrysler Imperial</td><td>14.7</td><td>8</td><td>440.0</td><td>230</td><td>3.23</td><td>5.345</td><td>17.42</td></tr><tr><th>18</th><td>Fiat 128</td><td>32.4</td><td>4</td><td>78.7</td><td>66</td><td>4.08</td><td>2.2</td><td>19.47</td></tr><tr><th>19</th><td>Honda Civic</td><td>30.4</td><td>4</td><td>75.7</td><td>52</td><td>4.93</td><td>1.615</td><td>18.52</td></tr><tr><th>20</th><td>Toyota Corolla</td><td>33.9</td><td>4</td><td>71.1</td><td>65</td><td>4.22</td><td>1.835</td><td>19.9</td></tr><tr><th>21</th><td>Toyota Corona</td><td>21.5</td><td>4</td><td>120.1</td><td>97</td><td>3.7</td><td>2.465</td><td>20.01</td></tr><tr><th>22</th><td>Dodge Challenger</td><td>15.5</td><td>8</td><td>318.0</td><td>150</td><td>2.76</td><td>3.52</td><td>16.87</td></tr><tr><th>23</th><td>AMC Javelin</td><td>15.2</td><td>8</td><td>304.0</td><td>150</td><td>3.15</td><td>3.435</td><td>17.3</td></tr><tr><th>24</th><td>Camaro Z28</td><td>13.3</td><td>8</td><td>350.0</td><td>245</td><td>3.73</td><td>3.84</td><td>15.41</td></tr><tr><th>25</th><td>Pontiac Firebird</td><td>19.2</td><td>8</td><td>400.0</td><td>175</td><td>3.08</td><td>3.845</td><td>17.05</td></tr><tr><th>26</th><td>Fiat X1-9</td><td>27.3</td><td>4</td><td>79.0</td><td>66</td><td>4.08</td><td>1.935</td><td>18.9</td></tr><tr><th>27</th><td>Porsche 914-2</td><td>26.0</td><td>4</td><td>120.3</td><td>91</td><td>4.43</td><td>2.14</td><td>16.7</td></tr><tr><th>28</th><td>Lotus Europa</td><td>30.4</td><td>4</td><td>95.1</td><td>113</td><td>3.77</td><td>1.513</td><td>16.9</td></tr><tr><th>29</th><td>Ford Pantera L</td><td>15.8</td><td>8</td><td>351.0</td><td>264</td><td>4.22</td><td>3.17</td><td>14.5</td></tr><tr><th>30</th><td>Ferrari Dino</td><td>19.7</td><td>6</td><td>145.0</td><td>175</td><td>3.62</td><td>2.77</td><td>15.5</td></tr><tr><th>&vellip;</th><td>&vellip;</td><td>&vellip;</td><td>&vellip;</td><td>&vellip;</td><td>&vellip;</td><td>&vellip;</td><td>&vellip;</td><td>&vellip;</td></tr></tbody></table></div>"
      ],
      "text/latex": [
       "\\begin{tabular}{r|ccccccccc}\n",
       "\t& Model & MPG & Cyl & Disp & HP & DRat & WT & QSec & \\\\\n",
       "\t\\hline\n",
       "\t& String31 & Float64 & Int64 & Float64 & Int64 & Float64 & Float64 & Float64 & \\\\\n",
       "\t\\hline\n",
       "\t1 & Mazda RX4 & 21.0 & 6 & 160.0 & 110 & 3.9 & 2.62 & 16.46 & $\\dots$ \\\\\n",
       "\t2 & Mazda RX4 Wag & 21.0 & 6 & 160.0 & 110 & 3.9 & 2.875 & 17.02 & $\\dots$ \\\\\n",
       "\t3 & Datsun 710 & 22.8 & 4 & 108.0 & 93 & 3.85 & 2.32 & 18.61 & $\\dots$ \\\\\n",
       "\t4 & Hornet 4 Drive & 21.4 & 6 & 258.0 & 110 & 3.08 & 3.215 & 19.44 & $\\dots$ \\\\\n",
       "\t5 & Hornet Sportabout & 18.7 & 8 & 360.0 & 175 & 3.15 & 3.44 & 17.02 & $\\dots$ \\\\\n",
       "\t6 & Valiant & 18.1 & 6 & 225.0 & 105 & 2.76 & 3.46 & 20.22 & $\\dots$ \\\\\n",
       "\t7 & Duster 360 & 14.3 & 8 & 360.0 & 245 & 3.21 & 3.57 & 15.84 & $\\dots$ \\\\\n",
       "\t8 & Merc 240D & 24.4 & 4 & 146.7 & 62 & 3.69 & 3.19 & 20.0 & $\\dots$ \\\\\n",
       "\t9 & Merc 230 & 22.8 & 4 & 140.8 & 95 & 3.92 & 3.15 & 22.9 & $\\dots$ \\\\\n",
       "\t10 & Merc 280 & 19.2 & 6 & 167.6 & 123 & 3.92 & 3.44 & 18.3 & $\\dots$ \\\\\n",
       "\t11 & Merc 280C & 17.8 & 6 & 167.6 & 123 & 3.92 & 3.44 & 18.9 & $\\dots$ \\\\\n",
       "\t12 & Merc 450SE & 16.4 & 8 & 275.8 & 180 & 3.07 & 4.07 & 17.4 & $\\dots$ \\\\\n",
       "\t13 & Merc 450SL & 17.3 & 8 & 275.8 & 180 & 3.07 & 3.73 & 17.6 & $\\dots$ \\\\\n",
       "\t14 & Merc 450SLC & 15.2 & 8 & 275.8 & 180 & 3.07 & 3.78 & 18.0 & $\\dots$ \\\\\n",
       "\t15 & Cadillac Fleetwood & 10.4 & 8 & 472.0 & 205 & 2.93 & 5.25 & 17.98 & $\\dots$ \\\\\n",
       "\t16 & Lincoln Continental & 10.4 & 8 & 460.0 & 215 & 3.0 & 5.424 & 17.82 & $\\dots$ \\\\\n",
       "\t17 & Chrysler Imperial & 14.7 & 8 & 440.0 & 230 & 3.23 & 5.345 & 17.42 & $\\dots$ \\\\\n",
       "\t18 & Fiat 128 & 32.4 & 4 & 78.7 & 66 & 4.08 & 2.2 & 19.47 & $\\dots$ \\\\\n",
       "\t19 & Honda Civic & 30.4 & 4 & 75.7 & 52 & 4.93 & 1.615 & 18.52 & $\\dots$ \\\\\n",
       "\t20 & Toyota Corolla & 33.9 & 4 & 71.1 & 65 & 4.22 & 1.835 & 19.9 & $\\dots$ \\\\\n",
       "\t21 & Toyota Corona & 21.5 & 4 & 120.1 & 97 & 3.7 & 2.465 & 20.01 & $\\dots$ \\\\\n",
       "\t22 & Dodge Challenger & 15.5 & 8 & 318.0 & 150 & 2.76 & 3.52 & 16.87 & $\\dots$ \\\\\n",
       "\t23 & AMC Javelin & 15.2 & 8 & 304.0 & 150 & 3.15 & 3.435 & 17.3 & $\\dots$ \\\\\n",
       "\t24 & Camaro Z28 & 13.3 & 8 & 350.0 & 245 & 3.73 & 3.84 & 15.41 & $\\dots$ \\\\\n",
       "\t25 & Pontiac Firebird & 19.2 & 8 & 400.0 & 175 & 3.08 & 3.845 & 17.05 & $\\dots$ \\\\\n",
       "\t26 & Fiat X1-9 & 27.3 & 4 & 79.0 & 66 & 4.08 & 1.935 & 18.9 & $\\dots$ \\\\\n",
       "\t27 & Porsche 914-2 & 26.0 & 4 & 120.3 & 91 & 4.43 & 2.14 & 16.7 & $\\dots$ \\\\\n",
       "\t28 & Lotus Europa & 30.4 & 4 & 95.1 & 113 & 3.77 & 1.513 & 16.9 & $\\dots$ \\\\\n",
       "\t29 & Ford Pantera L & 15.8 & 8 & 351.0 & 264 & 4.22 & 3.17 & 14.5 & $\\dots$ \\\\\n",
       "\t30 & Ferrari Dino & 19.7 & 6 & 145.0 & 175 & 3.62 & 2.77 & 15.5 & $\\dots$ \\\\\n",
       "\t$\\dots$ & $\\dots$ & $\\dots$ & $\\dots$ & $\\dots$ & $\\dots$ & $\\dots$ & $\\dots$ & $\\dots$ &  \\\\\n",
       "\\end{tabular}\n"
      ],
      "text/plain": [
       "\u001b[1m32×12 DataFrame\u001b[0m\n",
       "\u001b[1m Row \u001b[0m│\u001b[1m Model             \u001b[0m\u001b[1m MPG     \u001b[0m\u001b[1m Cyl   \u001b[0m\u001b[1m Disp    \u001b[0m\u001b[1m HP    \u001b[0m\u001b[1m DRat    \u001b[0m\u001b[1m WT      \u001b[0m\u001b[1m QS\u001b[0m ⋯\n",
       "\u001b[1m     \u001b[0m│\u001b[90m String31          \u001b[0m\u001b[90m Float64 \u001b[0m\u001b[90m Int64 \u001b[0m\u001b[90m Float64 \u001b[0m\u001b[90m Int64 \u001b[0m\u001b[90m Float64 \u001b[0m\u001b[90m Float64 \u001b[0m\u001b[90m Fl\u001b[0m ⋯\n",
       "─────┼──────────────────────────────────────────────────────────────────────────\n",
       "   1 │ Mazda RX4             21.0      6    160.0    110     3.9     2.62      ⋯\n",
       "   2 │ Mazda RX4 Wag         21.0      6    160.0    110     3.9     2.875\n",
       "   3 │ Datsun 710            22.8      4    108.0     93     3.85    2.32\n",
       "   4 │ Hornet 4 Drive        21.4      6    258.0    110     3.08    3.215\n",
       "   5 │ Hornet Sportabout     18.7      8    360.0    175     3.15    3.44      ⋯\n",
       "   6 │ Valiant               18.1      6    225.0    105     2.76    3.46\n",
       "   7 │ Duster 360            14.3      8    360.0    245     3.21    3.57\n",
       "   8 │ Merc 240D             24.4      4    146.7     62     3.69    3.19\n",
       "   9 │ Merc 230              22.8      4    140.8     95     3.92    3.15      ⋯\n",
       "  10 │ Merc 280              19.2      6    167.6    123     3.92    3.44\n",
       "  11 │ Merc 280C             17.8      6    167.6    123     3.92    3.44\n",
       "  ⋮  │         ⋮             ⋮       ⋮       ⋮       ⋮       ⋮        ⋮        ⋱\n",
       "  23 │ AMC Javelin           15.2      8    304.0    150     3.15    3.435\n",
       "  24 │ Camaro Z28            13.3      8    350.0    245     3.73    3.84      ⋯\n",
       "  25 │ Pontiac Firebird      19.2      8    400.0    175     3.08    3.845\n",
       "  26 │ Fiat X1-9             27.3      4     79.0     66     4.08    1.935\n",
       "  27 │ Porsche 914-2         26.0      4    120.3     91     4.43    2.14\n",
       "  28 │ Lotus Europa          30.4      4     95.1    113     3.77    1.513     ⋯\n",
       "  29 │ Ford Pantera L        15.8      8    351.0    264     4.22    3.17\n",
       "  30 │ Ferrari Dino          19.7      6    145.0    175     3.62    2.77\n",
       "  31 │ Maserati Bora         15.0      8    301.0    335     3.54    3.57\n",
       "  32 │ Volvo 142E            21.4      4    121.0    109     4.11    2.78      ⋯\n",
       "\u001b[36m                                                   5 columns and 11 rows omitted\u001b[0m"
      ]
     },
     "execution_count": 3,
     "metadata": {},
     "output_type": "execute_result"
    }
   ],
   "source": [
    "mtcars = dataset(\"datasets\", \"mtcars\")"
   ]
  },
  {
   "cell_type": "markdown",
   "id": "0d7899dc-5591-46af-a22e-1d0fc85ace11",
   "metadata": {},
   "source": [
    "## [2. julia-function-for-gradient-descent](https://jihongzhang.org/posts/2021-08-30-gradient-descent-via-julia)"
   ]
  },
  {
   "cell_type": "markdown",
   "id": "a153b9c6-7744-4d11-8184-ba4b6b0e54ec",
   "metadata": {},
   "source": [
    "- learn_rate: the magnitude of the steps the algorithm takes along the slope of the MSE function\n",
    "- conv_threshold: threshold for convergence of gradient descent n: number of iternations\n",
    "- max_iter: maximum of iteration before the algorithm stopss"
   ]
  },
  {
   "cell_type": "code",
   "execution_count": 4,
   "id": "a294c0e7-b231-439f-8a8a-f6dbd8c90dca",
   "metadata": {},
   "outputs": [
    {
     "data": {
      "text/plain": [
       "gradientDesc (generic function with 1 method)"
      ]
     },
     "execution_count": 4,
     "metadata": {},
     "output_type": "execute_result"
    }
   ],
   "source": [
    "function gradientDesc(x, y, learn_rate, conv_threshold, n, max_iter)\n",
    "    β = rand(Float64, 1)[1]\n",
    "    α = rand(Float64, 1)[1]\n",
    "    ŷ = α .+ β .* x\n",
    "    MSE = sum((y .- ŷ).^2)/n\n",
    "    converged = false\n",
    "    iterations = 0\n",
    "\n",
    "    while converged == false\n",
    "        # Implement the gradient descent algorithm\n",
    "        β_new = β - learn_rate*((1/n)*(sum((ŷ .- y) .* x)))\n",
    "        α_new = α - learn_rate*((1/n)*(sum(ŷ .- y)))\n",
    "        α = α_new\n",
    "        β = β_new\n",
    "        ŷ = β.*x .+ α\n",
    "        MSE_new = sum((y.-ŷ).^2)/n\n",
    "        # decide on whether it is converged or not\n",
    "        if (MSE - MSE_new) <= conv_threshold\n",
    "            converged = true\n",
    "            println(\"Optimal intercept: $α; Optimal slope: $β\")\n",
    "        end\n",
    "        iterations += 1\n",
    "        if iterations > max_iter\n",
    "            converged = true\n",
    "            println(\"Optimal intercept: $α; Optimal slope: $β\")\n",
    "        end\n",
    "    end\n",
    "end"
   ]
  },
  {
   "cell_type": "code",
   "execution_count": 5,
   "id": "3628f389-bb71-463b-b24c-0fc70ab73fe3",
   "metadata": {},
   "outputs": [
    {
     "name": "stdout",
     "output_type": "stream",
     "text": [
      "Optimal intercept: 29.599851490343465; Optimal slope: -0.04121510890036521\n"
     ]
    }
   ],
   "source": [
    "gradientDesc(mtcars[:,:Disp], mtcars[:,:MPG], 0.0000293, 0.001, 32, 2500000)"
   ]
  },
  {
   "cell_type": "markdown",
   "id": "41328cba-1517-403c-9f29-c4d0375255c8",
   "metadata": {},
   "source": [
    "## [3 compared-to-linear-regression](https://jihongzhang.org/posts/2021-08-30-gradient-descent-via-julia)"
   ]
  },
  {
   "cell_type": "code",
   "execution_count": 6,
   "id": "ca9bc9e2-269a-4048-b513-444cd2fb48c5",
   "metadata": {},
   "outputs": [
    {
     "data": {
      "text/plain": [
       "StatsModels.TableRegressionModel{LinearModel{GLM.LmResp{Vector{Float64}}, GLM.DensePredChol{Float64, LinearAlgebra.CholeskyPivoted{Float64, Matrix{Float64}, Vector{Int64}}}}, Matrix{Float64}}\n",
       "\n",
       "MPG ~ 1 + Disp\n",
       "\n",
       "Coefficients:\n",
       "───────────────────────────────────────────────────────────────────────────\n",
       "                  Coef.  Std. Error      t  Pr(>|t|)  Lower 95%   Upper 95%\n",
       "───────────────────────────────────────────────────────────────────────────\n",
       "(Intercept)  29.5999     1.22972     24.07    <1e-20  27.0884    32.1113\n",
       "Disp         -0.0412151  0.00471183  -8.75    <1e-09  -0.050838  -0.0315923\n",
       "───────────────────────────────────────────────────────────────────────────"
      ]
     },
     "execution_count": 6,
     "metadata": {},
     "output_type": "execute_result"
    }
   ],
   "source": [
    "using GLM\n",
    "linearRegressor = lm(@formula(MPG ~ Disp), mtcars)"
   ]
  },
  {
   "cell_type": "markdown",
   "id": "adbd0eef-1dab-4d61-9834-fd01c0254c8b",
   "metadata": {},
   "source": [
    "# References\n",
    "- [ ] [Gradient Descent Algorithm via julia](https://jihongzhang.org/posts/2021-08-30-gradient-descent-via-julia/)"
   ]
  },
  {
   "cell_type": "markdown",
   "id": "3b3271ab-8235-4691-9958-299fc7ecdb07",
   "metadata": {},
   "source": [
    "Let's ask chatGPT to write some recursive code based on the procedural code above"
   ]
  },
  {
   "cell_type": "code",
   "execution_count": 12,
   "id": "b42bdfa8-6036-4a1e-bd53-4febecc24a3b",
   "metadata": {},
   "outputs": [
    {
     "data": {
      "text/plain": [
       "recursiveGradientDesc (generic function with 1 method)"
      ]
     },
     "execution_count": 12,
     "metadata": {},
     "output_type": "execute_result"
    }
   ],
   "source": [
    "function recursiveGradientDesc(x, y, learn_rate, conv_threshold, n, max_iter)\n",
    "    β = rand(Float64, 1)[1]\n",
    "    α = rand(Float64, 1)[1]\n",
    "    ŷ = α .+ β .* x\n",
    "    MSE = sum((y .- ŷ).^2)/n\n",
    "    iterations = 0\n",
    "\n",
    "    function gradientStep(α, β, ŷ, MSE)\n",
    "        β_new = β - learn_rate * ((1/n) * (sum((ŷ .- y) .* x)))\n",
    "        α_new = α - learn_rate * ((1/n) * (sum(ŷ .- y)))\n",
    "        ŷ = β_new .* x .+ α_new\n",
    "        MSE_new = sum((y .- ŷ).^2)/n\n",
    "\n",
    "        if (MSE - MSE_new) <= conv_threshold\n",
    "            println(\"Optimal intercept: $α_new; Optimal slope: $β_new\")\n",
    "            return α_new, β_new, ŷ, MSE_new, true\n",
    "        end\n",
    "\n",
    "        if iterations >= max_iter\n",
    "            println(\"Optimal intercept: $α_new; Optimal slope: $β_new\")\n",
    "            return α_new, β_new, ŷ, MSE_new, true\n",
    "        end\n",
    "\n",
    "        return gradientStep(α_new, β_new, ŷ, MSE_new)\n",
    "    end\n",
    "\n",
    "    # Call the recursive function\n",
    "    α, β, ŷ, MSE, converged = gradientStep(α, β, ŷ, MSE)\n",
    "end\n"
   ]
  },
  {
   "cell_type": "code",
   "execution_count": 10,
   "id": "61f29a4b-2a5a-4e8f-b938-a241f757b98d",
   "metadata": {},
   "outputs": [
    {
     "ename": "LoadError",
     "evalue": "StackOverflowError:",
     "output_type": "error",
     "traceback": [
      "StackOverflowError:",
      "",
      "Stacktrace:",
      " [1] (::var\"#gradientStep#4\"{Vector{Float64}, Vector{Float64}, Float64, Float64, Int64, Int64, Int64})(α::Float64, β::Float64, ŷ::Vector{Float64}, MSE::Float64)",
      "   @ Main ./In[9]:8",
      " [2] (::var\"#gradientStep#4\"{Vector{Float64}, Vector{Float64}, Float64, Float64, Int64, Int64, Int64})(α::Float64, β::Float64, ŷ::Vector{Float64}, MSE::Float64) (repeats 7420 times)",
      "   @ Main ./In[9]:24",
      " [3] recursiveGradientDesc(x::Vector{Float64}, y::Vector{Float64}, learn_rate::Float64, conv_threshold::Float64, n::Int64, max_iter::Int64)",
      "   @ Main ./In[9]:28"
     ]
    }
   ],
   "source": [
    "recursiveGradientDesc(mtcars[:,:Disp], mtcars[:,:MPG], 0.0000293, 0.001, 32, 2500000)"
   ]
  }
 ],
 "metadata": {
  "kernelspec": {
   "display_name": "Julia 1.9.3",
   "language": "julia",
   "name": "julia-1.9"
  },
  "language_info": {
   "file_extension": ".jl",
   "mimetype": "application/julia",
   "name": "julia",
   "version": "1.9.3"
  }
 },
 "nbformat": 4,
 "nbformat_minor": 5
}

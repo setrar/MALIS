{
 "cells": [
  {
   "cell_type": "markdown",
   "id": "d2afe1de-e320-40e0-8a35-8f302e5a282f",
   "metadata": {},
   "source": [
    "# Gradient Descent"
   ]
  },
  {
   "cell_type": "markdown",
   "id": "5705eb60-12a0-46a4-9851-b640fb329d71",
   "metadata": {},
   "source": [
    "$$\n",
    "{\\color{Green}\\mathit{w}}^{t+1} = \\mathit{w}^t + 2 \\alpha \n",
    "$$\n",
    "\n",
    "Loss Function in Linear Entropy is called cross-entropy"
   ]
  },
  {
   "cell_type": "markdown",
   "id": "adbd0eef-1dab-4d61-9834-fd01c0254c8b",
   "metadata": {},
   "source": [
    "# References\n",
    "- [ ] [Gradient Descent Algorithm via julia](https://jihongzhang.org/posts/2021-08-30-gradient-descent-via-julia/)"
   ]
  }
 ],
 "metadata": {
  "kernelspec": {
   "display_name": "Julia 1.9.3",
   "language": "julia",
   "name": "julia-1.9"
  },
  "language_info": {
   "file_extension": ".jl",
   "mimetype": "application/julia",
   "name": "julia",
   "version": "1.9.3"
  }
 },
 "nbformat": 4,
 "nbformat_minor": 5
}

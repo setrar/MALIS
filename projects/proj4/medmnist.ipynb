{
 "cells": [
  {
   "cell_type": "code",
   "execution_count": 28,
   "id": "6fa31ead-dd6b-4f6d-9de1-ccd4bec44f1c",
   "metadata": {},
   "outputs": [
    {
     "data": {
      "text/plain": [
       "35461855"
      ]
     },
     "execution_count": 28,
     "metadata": {},
     "output_type": "execute_result"
    }
   ],
   "source": [
    "using HTTP\n",
    "using FileIO\n",
    "\n",
    "# URL to the MedMNIST dataset\n",
    "url = \"https://zenodo.org/records/10519652/files/bloodmnist.npz?download=1\"\n",
    "\n",
    "# Download the dataset\n",
    "response = HTTP.get(url)\n",
    "\n",
    "# Save to disk\n",
    "open(\"data/bloodmnist.npz\", \"w\") do file\n",
    "    write(file, response.body)\n",
    "end"
   ]
  },
  {
   "cell_type": "code",
   "execution_count": 29,
   "id": "d4c5ef4f-1538-421b-be5d-b891da9c2eda",
   "metadata": {},
   "outputs": [
    {
     "data": {
      "text/plain": [
       "Dict{String, Array{UInt8}} with 6 entries:\n",
       "  \"train_labels\" => [0x07; 0x03; … ; 0x06; 0x04;;]\n",
       "  \"test_labels\"  => [0x03; 0x00; … ; 0x01; 0x07;;]\n",
       "  \"val_labels\"   => [0x04; 0x00; … ; 0x01; 0x06;;]\n",
       "  \"test_images\"  => [0xe8 0xe5 … 0xac 0xaf; 0xef 0xe3 … 0xb6 0xb8; … ; 0xe1 0xd…\n",
       "  \"val_images\"   => [0xff 0xff … 0xc3 0xb9; 0xff 0xe7 … 0xfe 0xea; … ; 0xca 0xc…\n",
       "  \"train_images\" => [0xfa 0xff … 0xd7 0xd9; 0xff 0xfd … 0xfe 0xfe; … ; 0xcd 0xc…"
      ]
     },
     "execution_count": 29,
     "metadata": {},
     "output_type": "execute_result"
    }
   ],
   "source": [
    "using NPZ\n",
    "\n",
    "# Load the dataset\n",
    "dataset = npzread(\"data/bloodmnist.npz\")\n",
    "\n"
   ]
  },
  {
   "cell_type": "code",
   "execution_count": 30,
   "id": "6b974f10-2ede-4df5-87b9-94a12bb3b782",
   "metadata": {},
   "outputs": [
    {
     "name": "stdout",
     "output_type": "stream",
     "text": [
      "X_train[1:4] = UInt8[0x07, 0x03, 0x06, 0x06]\n",
      "y_train[1:4] = UInt8[0x04, 0x00, 0x07, 0x06]\n",
      "X[1:4] = [7, 3, 6, 6]\n",
      "y[1:4] = [4, 0, 7, 6]\n"
     ]
    }
   ],
   "source": [
    "# Extract images and labels\n",
    "X_train = dataset[\"train_labels\"]; @show X_train[1:4]\n",
    "y_train = dataset[\"val_labels\"]; @show y_train[1:4];\n",
    "X = Int.(X_train); @show X[1:4];\n",
    "y = Int.(y_train); @show y[1:4];"
   ]
  },
  {
   "cell_type": "markdown",
   "id": "fca5c5a8-d341-4d6b-a48a-83ce14f98523",
   "metadata": {},
   "source": [
    "# References\n",
    "- [ ] [\\[MedMNIST+\\] 18x Standardized Datasets for 2D and 3D Biomedical Image Classification with Multiple Size Options: 28 (MNIST-Like), 64, 128, and 224](https://zenodo.org/records/10519652)"
   ]
  },
  {
   "cell_type": "code",
   "execution_count": null,
   "id": "6b1b2b96-d28e-41d4-884c-d4b9e264f472",
   "metadata": {},
   "outputs": [],
   "source": []
  }
 ],
 "metadata": {
  "kernelspec": {
   "display_name": "Julia 1.9.3",
   "language": "julia",
   "name": "julia-1.9"
  },
  "language_info": {
   "file_extension": ".jl",
   "mimetype": "application/julia",
   "name": "julia",
   "version": "1.10.0"
  }
 },
 "nbformat": 4,
 "nbformat_minor": 5
}

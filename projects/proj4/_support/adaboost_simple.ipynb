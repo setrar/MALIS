{
 "cells": [
  {
   "cell_type": "code",
   "execution_count": 31,
   "id": "f0f55c71-9909-4718-af98-423fa371705f",
   "metadata": {},
   "outputs": [
    {
     "name": "stdout",
     "output_type": "stream",
     "text": [
      "Prediction for [7, 8]: [-1]\n",
      "Prediction for [7, 8]: [-1]\n"
     ]
    }
   ],
   "source": [
    "using DecisionTree\n",
    "\n",
    "# A simplified version of a weak learner training function\n",
    "function train_weak_learner(X, y)\n",
    "    # Train a decision stump (max_depth = 1)\n",
    "    model = DecisionTreeClassifier(max_depth=1)\n",
    "    fit!(model, X, y)\n",
    "    return model\n",
    "end\n",
    "\n",
    "# A simplified version of AdaBoost training (without handling weights correctly due to API limitations)\n",
    "function adaboost(X, y, T)\n",
    "    n, m = size(X)\n",
    "    weak_learners = []\n",
    "    for t = 1:T\n",
    "        # Normally, here you would use weights to train the weak learner\n",
    "        weak_learner = train_weak_learner(X, y)\n",
    "        push!(weak_learners, weak_learner)\n",
    "        # Skipping error calculation and weight updates for simplicity\n",
    "    end\n",
    "    return weak_learners\n",
    "end\n",
    "\n",
    "# Prediction function for AdaBoost (simplified version)\n",
    "function adaboost_predict(weak_learners, X)\n",
    "    # Aggregate predictions from all weak learners\n",
    "    # Note: This is a simplified approach and does not weight the predictions\n",
    "    predictions = sum([predict(model, X) for model in weak_learners], dims=1)\n",
    "    return sign.(predictions)\n",
    "end\n",
    "\n",
    "# Example dataset\n",
    "X = [1 2; 2 3; 3 4; 4 5; 5 6; 6 7]\n",
    "y = [1, 1, 1, -1, -1, -1]\n",
    "\n",
    "# Train AdaBoost model\n",
    "T = 3 # Number of rounds\n",
    "weak_learners = adaboost(X, y, T)\n",
    "\n",
    "# Predict a new example\n",
    "# new_example = [7 8]\n",
    "# prediction = adaboost_predict(weak_learners, [new_example])\n",
    "\n",
    "# Correctly formatted single instance prediction\n",
    "new_example = [7, 8]  # This is a 1D vector representing a single sample\n",
    "prediction = predict(weak_learners[1], reshape(new_example, 1, :))  # Reshape for a single sample matrix if needed\n",
    "\n",
    "\n",
    "println(\"Prediction for $new_example: \", prediction)\n",
    "\n",
    "# Correctly formatted multiple instances prediction\n",
    "new_examples = [7 8; 9 10]  # This is a 2D matrix with each row as a sample\n",
    "predictions = [predict(weak_learner, new_examples) for weak_learner in weak_learners]  # Predict for each weak learner\n",
    "\n",
    "println(\"Prediction for $new_example: \", prediction)"
   ]
  },
  {
   "cell_type": "code",
   "execution_count": null,
   "id": "c191fa64-c205-4fcc-b3be-745130ed7c17",
   "metadata": {},
   "outputs": [],
   "source": []
  },
  {
   "cell_type": "code",
   "execution_count": null,
   "id": "3da3766d-5f99-48ad-adc7-7b320912191e",
   "metadata": {},
   "outputs": [],
   "source": []
  }
 ],
 "metadata": {
  "kernelspec": {
   "display_name": "Julia 1.9.3",
   "language": "julia",
   "name": "julia-1.9"
  },
  "language_info": {
   "file_extension": ".jl",
   "mimetype": "application/julia",
   "name": "julia",
   "version": "1.10.0"
  }
 },
 "nbformat": 4,
 "nbformat_minor": 5
}

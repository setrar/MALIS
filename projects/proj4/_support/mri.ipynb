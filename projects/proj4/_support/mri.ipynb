{
 "cells": [
  {
   "cell_type": "code",
   "execution_count": 3,
   "id": "b081f1e6-1071-4a9f-9ad0-0dbd105765c8",
   "metadata": {},
   "outputs": [],
   "source": [
    "using NPZ"
   ]
  },
  {
   "cell_type": "code",
   "execution_count": 4,
   "id": "9cceb346-49a5-42a1-a4b8-5fac5430b21c",
   "metadata": {},
   "outputs": [
    {
     "data": {
      "text/plain": [
       "Dict{String, Array{UInt8}} with 6 entries:\n",
       "  \"train_labels\" => [0x07; 0x03; … ; 0x06; 0x04;;]\n",
       "  \"test_labels\"  => [0x03; 0x00; … ; 0x01; 0x07;;]\n",
       "  \"val_labels\"   => [0x04; 0x00; … ; 0x01; 0x06;;]\n",
       "  \"test_images\"  => [0xe8 0xe5 … 0xac 0xaf; 0xef 0xe3 … 0xb6 0xb8; … ; 0xe1 0xd…\n",
       "  \"val_images\"   => [0xff 0xff … 0xc3 0xb9; 0xff 0xe7 … 0xfe 0xea; … ; 0xca 0xc…\n",
       "  \"train_images\" => [0xfa 0xff … 0xd7 0xd9; 0xff 0xfd … 0xfe 0xfe; … ; 0xcd 0xc…"
      ]
     },
     "execution_count": 4,
     "metadata": {},
     "output_type": "execute_result"
    }
   ],
   "source": [
    "# Load the dataset\n",
    "dataset = npzread(\"data/bloodmnist.npz\")"
   ]
  },
  {
   "cell_type": "code",
   "execution_count": 2,
   "id": "687a6f4e-627a-4d43-b133-4a7a12753169",
   "metadata": {},
   "outputs": [
    {
     "data": {
      "text/plain": [
       "show_mri (generic function with 1 method)"
      ]
     },
     "execution_count": 2,
     "metadata": {},
     "output_type": "execute_result"
    }
   ],
   "source": [
    "using Plots\n",
    "using Images\n",
    "# using ImageIO\n",
    "\n",
    "function show_mri(med)\n",
    "    num = length(med)\n",
    "    if num == 0\n",
    "        return nothing\n",
    "    end\n",
    "    rows = Int(sqrt(num))\n",
    "    cols = div(num + 1, rows)\n",
    "    \n",
    "    p = plot(layout=(rows, cols), size=(800, 600)) # Adjust size as needed\n",
    "    \n",
    "    for (fig, b) in enumerate(med)\n",
    "        img = load(b) # Assuming 'b' is the path to the image file\n",
    "        row = div(fig - 1, cols) + 1\n",
    "        col = ((fig - 1) % cols) + 1\n",
    "        plot!(p[row, col], [img], legend=false, axis=false) # Plot image in subplot\n",
    "    end\n",
    "    \n",
    "    display(p) # Show the plot\n",
    "end\n"
   ]
  },
  {
   "cell_type": "code",
   "execution_count": 5,
   "id": "810eaf60-ecb4-40a3-a412-0668ee1d6dce",
   "metadata": {},
   "outputs": [
    {
     "name": "stdout",
     "output_type": "stream",
     "text": [
      "(Float64.(y_train_raw[1:4]), typeof(y_train_raw), size(y_train_raw)) = ([250.0, 255.0, 185.0, 226.0], Array{UInt8, 4}, (11959, 28, 28, 3))\n"
     ]
    }
   ],
   "source": [
    "y_train_raw = dataset[\"train_images\"]; @show Float64.(y_train_raw[1:4]), typeof(y_train_raw), size(y_train_raw);"
   ]
  },
  {
   "cell_type": "code",
   "execution_count": 6,
   "id": "9b0d6da0-8847-4969-8863-0847160fb868",
   "metadata": {},
   "outputs": [
    {
     "data": {
      "text/plain": [
       "1×28 Matrix{UInt8}:\n",
       " 0xfa  0xff  0xb9  0xe2  0xe3  0xd5  …  0xdd  0xe6  0xf9  0xdb  0xd4  0xca"
      ]
     },
     "execution_count": 6,
     "metadata": {},
     "output_type": "execute_result"
    }
   ],
   "source": [
    "L = 28\n",
    "montage = hcat(y_train_raw[1:L]...)"
   ]
  },
  {
   "cell_type": "code",
   "execution_count": 7,
   "id": "afa5785c-c42c-4f7d-adc1-9340fcfc7b8e",
   "metadata": {},
   "outputs": [
    {
     "ename": "LoadError",
     "evalue": "InexactError: Int64(5.291502622129181)",
     "output_type": "error",
     "traceback": [
      "InexactError: Int64(5.291502622129181)",
      "",
      "Stacktrace:",
      " [1] Int64",
      "   @ ./float.jl:909 [inlined]",
      " [2] show_mri(med::Matrix{UInt8})",
      "   @ Main ./In[2]:10",
      " [3] top-level scope",
      "   @ In[7]:1"
     ]
    }
   ],
   "source": [
    "show_mri(montage)"
   ]
  },
  {
   "cell_type": "markdown",
   "id": "ce1573e4-6100-4fe9-9164-2d37182b5bcc",
   "metadata": {},
   "source": [
    "# &#x1F4DA; References"
   ]
  },
  {
   "cell_type": "markdown",
   "id": "a35c4496-198d-42fe-ac39-19d6c8fa7983",
   "metadata": {},
   "source": [
    "- [ ] [Disease Classification using Medical MNIST](https://medium.com/ai-techsystems/disease-classification-using-medical-mnist-f468655c0de8)\n",
    "- [ ] [Disease Classification with CNN](https://cainvas.ai-tech.systems/notebooks/details/?path=rakash4730%2FMedicalMNIST.ipynb)"
   ]
  },
  {
   "cell_type": "code",
   "execution_count": null,
   "id": "73a5ba5d-8a96-4be2-889b-5b367e119fac",
   "metadata": {},
   "outputs": [],
   "source": []
  }
 ],
 "metadata": {
  "kernelspec": {
   "display_name": "Julia 1.9.3",
   "language": "julia",
   "name": "julia-1.9"
  },
  "language_info": {
   "file_extension": ".jl",
   "mimetype": "application/julia",
   "name": "julia",
   "version": "1.10.0"
  }
 },
 "nbformat": 4,
 "nbformat_minor": 5
}

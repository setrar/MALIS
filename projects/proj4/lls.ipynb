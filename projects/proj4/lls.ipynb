{
 "cells": [
  {
   "cell_type": "code",
   "execution_count": 49,
   "id": "7761bcc2-3b20-4647-b658-452d6bab4f70",
   "metadata": {},
   "outputs": [],
   "source": [
    "using Flux, MLDatasets, LinearAlgebra"
   ]
  },
  {
   "cell_type": "code",
   "execution_count": 50,
   "id": "299b0b2b-d54d-465c-b545-953637a2651b",
   "metadata": {},
   "outputs": [],
   "source": [
    "using Flux: onehotbatch"
   ]
  },
  {
   "cell_type": "code",
   "execution_count": 51,
   "id": "5997a295-2286-42da-a23c-4798aa8f58c7",
   "metadata": {},
   "outputs": [],
   "source": [
    "using NPZ"
   ]
  },
  {
   "cell_type": "code",
   "execution_count": 52,
   "id": "b5a220e9-3859-4618-9393-a6538cec4b3b",
   "metadata": {},
   "outputs": [
    {
     "data": {
      "text/plain": [
       "Dict{String, Array{UInt8}} with 6 entries:\n",
       "  \"train_labels\" => [0x07; 0x03; … ; 0x06; 0x04;;]\n",
       "  \"test_labels\"  => [0x03; 0x00; … ; 0x01; 0x07;;]\n",
       "  \"val_labels\"   => [0x04; 0x00; … ; 0x01; 0x06;;]\n",
       "  \"test_images\"  => [0xe8 0xe5 … 0xac 0xaf; 0xef 0xe3 … 0xb6 0xb8; … ; 0xe1 0xd…\n",
       "  \"val_images\"   => [0xff 0xff … 0xc3 0xb9; 0xff 0xe7 … 0xfe 0xea; … ; 0xca 0xc…\n",
       "  \"train_images\" => [0xfa 0xff … 0xd7 0xd9; 0xff 0xfd … 0xfe 0xfe; … ; 0xcd 0xc…"
      ]
     },
     "execution_count": 52,
     "metadata": {},
     "output_type": "execute_result"
    }
   ],
   "source": [
    "# Load the dataset\n",
    "dataset = npzread(\"data/bloodmnist.npz\")"
   ]
  },
  {
   "cell_type": "code",
   "execution_count": 53,
   "id": "277fb014-b27c-478e-9540-e370955f972f",
   "metadata": {},
   "outputs": [
    {
     "name": "stdout",
     "output_type": "stream",
     "text": [
      "(imgs[1:4], typeof(imgs)) = (UInt8[0xfa, 0xff, 0xb9, 0xe2], Array{UInt8, 4})\n"
     ]
    }
   ],
   "source": [
    "# Extract images and labels\n",
    "imgs = dataset[\"train_images\"]; @show imgs[1:4], typeof(imgs);"
   ]
  },
  {
   "cell_type": "code",
   "execution_count": 57,
   "id": "47becdcb-40ed-416f-91d9-49af0e1d5f12",
   "metadata": {},
   "outputs": [
    {
     "name": "stdout",
     "output_type": "stream",
     "text": [
      "(lbls[1:4], typeof(lbls), length(labels)) = (UInt8[0x07, 0x03, 0x06, 0x06], Matrix{UInt8}, 11959)\n"
     ]
    }
   ],
   "source": [
    "labels = dataset[\"train_labels\"]; @show lbls[1:4], typeof(lbls), length(labels);"
   ]
  },
  {
   "cell_type": "code",
   "execution_count": 55,
   "id": "a41fcf1c-d04f-477f-82b7-cfd8d30df281",
   "metadata": {},
   "outputs": [
    {
     "data": {
      "text/plain": [
       "28127568"
      ]
     },
     "execution_count": 55,
     "metadata": {},
     "output_type": "execute_result"
    }
   ],
   "source": [
    "nTrain = length(imgs)"
   ]
  },
  {
   "cell_type": "code",
   "execution_count": 56,
   "id": "da3e75d3-7685-4192-a335-b9347d89062a",
   "metadata": {},
   "outputs": [],
   "source": [
    "using BenchmarkTools"
   ]
  },
  {
   "cell_type": "code",
   "execution_count": 47,
   "id": "9b41a3df-400b-49da-9c11-d43ecf24396f",
   "metadata": {},
   "outputs": [
    {
     "name": "stdout",
     "output_type": "stream",
     "text": [
      "  8.348 s (168764910 allocations: 5.03 GiB)\n"
     ]
    }
   ],
   "source": [
    "@btime trainData = vcat([hcat(float.(imgs[i])...)  for i in 1:nTrain]...);"
   ]
  },
  {
   "cell_type": "code",
   "execution_count": 48,
   "id": "33d5a05a-a987-43f5-a100-7ee77d34c81c",
   "metadata": {},
   "outputs": [
    {
     "ename": "LoadError",
     "evalue": "BoundsError: attempt to access 11959×1 Matrix{UInt8} at index [1:28127568]",
     "output_type": "error",
     "traceback": [
      "BoundsError: attempt to access 11959×1 Matrix{UInt8} at index [1:28127568]",
      "",
      "Stacktrace:",
      " [1] throw_boundserror(A::Matrix{UInt8}, I::Tuple{UnitRange{Int64}})",
      "   @ Base ./abstractarray.jl:734",
      " [2] checkbounds",
      "   @ Base ./abstractarray.jl:699 [inlined]",
      " [3] getindex(A::Matrix{UInt8}, I::UnitRange{Int64})",
      "   @ Base ./array.jl:973",
      " [4] top-level scope",
      "   @ In[48]:1"
     ]
    }
   ],
   "source": [
    "trainLabels = labels[1:nTrain]"
   ]
  },
  {
   "cell_type": "markdown",
   "id": "b828340f-5d89-458d-ab33-9fa57a4f46a7",
   "metadata": {},
   "source": [
    "# References\n",
    "- [ ] [MedMNIST v2 - A large-scale lightweight benchmark\n",
    "for 2D and 3D biomedical image classification](https://arxiv.org/pdf/2110.14795.pdf)\n",
    "| Name | Source | Data  Modality | Task (# Classes / Labels) | # Samples | # Training / Validation / Test |\n",
    "|-|-|-|-|-|-|\n",
    "| BloodMNIST  | Acevedo et al. |  Blood Cell Microscope | MC (8) | 17,092  | 11,959 / 1,712 / 3,421 |"
   ]
  },
  {
   "cell_type": "code",
   "execution_count": null,
   "id": "21981402-3a5e-476c-9872-823b9e4219d3",
   "metadata": {},
   "outputs": [],
   "source": []
  }
 ],
 "metadata": {
  "kernelspec": {
   "display_name": "Julia 1.9.3",
   "language": "julia",
   "name": "julia-1.9"
  },
  "language_info": {
   "file_extension": ".jl",
   "mimetype": "application/julia",
   "name": "julia",
   "version": "1.10.0"
  }
 },
 "nbformat": 4,
 "nbformat_minor": 5
}

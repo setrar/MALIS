{
 "cells": [
  {
   "cell_type": "code",
   "execution_count": 1,
   "id": "c9ac80d2-0c97-40c1-b33b-43c324367520",
   "metadata": {},
   "outputs": [
    {
     "data": {
      "text/plain": [
       "RidgeRegression"
      ]
     },
     "execution_count": 1,
     "metadata": {},
     "output_type": "execute_result"
    }
   ],
   "source": [
    "\"\"\"\n",
    "    RidgeRegression(Y,X,λ,β₀=0)\n",
    "\n",
    "Calculate ridge regression estimate with target vector β₀.\n",
    "\"\"\"\n",
    "function RidgeRegression(Y,X,λ,β₀=0)\n",
    "    K = size(X,2)\n",
    "    isa(β₀,Number) && (β₀=fill(β₀,K))\n",
    "    Cₓₓ = transpose(X)X \n",
    "    Cₓᵧ = transpose(X)'Y\n",
    "    b = (Cₓₓ+λ*I)\\(Cₓᵧ+λ*β₀)      #same as inv(X'X+λ*I)*(X'Y+λ*β₀)\n",
    "    return b\n",
    "end"
   ]
  },
  {
   "cell_type": "markdown",
   "id": "647aa8c0-1fe1-4900-9994-2c4424b58bf2",
   "metadata": {},
   "source": [
    "# References\n",
    "\n",
    "- [ ] [OLS vs. Lasso](https://github.com/PaulSoderlind/FinancialEconometrics/blob/master/Ch07_OLS_Lasso.ipynb) (from scratch)\n",
    "- [ ] [Hello, I am stuck with a problem regarding Linear Regression and Ridge Regression](https://discourse.julialang.org/t/hello-i-am-stuck-with-a-problem-regarding-linear-regression-and-ridge-regression/75382)\n",
    "- [ ] [Convex.jl: Ridge Regression](https://jump.dev/Convex.jl/stable/examples/general_examples/lasso_regression/#Ridge-Regression)\n",
    "- [ ] [LinearRegressionKit.jl: Tutorial ridge regression](https://docs.juliahub.com/General/LinearRegressionKit/0.7.8/ridge_regression_tutorial/#Tutorial-ridge-regression)\n",
    "- [ ] [MultivariateStats.jl: Ridge Regression](https://juliastats.org/MultivariateStats.jl/stable/lreg/#Ridge-Regression)\n",
    "- [ ] [Statistical Learning in Julia. Part 1 — Linear Regression](https://juliazoid.com/statistical-learning-in-julia-part-1-linear-regression-cebc2b56c6b9)\n",
    "- [ ] [Statistics with Julia Book Chap 9, Listing 9.10](https://github.com/h-Klok/StatsWithJuliaBook/blob/master/9_chapter/ridgeRegressionCross.jl)"
   ]
  },
  {
   "cell_type": "code",
   "execution_count": null,
   "id": "af8fa718-9701-4139-ab8f-7c639e6671cb",
   "metadata": {},
   "outputs": [],
   "source": []
  }
 ],
 "metadata": {
  "kernelspec": {
   "display_name": "Julia 1.9.3",
   "language": "julia",
   "name": "julia-1.9"
  },
  "language_info": {
   "file_extension": ".jl",
   "mimetype": "application/julia",
   "name": "julia",
   "version": "1.10.0"
  }
 },
 "nbformat": 4,
 "nbformat_minor": 5
}

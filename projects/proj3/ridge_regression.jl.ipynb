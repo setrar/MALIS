{
 "cells": [
  {
   "cell_type": "code",
   "execution_count": 1,
   "id": "6822a7af-e8cd-4eca-9aef-86a6379bbf2e",
   "metadata": {},
   "outputs": [
    {
     "data": {
      "text/plain": [
       "findmax (generic function with 5 methods)"
      ]
     },
     "execution_count": 1,
     "metadata": {},
     "output_type": "execute_result"
    }
   ],
   "source": [
    "include(\"ops.jl\")"
   ]
  },
  {
   "cell_type": "code",
   "execution_count": 1,
   "id": "c9ac80d2-0c97-40c1-b33b-43c324367520",
   "metadata": {},
   "outputs": [
    {
     "data": {
      "text/plain": [
       "RidgeRegression"
      ]
     },
     "execution_count": 1,
     "metadata": {},
     "output_type": "execute_result"
    }
   ],
   "source": [
    "\"\"\"\n",
    "    RidgeRegression(Y,X,λ,β₀=0)\n",
    "\n",
    "Calculate ridge regression estimate with target vector β₀.\n",
    "\"\"\"\n",
    "function RidgeRegression(Y,X,λ,β₀=0)\n",
    "    K = size(X,2)\n",
    "    isa(β₀,Number) && (β₀=fill(β₀,K))\n",
    "    Cₓₓ = (X)ᵀ*X \n",
    "    Cₓᵧ = (X)ᵀ*Y\n",
    "    b = (Cₓₓ+λ*I)\\(Cₓᵧ+λ*β₀)      #same as inv(X'X+λ*I)*(X'Y+λ*β₀) or (Cₓₓ+λ*I)⁻¹*(Cₓᵧ+λ*β₀) \n",
    "    return b\n",
    "end"
   ]
  },
  {
   "cell_type": "markdown",
   "id": "647aa8c0-1fe1-4900-9994-2c4424b58bf2",
   "metadata": {},
   "source": [
    "# References\n",
    "\n"
   ]
  },
  {
   "cell_type": "code",
   "execution_count": null,
   "id": "af8fa718-9701-4139-ab8f-7c639e6671cb",
   "metadata": {},
   "outputs": [],
   "source": []
  }
 ],
 "metadata": {
  "kernelspec": {
   "display_name": "Julia 1.9.3",
   "language": "julia",
   "name": "julia-1.9"
  },
  "language_info": {
   "file_extension": ".jl",
   "mimetype": "application/julia",
   "name": "julia",
   "version": "1.10.0"
  }
 },
 "nbformat": 4,
 "nbformat_minor": 5
}

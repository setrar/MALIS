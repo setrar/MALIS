{
 "cells": [
  {
   "cell_type": "code",
   "execution_count": 102,
   "id": "7420c0e7-fbdb-4b3e-a7ca-660d137b51b4",
   "metadata": {},
   "outputs": [],
   "source": [
    "using DataFrames\n",
    "using CSV"
   ]
  },
  {
   "cell_type": "code",
   "execution_count": 103,
   "id": "915798dc-95ce-4dea-99d8-bc9a1e36c490",
   "metadata": {},
   "outputs": [
    {
     "data": {
      "text/plain": [
       "\"./data/\""
      ]
     },
     "execution_count": 103,
     "metadata": {},
     "output_type": "execute_result"
    }
   ],
   "source": [
    "data_folder = \"./data/\""
   ]
  },
  {
   "cell_type": "code",
   "execution_count": 104,
   "id": "3306e311-23c3-485e-9e2b-069d5b0319c8",
   "metadata": {},
   "outputs": [
    {
     "name": "stdout",
     "output_type": "stream",
     "text": [
      "X = [1896; 1900; 1904; 1908; 1912; 1920; 1924; 1928; 1932; 1936; 1948; 1952; 1956; 1960; 1964; 1968; 1972; 1976; 1980; 1984; 1988; 1992; 1996; 2000; 2004; 2008; 2012;;]\n"
     ]
    }
   ],
   "source": [
    "\n",
    "# 1- Data loading\n",
    "file_path = joinpath(data_folder, \"olympics_100m.csv\")  # Construct the full file path\n",
    "\n",
    "# Read the CSV file using DataFrames\n",
    "ds = DataFrame(CSV.File(file_path))\n",
    "\n",
    "# Splitting training/test\n",
    "n = size(ds, 1)\n",
    "training = ds[1:n-2, :]\n",
    "testing = ds[n-1:end, :]\n",
    "\n",
    "# Let's use the notation from the lecture\n",
    "X = training[:, \"Year\"]\n",
    "y = training[:, \"Time\"]\n",
    "X = reshape(X, length(X), 1);  # Reshape X to a 2D array\n",
    "@show X;"
   ]
  },
  {
   "cell_type": "code",
   "execution_count": 105,
   "id": "cab77375-7dd2-4755-a19c-1c6cdea15c3d",
   "metadata": {},
   "outputs": [
    {
     "data": {
      "text/plain": [
       "polynomial_features (generic function with 1 method)"
      ]
     },
     "execution_count": 105,
     "metadata": {},
     "output_type": "execute_result"
    }
   ],
   "source": [
    "function polynomial_features(X, degree)\n",
    "    n_samples, n_features = size(X)\n",
    "    \n",
    "    # Initialize an empty matrix for the polynomial features\n",
    "    poly_features = ones(n_samples, 1)\n",
    "    \n",
    "    # Generate polynomial features up to the specified degree\n",
    "    for d = 1:degree\n",
    "        for feature = 1:n_features\n",
    "            poly_features = hcat(poly_features, X[:, feature].^d)\n",
    "        end\n",
    "    end\n",
    "    \n",
    "    return poly_features\n",
    "end"
   ]
  },
  {
   "cell_type": "code",
   "execution_count": 106,
   "id": "3e2dcfad-cd04-42ff-915a-554e9074cbb5",
   "metadata": {},
   "outputs": [
    {
     "name": "stdout",
     "output_type": "stream",
     "text": [
      "X = [1.0 1896.0; 1.0 1900.0; 1.0 1904.0; 1.0 1908.0; 1.0 1912.0; 1.0 1920.0; 1.0 1924.0; 1.0 1928.0; 1.0 1932.0; 1.0 1936.0; 1.0 1948.0; 1.0 1952.0; 1.0 1956.0; 1.0 1960.0; 1.0 1964.0; 1.0 1968.0; 1.0 1972.0; 1.0 1976.0; 1.0 1980.0; 1.0 1984.0; 1.0 1988.0; 1.0 1992.0; 1.0 1996.0; 1.0 2000.0; 1.0 2004.0; 1.0 2008.0; 1.0 2012.0]\n"
     ]
    }
   ],
   "source": [
    "\n",
    "# Example usage\n",
    "# X = rand(10, 2)  # Example input data with 10 samples and 2 features\n",
    "degree = 1       # Specify the degree of the polynomial\n",
    "\n",
    "# Create polynomial features\n",
    "X = polynomial_features(X, degree)\n",
    "\n",
    "# Display the result\n",
    "@show X;\n"
   ]
  },
  {
   "cell_type": "code",
   "execution_count": 115,
   "id": "895469d6-3965-4299-8ed7-caf8f06b3d30",
   "metadata": {},
   "outputs": [
    {
     "data": {
      "text/plain": [
       "least_squares (generic function with 1 method)"
      ]
     },
     "execution_count": 115,
     "metadata": {},
     "output_type": "execute_result"
    }
   ],
   "source": [
    "function least_squares(X, y)\n",
    "    Xᵀ = transpose(X)\n",
    "    XᵀX = Xᵀ * X \n",
    "    XᵀX⁻¹ = inv(XᵀX)  # Note: The variable XᵀX⁻¹ should be written (XᵀX)⁻¹\n",
    "    Xᵀy  = Xᵀ * y\n",
    "    ŵ = XᵀX⁻¹ * Xᵀy      # Calculate the weight vector\n",
    "    \n",
    "    return ŵ\n",
    "end"
   ]
  },
  {
   "cell_type": "code",
   "execution_count": 116,
   "id": "9307cab6-af7d-41ea-acb5-964d5b7f89cc",
   "metadata": {},
   "outputs": [
    {
     "name": "stdout",
     "output_type": "stream",
     "text": [
      "Weights: [35.77145619588415, -0.0130037735192905]\n"
     ]
    },
    {
     "data": {
      "text/plain": [
       "2-element Vector{Float64}:\n",
       " 35.77145619588415\n",
       " -0.0130037735192905"
      ]
     },
     "execution_count": 116,
     "metadata": {},
     "output_type": "execute_result"
    }
   ],
   "source": [
    "ŵ = least_squares(X, y)\n",
    "println(\"Weights: \", ŵ); \n",
    "ŵ"
   ]
  },
  {
   "cell_type": "markdown",
   "id": "bd183dd3-cff1-4932-afab-2fd10472d185",
   "metadata": {},
   "source": [
    "# References\n",
    "- [ ] [Create a new feature matrix consisting of all polynomial combinations in Julia\n",
    "](https://stackoverflow.com/questions/75091020/create-a-new-feature-matrix-consisting-of-all-polynomial-combinations-in-julia)"
   ]
  },
  {
   "cell_type": "code",
   "execution_count": null,
   "id": "8c879985-796d-4c05-82d7-bf6086e9a4b0",
   "metadata": {},
   "outputs": [],
   "source": []
  }
 ],
 "metadata": {
  "kernelspec": {
   "display_name": "Julia 1.9.3",
   "language": "julia",
   "name": "julia-1.9"
  },
  "language_info": {
   "file_extension": ".jl",
   "mimetype": "application/julia",
   "name": "julia",
   "version": "1.10.0"
  }
 },
 "nbformat": 4,
 "nbformat_minor": 5
}

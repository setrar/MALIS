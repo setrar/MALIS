{
 "cells": [
  {
   "cell_type": "code",
   "execution_count": 10,
   "id": "7420c0e7-fbdb-4b3e-a7ca-660d137b51b4",
   "metadata": {},
   "outputs": [],
   "source": [
    "using DataFrames\n",
    "using CSV"
   ]
  },
  {
   "cell_type": "code",
   "execution_count": 11,
   "id": "915798dc-95ce-4dea-99d8-bc9a1e36c490",
   "metadata": {},
   "outputs": [
    {
     "data": {
      "text/plain": [
       "\"./data/\""
      ]
     },
     "execution_count": 11,
     "metadata": {},
     "output_type": "execute_result"
    }
   ],
   "source": [
    "data_folder = \"./data/\""
   ]
  },
  {
   "cell_type": "code",
   "execution_count": 20,
   "id": "3306e311-23c3-485e-9e2b-069d5b0319c8",
   "metadata": {},
   "outputs": [
    {
     "name": "stdout",
     "output_type": "stream",
     "text": [
      "X = [1896; 1900; 1904; 1908; 1912; 1920; 1924; 1928; 1932; 1936; 1948; 1952; 1956; 1960; 1964; 1968; 1972; 1976; 1980; 1984; 1988; 1992; 1996; 2000; 2004; 2008; 2012;;]\n"
     ]
    }
   ],
   "source": [
    "\n",
    "# 1- Data loading\n",
    "file_path = joinpath(data_folder, \"olympics_100m.csv\")  # Construct the full file path\n",
    "\n",
    "# Read the CSV file using DataFrames\n",
    "ds = DataFrame(CSV.File(file_path))\n",
    "\n",
    "# Splitting training/test\n",
    "n = size(ds, 1)\n",
    "training = ds[1:n-2, :]\n",
    "testing = ds[n-1:end, :]\n",
    "\n",
    "# Let's use the notation from the lecture\n",
    "X = training[:, \"Year\"]\n",
    "y = training[:, \"Time\"]\n",
    "X = reshape(X, length(X), 1);  # Reshape X to a 2D array\n",
    "@show X;"
   ]
  },
  {
   "cell_type": "code",
   "execution_count": 21,
   "id": "cab77375-7dd2-4755-a19c-1c6cdea15c3d",
   "metadata": {},
   "outputs": [
    {
     "data": {
      "text/plain": [
       "polynomial_features (generic function with 1 method)"
      ]
     },
     "execution_count": 21,
     "metadata": {},
     "output_type": "execute_result"
    }
   ],
   "source": [
    "function polynomial_features(X, degree)\n",
    "    n_samples, n_features = size(X)\n",
    "    \n",
    "    # Initialize an empty matrix for the polynomial features\n",
    "    poly_features = ones(n_samples, 1)\n",
    "    \n",
    "    # Generate polynomial features up to the specified degree\n",
    "    for d = 1:degree\n",
    "        for feature = 1:n_features\n",
    "            poly_features = hcat(poly_features, X[:, feature].^d)\n",
    "        end\n",
    "    end\n",
    "    \n",
    "    return poly_features\n",
    "end"
   ]
  },
  {
   "cell_type": "code",
   "execution_count": 22,
   "id": "3e2dcfad-cd04-42ff-915a-554e9074cbb5",
   "metadata": {},
   "outputs": [
    {
     "data": {
      "text/plain": [
       "27×8 Matrix{Float64}:\n",
       " 1.0  1896.0  3.59482e6  6.81577e9  1.29227e13  …  -8.8855e18   -5.02316e18\n",
       " 1.0  1900.0  3.61e6     6.859e9    1.30321e13     -8.29435e18  -5.74788e18\n",
       " 1.0  1904.0  3.62522e6  6.90241e9  1.31422e13     -7.69695e18  -8.27984e18\n",
       " 1.0  1908.0  3.64046e6  6.94601e9  1.3253e13      -7.09324e18   6.00360e18\n",
       " 1.0  1912.0  3.65574e6  6.98978e9  1.33645e13     -6.48317e18   3.86327e17\n",
       " 1.0  1920.0  3.6864e6   7.07789e9  1.35895e13  …  -5.24373e18   3.9536e18\n",
       " 1.0  1924.0  3.70178e6  7.12222e9  1.37031e13     -4.61426e18  -4.94635e18\n",
       " 1.0  1928.0  3.71718e6  7.16673e9  1.38175e13     -3.9782e18    3.87102e18\n",
       " 1.0  1932.0  3.73262e6  7.21143e9  1.39325e13     -3.33552e18  -6.30286e18\n",
       " 1.0  1936.0  3.7481e6   7.25631e9  1.40482e13     -2.68614e18   1.61199e18\n",
       " 1.0  1948.0  3.7947e6   7.39208e9  1.43998e13  …  -6.97335e17   6.64981e18\n",
       " 1.0  1952.0  3.8103e6   7.43771e9  1.45184e13     -2.06515e16  -3.4182e18\n",
       " 1.0  1956.0  3.82594e6  7.48353e9  1.46378e13      6.63001e17   5.55837e18\n",
       " ⋮                                              ⋱               \n",
       " 1.0  1968.0  3.87302e6  7.62211e9  1.50003e13  …   2.75635e18   1.14895e18\n",
       " 1.0  1972.0  3.88878e6  7.66868e9  1.51226e13      3.46845e18  -3.95445e18\n",
       " 1.0  1976.0  3.90458e6  7.71544e9  1.52457e13      4.18782e18  -7.46417e18\n",
       " 1.0  1980.0  3.9204e6   7.76239e9  1.53695e13      4.9145e18   -9.17614e18\n",
       " 1.0  1984.0  3.93626e6  7.80953e9  1.54941e13      5.64856e18  -8.88462e18\n",
       " 1.0  1988.0  3.95214e6  7.85686e9  1.56194e13  …   6.39005e18  -6.38222e18\n",
       " 1.0  1992.0  3.96806e6  7.90438e9  1.57455e13      7.13905e18  -1.45984e18\n",
       " 1.0  1996.0  3.98402e6  7.9521e9   1.58724e13      7.8956e18    6.09328e18\n",
       " 1.0  2000.0  4.0e6      8.0e9      1.6e13          8.65977e18  -1.95713e18\n",
       " 1.0  2004.0  4.01602e6  8.0481e9   1.61284e13     -9.01513e18  -6.95013e18\n",
       " 1.0  2008.0  4.03206e6  8.09638e9  1.62575e13  …  -8.23553e18  -8.66984e18\n",
       " 1.0  2012.0  4.04814e6  8.14487e9  1.63875e13     -7.44814e18  -6.89861e18"
      ]
     },
     "execution_count": 22,
     "metadata": {},
     "output_type": "execute_result"
    }
   ],
   "source": [
    "\n",
    "# Example usage\n",
    "# X = rand(10, 2)  # Example input data with 10 samples and 2 features\n",
    "degree = 7       # Specify the degree of the polynomial\n",
    "\n",
    "# Create polynomial features\n",
    "X = polynomial_features(X, degree)\n",
    "\n",
    "# Display the result\n",
    "X\n"
   ]
  },
  {
   "cell_type": "markdown",
   "id": "bd183dd3-cff1-4932-afab-2fd10472d185",
   "metadata": {},
   "source": [
    "# References\n",
    "- [ ] [Create a new feature matrix consisting of all polynomial combinations in Julia\n",
    "](https://stackoverflow.com/questions/75091020/create-a-new-feature-matrix-consisting-of-all-polynomial-combinations-in-julia)"
   ]
  },
  {
   "cell_type": "code",
   "execution_count": null,
   "id": "6564f795-2d92-442d-94ec-8fe742cdddf5",
   "metadata": {},
   "outputs": [],
   "source": []
  }
 ],
 "metadata": {
  "kernelspec": {
   "display_name": "Julia 1.9.3",
   "language": "julia",
   "name": "julia-1.9"
  },
  "language_info": {
   "file_extension": ".jl",
   "mimetype": "application/julia",
   "name": "julia",
   "version": "1.10.0"
  }
 },
 "nbformat": 4,
 "nbformat_minor": 5
}

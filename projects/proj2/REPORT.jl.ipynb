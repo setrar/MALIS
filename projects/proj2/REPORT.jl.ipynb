{
 "cells": [
  {
   "cell_type": "markdown",
   "id": "4c6043a6-8c5f-4d00-ab7f-5293e6d1677c",
   "metadata": {},
   "source": [
    "${\\color{Green}5.1}$ Compute the derivative $f′(x)$ for $ f(x) = \\log(x^4) \\cdot \\sin(x^3) $"
   ]
  },
  {
   "cell_type": "markdown",
   "id": "7dc78c2b-2103-4c9a-9935-c615f3a7e678",
   "metadata": {},
   "source": [
    "To compute the derivative of the function $ f(x) = \\log(x^4) \\cdot \\sin(x^3) $, Let's apply the product rule and the chain rule. \n",
    "\n",
    "Let's break it down step by step:\n",
    "\n",
    "The given function is a product of two functions: $ f(x) = g(x) \\cdot h(x) $\n",
    "\n",
    "where:\n",
    "\n",
    "$ g(x) = \\log(x^4) $\n",
    "$ h(x) = \\sin(x^3) $\n",
    "\n",
    "Now, let's compute the derivatives:\n",
    "\n",
    "1. **Derivative of $ g(x) $:**\n",
    "   $ g'(x) = \\frac{d}{dx} \\log(x^4) $\n",
    "\n",
    "   Apply the chain rule:\n",
    "   $ g'(x) = \\frac{1}{\\ln(10) \\cdot x^4} \\cdot \\frac{d}{dx}(x^4) $\n",
    "\n",
    "   $ g'(x) = \\frac{4}{x \\cdot \\ln(10)} $\n",
    "\n",
    "2. **Derivative of $ h(x) $:**\n",
    "   $ h'(x) = \\frac{d}{dx} \\sin(x^3) $\n",
    "\n",
    "   Apply the chain rule:\n",
    "   $ h'(x) = \\cos(x^3) \\cdot \\frac{d}{dx}(x^3) $\n",
    "\n",
    "   $ h'(x) = 3x^2 \\cos(x^3) $\n",
    "\n",
    "Now, apply the product rule:\n",
    "\n",
    "$ f'(x) = g'(x) \\cdot h(x) + g(x) \\cdot h'(x) $\n",
    "\n",
    "$ f'(x) = \\frac{4}{x \\cdot \\ln(10)} \\cdot \\sin(x^3) + \\log(x^4) \\cdot 3x^2 \\cos(x^3) $\n",
    "\n",
    "So, the derivative of the given function is:\n",
    "\n",
    "$ f'(x) = \\frac{4}{x \\cdot \\ln(10)} \\cdot \\sin(x^3) + \\log(x^4) \\cdot 3x^2 \\cos(x^3) $\n"
   ]
  },
  {
   "cell_type": "markdown",
   "id": "5d23b982-37fa-48e7-9b0a-1b288bd98d9f",
   "metadata": {},
   "source": [
    "${\\color{Green}5.2}$ Compute the derivative $f′(x)$ of the logistic sigmoid $ f(x) = \\frac{1}{1 + exp(-x)} $"
   ]
  },
  {
   "cell_type": "markdown",
   "id": "f82415fa-b91b-4819-93fd-53a893ad9a02",
   "metadata": {},
   "source": [
    "The logistic sigmoid function can also be written as: $ \\; \\text{sigm}(x) = \\frac{1}{1 + e^{-x}} $\n",
    "\n",
    "Now, let's compute its derivative with respect to $x$, denoted as $ \\frac{d}{dx} \\text{sigm}(x) $.\n",
    "\n",
    "Let $ f(x) = \\text{sigm}(x) = \\frac{1}{1 + e^{-x}} $\n",
    "\n",
    "To find $f'(x)$, we can use the quotient rule: $ f'(x) = \\frac{d}{dx} \\left( \\frac{1}{1 + e^{-x}} \\right) $\n",
    "\n",
    "The quotient rule is given by: $ \\frac{d}{dx} \\left( \\frac{u}{v} \\right) = \\frac{u'v - uv'}{v^2} $\n",
    "\n",
    "\n",
    "Let :\n",
    "$$\n",
    "\\begin{cases}\n",
    "- u = 1\n",
    "\\\\\n",
    "- v = 1 + e^{-x}\n",
    "\\\\\n",
    "- u' = 0 \\text{ (derivative of a constant is zero) }\n",
    "\\\\\n",
    "- v' = e^{-x} \\text{ derivative of } e^{-x} \\text{ is } -e^{-x}\n",
    "\\end{cases}\n",
    "$$\n",
    "\n",
    "Now applying the quotient rule: $ f'(x) = \\frac{0 \\cdot (1 + e^{-x}) \\; - \\; 1 \\cdot (-e^{-x})}{(1 + e^{-x})^2} $\n",
    "\n",
    "Simplifying: $ f'(x) = \\frac{e^{-x}}{(1 + e^{-x})^2} $\n",
    "\n",
    "To make it look cleaner, you can multiply the numerator and denominator by $e^x$:\n",
    "\n",
    "$ f'(x) = \\frac{1}{1 + e^{-x}} \\cdot \\frac{e^{-x}}{1 + e^{-x}} $\n",
    "\n",
    "$ f'(x) = \\frac{1}{1 + e^{-x}} \\cdot \\frac{1}{1 + e^{x}} $\n",
    "\n",
    "$ f'(x) = \\text{sigm}(x) \\cdot (1 - \\text{sigm}(x)) $\n",
    "\n",
    "So, the derivative of the logistic sigmoid function with respect to $x$ is $ \\text{sigm}(x) \\cdot (1 - \\text{sigm}(x)) $."
   ]
  },
  {
   "cell_type": "markdown",
   "id": "3d78eada-297f-476b-9fe9-43a7953fb73e",
   "metadata": {},
   "source": [
    "${\\color{Green}5.3}$ Compute the derivative $f'(x)$ of the function $ f(x) = \\exp\\left(-\\frac{1}{2\\sigma^2}(x-\\mu)^2\\right) $"
   ]
  },
  {
   "cell_type": "markdown",
   "id": "7ae2d08b-1d90-4e5c-b517-e2c009592120",
   "metadata": {},
   "source": [
    "To find the derivative of the function $ f(x) = \\exp\\left(-\\frac{1}{2\\sigma^2}(x-\\mu)^2\\right) $ with respect to $ x $, we can use the chain rule and the power rule. Let's break down the computation step by step:\n",
    "\n",
    "Let $ u(x) = -\\frac{1}{2\\sigma^2}(x-\\mu)^2 $, and $ v(x) = \\exp(u(x)) $. The function $ f(x) $ can be expressed as $ f(x) = v(x) $.\n",
    "\n",
    "Now, the chain rule states that if $ y = g(u) $ and $ u = h(x) $, then $ \\frac{dy}{dx} = \\frac{dy}{du} \\cdot \\frac{du}{dx} $.\n",
    "\n",
    "1. Find $ \\frac{du}{dx} $:\n",
    "   $ \\frac{du}{dx} = -\\frac{1}{\\sigma^2}(x-\\mu) $\n",
    "\n",
    "2. Find $ \\frac{dv}{du} $:\n",
    "   $ \\frac{dv}{du} = \\exp(u) $\n",
    "\n",
    "3. Apply the chain rule:\n",
    "   $ \\frac{df}{dx} = \\frac{dv}{du} \\cdot \\frac{du}{dx} $\n",
    "   $ \\frac{df}{dx} = \\exp\\left(-\\frac{1}{2\\sigma^2}(x-\\mu)^2\\right) \\cdot \\left(-\\frac{1}{\\sigma^2}(x-\\mu)\\right) $\n",
    "\n",
    "So, the derivative of $ f(x) $ with respect to $ x $ is:\n",
    "$ \\frac{df}{dx} = -\\frac{1}{\\sigma^2}(x-\\mu) \\cdot \\exp\\left(-\\frac{1}{2\\sigma^2}(x-\\mu)^2\\right) $"
   ]
  },
  {
   "cell_type": "code",
   "execution_count": null,
   "id": "5b2ab329-a74b-4629-9b37-acb215a8c300",
   "metadata": {},
   "outputs": [],
   "source": []
  }
 ],
 "metadata": {
  "kernelspec": {
   "display_name": "Julia 1.9.3",
   "language": "julia",
   "name": "julia-1.9"
  },
  "language_info": {
   "file_extension": ".jl",
   "mimetype": "application/julia",
   "name": "julia",
   "version": "1.9.4"
  }
 },
 "nbformat": 4,
 "nbformat_minor": 5
}

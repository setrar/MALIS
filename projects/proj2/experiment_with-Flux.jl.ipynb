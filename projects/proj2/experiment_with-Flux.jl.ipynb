{
 "cells": [
  {
   "cell_type": "code",
   "execution_count": 14,
   "id": "01648d09-2520-484d-8d8c-4d7fef257b1f",
   "metadata": {},
   "outputs": [
    {
     "data": {
      "text/plain": [
       "predict (generic function with 1 method)"
      ]
     },
     "execution_count": 14,
     "metadata": {},
     "output_type": "execute_result"
    }
   ],
   "source": [
    "include(\"perceptron.jl\")"
   ]
  },
  {
   "cell_type": "code",
   "execution_count": 15,
   "id": "a8c1b98f-9395-48e1-b6fa-a17f5b6aa2a2",
   "metadata": {},
   "outputs": [
    {
     "name": "stdout",
     "output_type": "stream",
     "text": [
      "Custom Perceptron Prediction: 1.0\n"
     ]
    }
   ],
   "source": [
    "# Example usage of the custom perceptron\n",
    "input_size = 2\n",
    "custom_perceptron = Perceptron(input_size)\n",
    "\n",
    "# Test input\n",
    "input_data = [0.2, 0.8]\n",
    "\n",
    "# Get the prediction\n",
    "custom_output = predict(custom_perceptron, input_data)\n",
    "\n",
    "println(\"Custom Perceptron Prediction: \", custom_output)"
   ]
  },
  {
   "cell_type": "code",
   "execution_count": 16,
   "id": "08d9d3d0-4b99-4a3e-83a3-72a85ca57d84",
   "metadata": {},
   "outputs": [],
   "source": [
    "using Flux"
   ]
  },
  {
   "cell_type": "code",
   "execution_count": 17,
   "id": "02dd705e-a357-4848-86d3-a5c77717357e",
   "metadata": {},
   "outputs": [
    {
     "data": {
      "text/plain": [
       "Chain(\n",
       "  Dense(2 => 1, σ),                     \u001b[90m# 3 parameters\u001b[39m\n",
       ") "
      ]
     },
     "execution_count": 17,
     "metadata": {},
     "output_type": "execute_result"
    }
   ],
   "source": [
    "# Create a Flux model without setting parameters\n",
    "flux_model = Chain(\n",
    "    Dense(2, 1, σ)\n",
    ")"
   ]
  },
  {
   "cell_type": "code",
   "execution_count": 18,
   "id": "57cf203b-a3e0-4f8f-be8d-2d17022730f2",
   "metadata": {},
   "outputs": [
    {
     "data": {
      "text/plain": [
       "1-element view(::Vector{Float32}, :) with eltype Float32:\n",
       " 0.107952185"
      ]
     },
     "execution_count": 18,
     "metadata": {},
     "output_type": "execute_result"
    }
   ],
   "source": [
    "# Get the parameters from the Flux model\n",
    "params_flux = Flux.params(flux_model)\n",
    "\n",
    "# Set the weights and bias of the Flux model manually\n",
    "params_flux[1][:] .= reshape(custom_perceptron.weights, (2, 1))\n",
    "params_flux[2][:] .= [custom_perceptron.bias]\n"
   ]
  },
  {
   "cell_type": "code",
   "execution_count": 19,
   "id": "361633de-3ddf-4b15-8eee-b7d0c3bbc5af",
   "metadata": {},
   "outputs": [
    {
     "name": "stdout",
     "output_type": "stream",
     "text": [
      "Custom Perceptron Prediction: 1.0\n",
      "Flux Model Prediction: 0\n"
     ]
    }
   ],
   "source": [
    "# Test the Flux model with the same input data\n",
    "flux_output = Flux.onecold(flux_model(input_data)) - 1\n",
    "\n",
    "println(\"Custom Perceptron Prediction: \", custom_output)\n",
    "println(\"Flux Model Prediction: \", flux_output)\n"
   ]
  },
  {
   "cell_type": "code",
   "execution_count": null,
   "id": "a07a73d2-4bdb-44d8-99e0-e640b5c946cc",
   "metadata": {},
   "outputs": [],
   "source": []
  }
 ],
 "metadata": {
  "kernelspec": {
   "display_name": "Julia 1.9.3",
   "language": "julia",
   "name": "julia-1.9"
  },
  "language_info": {
   "file_extension": ".jl",
   "mimetype": "application/julia",
   "name": "julia",
   "version": "1.9.4"
  }
 },
 "nbformat": 4,
 "nbformat_minor": 5
}

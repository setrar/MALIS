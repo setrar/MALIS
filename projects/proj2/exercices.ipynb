{
 "cells": [
  {
   "cell_type": "markdown",
   "id": "94080ede-b423-407e-a184-d844791f8b51",
   "metadata": {},
   "source": [
    "Solve exercises 5.1-5.3"
   ]
  },
  {
   "cell_type": "markdown",
   "id": "f354a910-5e34-43e1-8e7b-a026560b706b",
   "metadata": {},
   "source": [
    "- [ ] exercise 5.1: To compute the derivative of the function $ f(x) = \\log(x^4) \\cdot \\sin(x^3) $"
   ]
  },
  {
   "cell_type": "markdown",
   "id": "fdc9dc05-eb7a-433a-a324-4ae4ff7a41c5",
   "metadata": {},
   "source": [
    "To compute the derivative of the function $ f(x) = \\log(x^4) \\cdot \\sin(x^3) $, you'll need to apply the product rule and the chain rule. Let's break it down step by step:\n",
    "\n",
    "The given function is a product of two functions:\n",
    "\n",
    "$ f(x) = g(x) \\cdot h(x) $\n",
    "\n",
    "where:\n",
    "\n",
    "$ g(x) = \\log(x^4) $\n",
    "$ h(x) = \\sin(x^3) $\n",
    "\n",
    "Now, let's compute the derivatives:\n",
    "\n",
    "1. **Derivative of \\( g(x) \\):**\n",
    "   $ g'(x) = \\frac{d}{dx} \\log(x^4) $\n",
    "\n",
    "   Apply the chain rule:\n",
    "   $ g'(x) = \\frac{1}{\\ln(10) \\cdot x^4} \\cdot \\frac{d}{dx}(x^4) $\n",
    "\n",
    "   $ g'(x) = \\frac{4}{x \\cdot \\ln(10)} $\n",
    "\n",
    "2. **Derivative of \\( h(x) \\):**\n",
    "   $ h'(x) = \\frac{d}{dx} \\sin(x^3) $\n",
    "\n",
    "   Apply the chain rule:\n",
    "   $ h'(x) = \\cos(x^3) \\cdot \\frac{d}{dx}(x^3) $\n",
    "\n",
    "   $ h'(x) = 3x^2 \\cos(x^3) $\n",
    "\n",
    "Now, apply the product rule:\n",
    "\n",
    "$ f'(x) = g'(x) \\cdot h(x) + g(x) \\cdot h'(x) $\n",
    "\n",
    "$ f'(x) = \\frac{4}{x \\cdot \\ln(10)} \\cdot \\sin(x^3) + \\log(x^4) \\cdot 3x^2 \\cos(x^3) $\n",
    "\n",
    "So, the derivative of the given function is:\n",
    "\n",
    "$ f'(x) = \\frac{4}{x \\cdot \\ln(10)} \\cdot \\sin(x^3) + \\log(x^4) \\cdot 3x^2 \\cos(x^3) $"
   ]
  },
  {
   "cell_type": "code",
   "execution_count": null,
   "id": "14502193-cca5-4935-a0ef-b4cdc08a66dc",
   "metadata": {},
   "outputs": [],
   "source": []
  },
  {
   "cell_type": "code",
   "execution_count": null,
   "id": "8aa87969-6bed-4219-8cd0-fc5c287eb84c",
   "metadata": {},
   "outputs": [],
   "source": []
  }
 ],
 "metadata": {
  "kernelspec": {
   "display_name": "Julia 1.9.3",
   "language": "julia",
   "name": "julia-1.9"
  },
  "language_info": {
   "file_extension": ".jl",
   "mimetype": "application/julia",
   "name": "julia",
   "version": "1.9.4"
  }
 },
 "nbformat": 4,
 "nbformat_minor": 5
}

{
 "cells": [
  {
   "cell_type": "markdown",
   "id": "28a262a0-0820-4b5d-9ddc-307033049906",
   "metadata": {},
   "source": [
    "## Part II – Using the perceptron:"
   ]
  },
  {
   "cell_type": "code",
   "execution_count": 2,
   "id": "df4098fa-7883-49cb-a029-cacd849c54b9",
   "metadata": {},
   "outputs": [],
   "source": [
    "# load packages\n",
    "\n",
    "using Flux, Images, MLDatasets, Plots\n",
    "\n",
    "using Flux: crossentropy, onecold, onehotbatch, params, train!\n",
    "\n",
    "using Random, Statistics\n"
   ]
  },
  {
   "cell_type": "code",
   "execution_count": 3,
   "id": "727cfc19-7678-438d-ad62-8710f1a9af9f",
   "metadata": {},
   "outputs": [
    {
     "data": {
      "text/plain": [
       "TaskLocalRNG()"
      ]
     },
     "execution_count": 3,
     "metadata": {},
     "output_type": "execute_result"
    }
   ],
   "source": [
    "# set random seed\n",
    "\n",
    "Random.seed!(1)\n"
   ]
  },
  {
   "cell_type": "code",
   "execution_count": 34,
   "id": "dafbbafc-3003-4892-bef6-81f19a500598",
   "metadata": {},
   "outputs": [
    {
     "name": "stdout",
     "output_type": "stream",
     "text": [
      "(typeof(X_train_full), size(X_train_full)) = (Array{Float32, 3}, (28, 28, 60000))\n",
      "(typeof(X_test_full), size(X_test_full)) = (Array{Float32, 3}, (28, 28, 10000))\n"
     ]
    }
   ],
   "source": [
    "# load data\n",
    "\n",
    "# X contains the images and y contains the labels\n",
    "\n",
    "X_train_full, y_train_full = MLDatasets.MNIST(:train)[:]; @show typeof(X_train_full), size(X_train_full)\n",
    "\n",
    "X_test_full, y_test_full = MLDatasets.MNIST(:test)[:]; @show typeof(X_test_full), size(X_test_full);\n"
   ]
  },
  {
   "cell_type": "code",
   "execution_count": 45,
   "id": "5283da56-4d80-45cd-903d-ab3d10ebb3c2",
   "metadata": {},
   "outputs": [],
   "source": [
    "# Filter the dataset to keep only 0s and 1s\n",
    "filter_indices_train = findall(x -> x in [0, 1], y_train_full);\n",
    "filter_indices_test = findall(x -> x in [0, 1], y_test_full);"
   ]
  },
  {
   "cell_type": "code",
   "execution_count": 46,
   "id": "f77f2961-50b0-4bfd-909d-bb4fecfbaa47",
   "metadata": {},
   "outputs": [
    {
     "name": "stdout",
     "output_type": "stream",
     "text": [
      "(typeof(X_trainᵨ), size(X_trainᵨ)) = (Array{Float32, 3}, (28, 28, 12665))\n",
      "(typeof(X_testᵨ), size(X_testᵨ)) = (Array{Float32, 3}, (28, 28, 2115))\n"
     ]
    }
   ],
   "source": [
    "# Keep only 0s and 1s in the training data and labels\n",
    "\n",
    "# Latex: let's use \\_rho for Raw Data i.e X_trainᵨ\n",
    "\n",
    "X_trainᵨ = X_train_full[:, :, filter_indices_train]\n",
    "y_trainᵨ = y_train_full[filter_indices_train]; @show typeof(X_trainᵨ), size(X_trainᵨ);\n",
    "\n",
    "# Keep only 0s and 1s in the test data and labels\n",
    "X_testᵨ = X_test_full[:, :, filter_indices_test];\n",
    "y_testᵨ = y_test_full[filter_indices_test]; @show typeof(X_testᵨ), size(X_testᵨ);"
   ]
  },
  {
   "cell_type": "code",
   "execution_count": 47,
   "id": "6515d86f-c2f4-43e8-b165-2e8acb441c07",
   "metadata": {},
   "outputs": [
    {
     "data": {
      "image/png": "[encoded data removed]",
      "text/html": [
       "<img src=\"data:image/png;base64,iVBORw0KGgoAAAANSUhEUgAAAHAAAABwCAAAAADji6uXAAAABGdBTUEAALGPC/xhBQAAAAFzUkdCAK7OHOkAAAAgY0hSTQAAeiYAAICEAAD6AAAAgOgAAHUwAADqYAAAOpgAABdwnLpRPAAAAjJJREFUaAW9wT1oHAQABtB3+mGISDN0sIK46SaGFEUnxbEVFTtIkWYVRCgoAYcomRzUDlYQBREUhTo4WCwihcKB0EGtOneTQkAtgu1ih5zDDRlyf0nley/KoizKoizKoizKoizKoizKoizKoizKoixuw1G8inV8jg9wxWxRFmVRFge0ios4hBFO4VkcNluURVmUxQE8hq+xghFu4BYO4wn8jFsmi7Ioi7LYh7uxhi9wn11X8Q7O4Qe8ibdNFmVRFmWxDx/jpL3WcA+GeAoPmy7KoizKYkFHcRwDY0N8i3exjV/wN57GwHRRFmVRFgtYxUUcwgjf4SSexCY+wZ/4DTs4jjVcsVeURVmUxRwPYQMr+Avb+Aw3cQEX7LWM1/GSvaIsyqIsZljCeziGG1jHT1g23wMmi7Ioi7KYYQ3HjD2HodsXZVEWZTHDGQwwxNBi7sAOBiaLsiiLspjiGaxihPMWt4MRfjVZlEVZlMUUy7gLf+Ar8y1hy9glvGGyKIuyKIs5/sW22ZawiQ1cwxncNFmURVmUxRznzbaKDbyIb3DCbFEWZVEWUwwwwPM4bbLXsIkVfIl180VZlEVZTDHCCEdwFp/iOh7HKTyC+/E7vseHFhNlURZlMcedeAUn8A8etOsyLuEti4uyKIuymOIyfsSjxo7gXmPXcQ6n7V+URVmUxRTX8AJexqZd7+MjXHUwURZlURYzbGMLW/4/URZlURZlURZlURZlURZlURZlURZlUfYfqPxYlL4fzGQAAAAASUVORK5C\">"
      ],
      "text/plain": [
       "28×28 reinterpret(reshape, Gray{Float32}, adjoint(::Matrix{Float32})) with eltype Gray{Float32}:\n",
       " Gray{Float32}(0.0)  Gray{Float32}(0.0)  …  Gray{Float32}(0.0)\n",
       " Gray{Float32}(0.0)  Gray{Float32}(0.0)     Gray{Float32}(0.0)\n",
       " Gray{Float32}(0.0)  Gray{Float32}(0.0)     Gray{Float32}(0.0)\n",
       " Gray{Float32}(0.0)  Gray{Float32}(0.0)     Gray{Float32}(0.0)\n",
       " Gray{Float32}(0.0)  Gray{Float32}(0.0)     Gray{Float32}(0.0)\n",
       " Gray{Float32}(0.0)  Gray{Float32}(0.0)  …  Gray{Float32}(0.0)\n",
       " Gray{Float32}(0.0)  Gray{Float32}(0.0)     Gray{Float32}(0.0)\n",
       " Gray{Float32}(0.0)  Gray{Float32}(0.0)     Gray{Float32}(0.0)\n",
       " Gray{Float32}(0.0)  Gray{Float32}(0.0)     Gray{Float32}(0.0)\n",
       " Gray{Float32}(0.0)  Gray{Float32}(0.0)     Gray{Float32}(0.0)\n",
       " Gray{Float32}(0.0)  Gray{Float32}(0.0)  …  Gray{Float32}(0.0)\n",
       " Gray{Float32}(0.0)  Gray{Float32}(0.0)     Gray{Float32}(0.0)\n",
       " Gray{Float32}(0.0)  Gray{Float32}(0.0)     Gray{Float32}(0.0)\n",
       " ⋮                                       ⋱  \n",
       " Gray{Float32}(0.0)  Gray{Float32}(0.0)     Gray{Float32}(0.0)\n",
       " Gray{Float32}(0.0)  Gray{Float32}(0.0)     Gray{Float32}(0.0)\n",
       " Gray{Float32}(0.0)  Gray{Float32}(0.0)     Gray{Float32}(0.0)\n",
       " Gray{Float32}(0.0)  Gray{Float32}(0.0)     Gray{Float32}(0.0)\n",
       " Gray{Float32}(0.0)  Gray{Float32}(0.0)  …  Gray{Float32}(0.0)\n",
       " Gray{Float32}(0.0)  Gray{Float32}(0.0)     Gray{Float32}(0.0)\n",
       " Gray{Float32}(0.0)  Gray{Float32}(0.0)     Gray{Float32}(0.0)\n",
       " Gray{Float32}(0.0)  Gray{Float32}(0.0)     Gray{Float32}(0.0)\n",
       " Gray{Float32}(0.0)  Gray{Float32}(0.0)     Gray{Float32}(0.0)\n",
       " Gray{Float32}(0.0)  Gray{Float32}(0.0)  …  Gray{Float32}(0.0)\n",
       " Gray{Float32}(0.0)  Gray{Float32}(0.0)     Gray{Float32}(0.0)\n",
       " Gray{Float32}(0.0)  Gray{Float32}(0.0)     Gray{Float32}(0.0)"
      ]
     },
     "execution_count": 47,
     "metadata": {},
     "output_type": "execute_result"
    }
   ],
   "source": [
    "# view training input\n",
    "\n",
    "index = 1; img = X_trainᵨ[:, :, index]\n",
    "\n",
    "# use the ' transpose sign to invert the image\n",
    "\n",
    "colorview(Gray, img')\n"
   ]
  },
  {
   "cell_type": "code",
   "execution_count": 48,
   "id": "e1d59c89-5d77-4231-ac26-510b55202550",
   "metadata": {},
   "outputs": [
    {
     "data": {
      "text/plain": [
       "0"
      ]
     },
     "execution_count": 48,
     "metadata": {},
     "output_type": "execute_result"
    }
   ],
   "source": [
    "# view training label\n",
    "\n",
    "y_trainᵨ[index]\n"
   ]
  },
  {
   "cell_type": "code",
   "execution_count": 49,
   "id": "10e6d2b2-617d-454a-b9a1-95d38de76062",
   "metadata": {},
   "outputs": [
    {
     "data": {
      "image/png": "[encoded data removed]",
      "text/html": [
       "<img src=\"data:image/png;base64,iVBORw0KGgoAAAANSUhEUgAAAHAAAABwCAAAAADji6uXAAAABGdBTUEAALGPC/xhBQAAAAFzUkdCAK7OHOkAAAAgY0hSTQAAeiYAAICEAAD6AAAAgOgAAHUwAADqYAAAOpgAABdwnLpRPAAAAWdJREFUaAW9wa1qkGEABtADPmnRoDZNLg0VLArDYBMEL0EvQGxehG14BzZhKMhggskurKrNYFpYGgjDn/BdgN/7fvCcE2VRFmVRFmVRFmVRFmVRFmVRFmVRFmVRFhvdxFe8wGv/F2VRFmWx0R38wU/rRFmURVlsdBvneGedKIuyKIsN9vAcb6wXZVEWZbHBLnbw1npRFmVRFhu8xA98sV6URVmUxaQbuIvvOLdelEVZlMWkBxanxkRZlEVZTNqzeGVMlEVZlMWEe3iGE3wyJsqiLMpiwkNcxkf8MibKoizKYsIt/MWhcVEWZVEWg65hH9/w3rgoi7Ioi0FPcQXH5kRZlEVZDLpucWZOlEVZlMWgxxZH5kRZlEVZDNjHVdtEWZRFWQx4gks4wWdzoizKoixW2sEji0P8NifKoizKYqULnOEDDsyLsiiLsljpAvdtF2VRFmVRFmVRFmVRFmVRFmVRFmVRFmX/AEaoI5eSej8QAAAAAElFTkSuQmCC\">"
      ],
      "text/plain": [
       "28×28 reinterpret(reshape, Gray{Float32}, adjoint(::Matrix{Float32})) with eltype Gray{Float32}:\n",
       " Gray{Float32}(0.0)  Gray{Float32}(0.0)  …  Gray{Float32}(0.0)\n",
       " Gray{Float32}(0.0)  Gray{Float32}(0.0)     Gray{Float32}(0.0)\n",
       " Gray{Float32}(0.0)  Gray{Float32}(0.0)     Gray{Float32}(0.0)\n",
       " Gray{Float32}(0.0)  Gray{Float32}(0.0)     Gray{Float32}(0.0)\n",
       " Gray{Float32}(0.0)  Gray{Float32}(0.0)     Gray{Float32}(0.0)\n",
       " Gray{Float32}(0.0)  Gray{Float32}(0.0)  …  Gray{Float32}(0.0)\n",
       " Gray{Float32}(0.0)  Gray{Float32}(0.0)     Gray{Float32}(0.0)\n",
       " Gray{Float32}(0.0)  Gray{Float32}(0.0)     Gray{Float32}(0.0)\n",
       " Gray{Float32}(0.0)  Gray{Float32}(0.0)     Gray{Float32}(0.0)\n",
       " Gray{Float32}(0.0)  Gray{Float32}(0.0)     Gray{Float32}(0.0)\n",
       " Gray{Float32}(0.0)  Gray{Float32}(0.0)  …  Gray{Float32}(0.0)\n",
       " Gray{Float32}(0.0)  Gray{Float32}(0.0)     Gray{Float32}(0.0)\n",
       " Gray{Float32}(0.0)  Gray{Float32}(0.0)     Gray{Float32}(0.0)\n",
       " ⋮                                       ⋱  \n",
       " Gray{Float32}(0.0)  Gray{Float32}(0.0)     Gray{Float32}(0.0)\n",
       " Gray{Float32}(0.0)  Gray{Float32}(0.0)     Gray{Float32}(0.0)\n",
       " Gray{Float32}(0.0)  Gray{Float32}(0.0)     Gray{Float32}(0.0)\n",
       " Gray{Float32}(0.0)  Gray{Float32}(0.0)     Gray{Float32}(0.0)\n",
       " Gray{Float32}(0.0)  Gray{Float32}(0.0)  …  Gray{Float32}(0.0)\n",
       " Gray{Float32}(0.0)  Gray{Float32}(0.0)     Gray{Float32}(0.0)\n",
       " Gray{Float32}(0.0)  Gray{Float32}(0.0)     Gray{Float32}(0.0)\n",
       " Gray{Float32}(0.0)  Gray{Float32}(0.0)     Gray{Float32}(0.0)\n",
       " Gray{Float32}(0.0)  Gray{Float32}(0.0)     Gray{Float32}(0.0)\n",
       " Gray{Float32}(0.0)  Gray{Float32}(0.0)  …  Gray{Float32}(0.0)\n",
       " Gray{Float32}(0.0)  Gray{Float32}(0.0)     Gray{Float32}(0.0)\n",
       " Gray{Float32}(0.0)  Gray{Float32}(0.0)     Gray{Float32}(0.0)"
      ]
     },
     "execution_count": 49,
     "metadata": {},
     "output_type": "execute_result"
    }
   ],
   "source": [
    "# view testing input\n",
    "\n",
    "colorview(Gray, X_testᵨ[:, :, index]')\n"
   ]
  },
  {
   "cell_type": "code",
   "execution_count": 50,
   "id": "f7831ff1-c0cf-4d44-aa88-f901503a22eb",
   "metadata": {},
   "outputs": [
    {
     "data": {
      "text/plain": [
       "1"
      ]
     },
     "execution_count": 50,
     "metadata": {},
     "output_type": "execute_result"
    }
   ],
   "source": [
    "# view testing label\n",
    "\n",
    "y_testᵨ[index]\n"
   ]
  },
  {
   "cell_type": "code",
   "execution_count": 51,
   "id": "f309f725-a39d-42eb-bac1-7927f808b0b9",
   "metadata": {},
   "outputs": [
    {
     "name": "stdout",
     "output_type": "stream",
     "text": [
      "(typeof(X_train), size(X_train)) = (Matrix{Float32}, (784, 12665))\n",
      "(typeof(X_test), size(X_test)) = (Matrix{Float32}, (784, 2115))\n"
     ]
    }
   ],
   "source": [
    "# flatten input data\n",
    "\n",
    "X_train = Flux.flatten(X_trainᵨ); @show typeof(X_train), size(X_train)\n",
    "\n",
    "X_test = Flux.flatten(X_testᵨ); @show typeof(X_test), size(X_test);\n"
   ]
  },
  {
   "cell_type": "markdown",
   "id": "de32df7c-8e8d-46ba-9d99-79baf2edda86",
   "metadata": {},
   "source": [
    "&#x1F4CD; Note: Dimensions\n",
    "\n",
    "> Hint: The digits dataset is a dataset of images. You need to convert them from a 2D array to a 1D one.\n",
    "\n",
    "Flattening allow the data to strip down from an array of three dimensions `Array{Float32, 3}, (28, 28, 12665)` to a Matrix  `Matrix{Float32}, (784, 12665)` for the filtered X_train data.\n",
    "The 28x28 tensor array has been replaced to a 784 column vector where each column contains the floating point numbers associated with each image.\n"
   ]
  },
  {
   "cell_type": "code",
   "execution_count": 52,
   "id": "7200787b-8163-4023-9561-1ece75d5647e",
   "metadata": {},
   "outputs": [
    {
     "data": {
      "text/plain": [
       "2×2115 OneHotMatrix(::Vector{UInt32}) with eltype Bool:\n",
       " ⋅  1  ⋅  1  1  ⋅  1  1  ⋅  ⋅  ⋅  ⋅  ⋅  …  1  1  ⋅  ⋅  1  1  ⋅  ⋅  1  ⋅  1  ⋅\n",
       " 1  ⋅  1  ⋅  ⋅  1  ⋅  ⋅  1  1  1  1  1     ⋅  ⋅  1  1  ⋅  ⋅  1  1  ⋅  1  ⋅  1"
      ]
     },
     "execution_count": 52,
     "metadata": {},
     "output_type": "execute_result"
    }
   ],
   "source": [
    "# one-hot encode labels\n",
    "\n",
    "y_train = onehotbatch(y_trainᵨ, 0:1)\n",
    "\n",
    "y_test = onehotbatch(y_testᵨ, 0:1)\n"
   ]
  },
  {
   "cell_type": "markdown",
   "id": "7416ac1e-3acc-4242-b576-59776d69095c",
   "metadata": {},
   "source": [
    "&#x1F4CD; Note: one-hot encoding\n",
    "\n",
    "As you can see with the above result,  the 1st label appearing in `y_testᵨ` previously viewed is a `one` label. In the column vector, it appears at the 2nd row; (marked by  a ${\\color{Green}1}$) because, the column vector starts from 0 and ends at 1 (labels). The dots represent  zeroes ${\\color{Salmon}0}$.\n",
    "\n",
    "\n",
    "As a side note, Julia's `Array,Matrix` indexing is 1-based, like Matlab. Python indexing is 0-based."
   ]
  },
  {
   "cell_type": "markdown",
   "id": "deb69e9b-f9e8-4549-8242-fac3817f5ce1",
   "metadata": {},
   "source": [
    "<img src=images/one-hot-label-filtered.png width='' height='' > </img>"
   ]
  },
  {
   "cell_type": "code",
   "execution_count": 53,
   "id": "2724698f-7926-4871-969c-ce054c7b9579",
   "metadata": {},
   "outputs": [
    {
     "data": {
      "text/plain": [
       "Chain(\n",
       "  Dense(784 => 32, relu),               \u001b[90m# 25_120 parameters\u001b[39m\n",
       "  Dense(32 => 2),                       \u001b[90m# 66 parameters\u001b[39m\n",
       "  NNlib.softmax,\n",
       ") \u001b[90m                  # Total: 4 arrays, \u001b[39m25_186 parameters, 98.633 KiB."
      ]
     },
     "execution_count": 53,
     "metadata": {},
     "output_type": "execute_result"
    }
   ],
   "source": [
    "# define model architecture\n",
    "\n",
    "model = Chain(\n",
    "    Dense(28 * 28, 32, relu),\n",
    "    Dense(32, 2), # only 0 to 1\n",
    "    softmax\n",
    ")"
   ]
  },
  {
   "cell_type": "code",
   "execution_count": 54,
   "id": "18709d59-2de4-4997-acdc-24c1f657f6a9",
   "metadata": {},
   "outputs": [
    {
     "data": {
      "text/plain": [
       "𝐿 (generic function with 1 method)"
      ]
     },
     "execution_count": 54,
     "metadata": {},
     "output_type": "execute_result"
    }
   ],
   "source": [
    "# define loss function 𝐿\n",
    "\n",
    "𝐿(x, y) = crossentropy(model(x), y)\n"
   ]
  },
  {
   "cell_type": "code",
   "execution_count": 55,
   "id": "f53b4f55-cb9a-4e21-acad-2fbe66e7751d",
   "metadata": {},
   "outputs": [],
   "source": [
    "# track parameters called θ\n",
    "\n",
    "θ = params(model);"
   ]
  },
  {
   "cell_type": "code",
   "execution_count": 56,
   "id": "c3d04448-a8ac-4c9d-9f99-f51c55fd80c0",
   "metadata": {},
   "outputs": [
    {
     "data": {
      "text/plain": [
       "Adam(0.009999999776482582, (0.9, 0.999), 1.0e-8, IdDict{Any, Any}())"
      ]
     },
     "execution_count": 56,
     "metadata": {},
     "output_type": "execute_result"
    }
   ],
   "source": [
    "# select optimizer\n",
    "\n",
    "# Let's define the learning rate η \\eta\n",
    "η = Float32(0.01)\n",
    "\n",
    "opt = ADAM(η)"
   ]
  },
  {
   "cell_type": "code",
   "execution_count": 66,
   "id": "e7930235-7001-44f7-a66d-65a46b8a1a49",
   "metadata": {},
   "outputs": [
    {
     "name": "stdout",
     "output_type": "stream",
     "text": [
      "Epoch = 1 : Training Loss = 1.4247454e-5\n",
      "Epoch = 2 : Training Loss = 1.4169603e-5\n",
      "Epoch = 3 : Training Loss = 1.4092728e-5\n",
      "Epoch = 4 : Training Loss = 1.403539e-5\n",
      "Epoch = 5 : Training Loss = 1.3962392e-5\n",
      "Epoch = 6 : Training Loss = 1.3882729e-5\n",
      "Epoch = 7 : Training Loss = 1.3817105e-5\n",
      "Epoch = 8 : Training Loss = 1.3750902e-5\n",
      "Epoch = 9 : Training Loss = 1.368175e-5\n",
      "Epoch = 10 : Training Loss = 1.3609256e-5\n",
      "Epoch = 11 : Training Loss = 1.353994e-5\n",
      "Epoch = 12 : Training Loss = 1.3475681e-5\n",
      "Epoch = 13 : Training Loss = 1.3405649e-5\n",
      "Epoch = 14 : Training Loss = 1.3336776e-5\n",
      "Epoch = 15 : Training Loss = 1.3274437e-5\n",
      "Epoch = 16 : Training Loss = 1.3217992e-5\n",
      "Epoch = 17 : Training Loss = 1.3149212e-5\n",
      "Epoch = 18 : Training Loss = 1.3088001e-5\n",
      "Epoch = 19 : Training Loss = 1.3033717e-5\n",
      "Epoch = 20 : Training Loss = 1.2964408e-5\n",
      "Epoch = 21 : Training Loss = 1.2899249e-5\n",
      "Epoch = 22 : Training Loss = 1.28441325e-5\n",
      "Epoch = 23 : Training Loss = 1.2781545e-5\n",
      "Epoch = 24 : Training Loss = 1.2718513e-5\n",
      "Epoch = 25 : Training Loss = 1.2659619e-5\n",
      "Epoch = 26 : Training Loss = 1.2600349e-5\n",
      "Epoch = 27 : Training Loss = 1.25419865e-5\n",
      "Epoch = 28 : Training Loss = 1.2480834e-5\n",
      "Epoch = 29 : Training Loss = 1.241905e-5\n",
      "Epoch = 30 : Training Loss = 1.23679665e-5\n",
      "Epoch = 31 : Training Loss = 1.2308599e-5\n",
      "Epoch = 32 : Training Loss = 1.2247777e-5\n",
      "Epoch = 33 : Training Loss = 1.21975345e-5\n",
      "Epoch = 34 : Training Loss = 1.21352305e-5\n",
      "Epoch = 35 : Training Loss = 1.2080951e-5\n",
      "Epoch = 36 : Training Loss = 1.2029921e-5\n",
      "Epoch = 37 : Training Loss = 1.19702445e-5\n",
      "Epoch = 38 : Training Loss = 1.191542e-5\n",
      "Epoch = 39 : Training Loss = 1.1864877e-5\n",
      "Epoch = 40 : Training Loss = 1.1807165e-5\n",
      "Epoch = 41 : Training Loss = 1.1754921e-5\n",
      "Epoch = 42 : Training Loss = 1.1701061e-5\n",
      "Epoch = 43 : Training Loss = 1.16482815e-5\n",
      "Epoch = 44 : Training Loss = 1.1596802e-5\n",
      "Epoch = 45 : Training Loss = 1.1546544e-5\n",
      "Epoch = 46 : Training Loss = 1.14940885e-5\n",
      "Epoch = 47 : Training Loss = 1.1442059e-5\n",
      "Epoch = 48 : Training Loss = 1.1392136e-5\n",
      "Epoch = 49 : Training Loss = 1.1342533e-5\n",
      "Epoch = 50 : Training Loss = 1.1292572e-5\n",
      "Epoch = 51 : Training Loss = 1.1242132e-5\n",
      "Epoch = 52 : Training Loss = 1.1192705e-5\n",
      "Epoch = 53 : Training Loss = 1.11443605e-5\n",
      "Epoch = 54 : Training Loss = 1.1095123e-5\n",
      "Epoch = 55 : Training Loss = 1.1046364e-5\n",
      "Epoch = 56 : Training Loss = 1.09983985e-5\n",
      "Epoch = 57 : Training Loss = 1.0951125e-5\n",
      "Epoch = 58 : Training Loss = 1.0908603e-5\n",
      "Epoch = 59 : Training Loss = 1.0860329e-5\n",
      "Epoch = 60 : Training Loss = 1.0811925e-5\n",
      "Epoch = 61 : Training Loss = 1.0765925e-5\n",
      "Epoch = 62 : Training Loss = 1.0720101e-5\n",
      "Epoch = 63 : Training Loss = 1.0674001e-5\n",
      "Epoch = 64 : Training Loss = 1.0628416e-5\n",
      "Epoch = 65 : Training Loss = 1.0582855e-5\n",
      "Epoch = 66 : Training Loss = 1.05389745e-5\n",
      "Epoch = 67 : Training Loss = 1.0495072e-5\n",
      "Epoch = 68 : Training Loss = 1.0451448e-5\n",
      "Epoch = 69 : Training Loss = 1.04054625e-5\n",
      "Epoch = 70 : Training Loss = 1.0366836e-5\n",
      "Epoch = 71 : Training Loss = 1.0320251e-5\n",
      "Epoch = 72 : Training Loss = 1.027694e-5\n",
      "Epoch = 73 : Training Loss = 1.0233576e-5\n",
      "Epoch = 74 : Training Loss = 1.01927035e-5\n",
      "Epoch = 75 : Training Loss = 1.0146649e-5\n",
      "Epoch = 76 : Training Loss = 1.0107802e-5\n",
      "Epoch = 77 : Training Loss = 1.0065182e-5\n",
      "Epoch = 78 : Training Loss = 1.002356e-5\n",
      "Epoch = 79 : Training Loss = 9.981403e-6\n",
      "Epoch = 80 : Training Loss = 9.941611e-6\n",
      "Epoch = 81 : Training Loss = 9.90145e-6\n",
      "Epoch = 82 : Training Loss = 9.861395e-6\n",
      "Epoch = 83 : Training Loss = 9.821079e-6\n",
      "Epoch = 84 : Training Loss = 9.782611e-6\n",
      "Epoch = 85 : Training Loss = 9.740336e-6\n",
      "Epoch = 86 : Training Loss = 9.701616e-6\n",
      "Epoch = 87 : Training Loss = 9.660878e-6\n",
      "Epoch = 88 : Training Loss = 9.625444e-6\n",
      "Epoch = 89 : Training Loss = 9.583906e-6\n",
      "Epoch = 90 : Training Loss = 9.547111e-6\n",
      "Epoch = 91 : Training Loss = 9.50706e-6\n",
      "Epoch = 92 : Training Loss = 9.4693105e-6\n",
      "Epoch = 93 : Training Loss = 9.435632e-6\n",
      "Epoch = 94 : Training Loss = 9.393732e-6\n",
      "Epoch = 95 : Training Loss = 9.360607e-6\n",
      "Epoch = 96 : Training Loss = 9.32323e-6\n",
      "Epoch = 97 : Training Loss = 9.283607e-6\n",
      "Epoch = 98 : Training Loss = 9.252666e-6\n",
      "Epoch = 99 : Training Loss = 9.214388e-6\n",
      "Epoch = 100 : Training Loss = 9.175783e-6\n",
      "Epoch = 101 : Training Loss = 9.144121e-6\n",
      "Epoch = 102 : Training Loss = 9.107543e-6\n",
      "Epoch = 103 : Training Loss = 9.069771e-6\n",
      "Epoch = 104 : Training Loss = 9.035008e-6\n",
      "Epoch = 105 : Training Loss = 9.002429e-6\n",
      "Epoch = 106 : Training Loss = 8.964626e-6\n",
      "Epoch = 107 : Training Loss = 8.92955e-6\n",
      "Epoch = 108 : Training Loss = 8.896791e-6\n",
      "Epoch = 109 : Training Loss = 8.862573e-6\n",
      "Epoch = 110 : Training Loss = 8.825635e-6\n",
      "Epoch = 111 : Training Loss = 8.79553e-6\n",
      "Epoch = 112 : Training Loss = 8.759187e-6\n",
      "Epoch = 113 : Training Loss = 8.727473e-6\n",
      "Epoch = 114 : Training Loss = 8.6950495e-6\n",
      "Epoch = 115 : Training Loss = 8.6605705e-6\n",
      "Epoch = 116 : Training Loss = 8.628234e-6\n",
      "Epoch = 117 : Training Loss = 8.5978145e-6\n",
      "Epoch = 118 : Training Loss = 8.563531e-6\n",
      "Epoch = 119 : Training Loss = 8.5306965e-6\n",
      "Epoch = 120 : Training Loss = 8.497764e-6\n",
      "Epoch = 121 : Training Loss = 8.465798e-6\n",
      "Epoch = 122 : Training Loss = 8.4315925e-6\n",
      "Epoch = 123 : Training Loss = 8.4014755e-6\n",
      "Epoch = 124 : Training Loss = 8.370289e-6\n",
      "Epoch = 125 : Training Loss = 8.339365e-6\n",
      "Epoch = 126 : Training Loss = 8.308449e-6\n",
      "Epoch = 127 : Training Loss = 8.279157e-6\n",
      "Epoch = 128 : Training Loss = 8.249225e-6\n",
      "Epoch = 129 : Training Loss = 8.218615e-6\n",
      "Epoch = 130 : Training Loss = 8.187782e-6\n"
     ]
    }
   ],
   "source": [
    "# train model\n",
    "\n",
    "# Let's keep track of the loss history\n",
    "loss_history = []\n",
    "\n",
    "# The sample set being small, let's use 130 epochs\n",
    "epochs = 130\n",
    "\n",
    "for epoch in 1:epochs\n",
    "    # train model\n",
    "    train!(𝐿, θ, [(X_train, y_train)], opt)\n",
    "    # print report\n",
    "    train_loss = 𝐿(X_train, y_train)\n",
    "    push!(loss_history, train_loss)\n",
    "    println(\"Epoch = $epoch : Training Loss = $train_loss\")\n",
    "end"
   ]
  },
  {
   "cell_type": "code",
   "execution_count": 67,
   "id": "e15e82bb-49cf-4a35-a1b4-88e4f65713ea",
   "metadata": {},
   "outputs": [
    {
     "data": {
      "text/plain": [
       "0.9995271867612293"
      ]
     },
     "execution_count": 67,
     "metadata": {},
     "output_type": "execute_result"
    }
   ],
   "source": [
    "# make predictions\n",
    "\n",
    "# Let's call the predicted variable ŷ (Latex: \\hat{y} or y\\hat)\n",
    "\n",
    "ŷᵨ = model(X_test)\n",
    "\n",
    "ŷ = onecold(ŷᵨ) .- 1\n",
    "\n",
    "y = y_testᵨ\n",
    "\n",
    "mean(ŷ .== y)"
   ]
  },
  {
   "cell_type": "code",
   "execution_count": 74,
   "id": "850c838b-cd31-4eb5-9524-abb64fe26160",
   "metadata": {},
   "outputs": [
    {
     "name": "stdout",
     "output_type": "stream",
     "text": [
      "typeof(check_display) = Matrix{Int64}\n"
     ]
    },
    {
     "data": {
      "text/plain": [
       "Matrix{Int64}\u001b[90m (alias for \u001b[39m\u001b[90mArray{Int64, 2}\u001b[39m\u001b[90m)\u001b[39m"
      ]
     },
     "execution_count": 74,
     "metadata": {},
     "output_type": "execute_result"
    }
   ],
   "source": [
    "# display results\n",
    "\n",
    "check = [ŷ[i] == y[i] for i in 1:length(y)]\n",
    "\n",
    "index = collect(1:length(y))\n",
    "\n",
    "check_display = [index ŷ y check]; @show typeof(check_display)"
   ]
  },
  {
   "cell_type": "code",
   "execution_count": 76,
   "id": "813d91a1-abbb-4573-8fea-d3f7e25d31b2",
   "metadata": {},
   "outputs": [
    {
     "data": {
      "text/plain": [
       "1960-element Vector{CartesianIndex{2}}:\n",
       " CartesianIndex(2, 2)\n",
       " CartesianIndex(4, 2)\n",
       " CartesianIndex(5, 2)\n",
       " CartesianIndex(7, 2)\n",
       " CartesianIndex(8, 2)\n",
       " CartesianIndex(15, 2)\n",
       " CartesianIndex(17, 2)\n",
       " CartesianIndex(18, 2)\n",
       " CartesianIndex(23, 2)\n",
       " CartesianIndex(25, 2)\n",
       " CartesianIndex(27, 2)\n",
       " CartesianIndex(31, 2)\n",
       " CartesianIndex(33, 2)\n",
       " ⋮\n",
       " CartesianIndex(2093, 3)\n",
       " CartesianIndex(2095, 3)\n",
       " CartesianIndex(2098, 3)\n",
       " CartesianIndex(2100, 3)\n",
       " CartesianIndex(2102, 3)\n",
       " CartesianIndex(2104, 3)\n",
       " CartesianIndex(2105, 3)\n",
       " CartesianIndex(2108, 3)\n",
       " CartesianIndex(2109, 3)\n",
       " CartesianIndex(2112, 3)\n",
       " CartesianIndex(2114, 3)\n",
       " CartesianIndex(2032, 4)"
      ]
     },
     "execution_count": 76,
     "metadata": {},
     "output_type": "execute_result"
    }
   ],
   "source": [
    "findall(x -> x == false, check_display)"
   ]
  },
  {
   "cell_type": "code",
   "execution_count": 78,
   "id": "aa1b24c6-5669-49b7-935f-f10c727f52ac",
   "metadata": {},
   "outputs": [
    {
     "name": "stdout",
     "output_type": "stream",
     "text": [
      "(y[misclass_index], ŷ[misclass_index]) = (0, 0)\n"
     ]
    },
    {
     "data": {
      "image/png": "[encoded data removed]",
      "text/html": [
       "<img src=\"data:image/png;base64,iVBORw0KGgoAAAANSUhEUgAAAHAAAABwCAAAAADji6uXAAAABGdBTUEAALGPC/xhBQAAAAFzUkdCAK7OHOkAAAAgY0hSTQAAeiYAAICEAAD6AAAAgOgAAHUwAADqYAAAOpgAABdwnLpRPAAAAgdJREFUaAW9wT2olgUABtCDPipSXQKd2rJBonBQoRYXR5WgEG6DNDWoY9zJxAKXXIKGIIiCBrciCC7oIkFpXBoCG5RoaNAQuvhToYtYwzt+P+8nfDznRFmURVmURVmURVmURVmURVmURVmURVmUxVM4hGvYi2M4inWDn/CDcVEWZVEWC1jBRRzGI2zHswaHDB7hIU7ha7NFWZRFWSzgAo4a7MQN/IW/DbbgCHbiC/yG66aLsiiLshjxCo4b3MI7+B338a/BFpzDWazgA7yLeyZFWZRFWYx4DrvwHy7ge5Oe4ENsxxrexJdYNynKoizKYsQOg6/wqfnOYBUv4i2smxRlURZlMeK8wYbFXMZJvG66KIuyKIs59uAFPMCvFnMFJ80WZVEWZTHHCezBN7hmOaIsyqIs5ngbD/CJ5YmyKIuyGHETP1qeKIuyKIsZnsE2yxdlURZlMcMqXsKmp/OGwWPTRVmURVks0QEcMzhjuiiLsiiLJTmA9/A8ruKy6aIsyqIsZvgD/1jMVqxhFbexhsemi7Ioi7KY4QpuYwW7sWnSPpzGfhw0OIENs0VZlEVZjHgZl3DHpNewy2AT3+Fn80VZlEVZzPE+zmK/2Z7gLj7GR8ZFWZRFWczxLTZwCa+a9Dl+wWcWF2VRFmUx4k/sszxRFmVRFmVRFmVRFmVRFmVRFmVRFmVR9j/pU0rF4aaaBQAAAABJRU5ErkJg\">"
      ],
      "text/plain": [
       "28×28 reinterpret(reshape, Gray{Float32}, adjoint(::Matrix{Float32})) with eltype Gray{Float32}:\n",
       " Gray{Float32}(0.0)  Gray{Float32}(0.0)  …  Gray{Float32}(0.0)\n",
       " Gray{Float32}(0.0)  Gray{Float32}(0.0)     Gray{Float32}(0.0)\n",
       " Gray{Float32}(0.0)  Gray{Float32}(0.0)     Gray{Float32}(0.0)\n",
       " Gray{Float32}(0.0)  Gray{Float32}(0.0)     Gray{Float32}(0.0)\n",
       " Gray{Float32}(0.0)  Gray{Float32}(0.0)     Gray{Float32}(0.0)\n",
       " Gray{Float32}(0.0)  Gray{Float32}(0.0)  …  Gray{Float32}(0.0)\n",
       " Gray{Float32}(0.0)  Gray{Float32}(0.0)     Gray{Float32}(0.0)\n",
       " Gray{Float32}(0.0)  Gray{Float32}(0.0)     Gray{Float32}(0.0)\n",
       " Gray{Float32}(0.0)  Gray{Float32}(0.0)     Gray{Float32}(0.0)\n",
       " Gray{Float32}(0.0)  Gray{Float32}(0.0)     Gray{Float32}(0.0)\n",
       " Gray{Float32}(0.0)  Gray{Float32}(0.0)  …  Gray{Float32}(0.0)\n",
       " Gray{Float32}(0.0)  Gray{Float32}(0.0)     Gray{Float32}(0.0)\n",
       " Gray{Float32}(0.0)  Gray{Float32}(0.0)     Gray{Float32}(0.0)\n",
       " ⋮                                       ⋱  \n",
       " Gray{Float32}(0.0)  Gray{Float32}(0.0)     Gray{Float32}(0.0)\n",
       " Gray{Float32}(0.0)  Gray{Float32}(0.0)     Gray{Float32}(0.0)\n",
       " Gray{Float32}(0.0)  Gray{Float32}(0.0)     Gray{Float32}(0.0)\n",
       " Gray{Float32}(0.0)  Gray{Float32}(0.0)     Gray{Float32}(0.0)\n",
       " Gray{Float32}(0.0)  Gray{Float32}(0.0)  …  Gray{Float32}(0.0)\n",
       " Gray{Float32}(0.0)  Gray{Float32}(0.0)     Gray{Float32}(0.0)\n",
       " Gray{Float32}(0.0)  Gray{Float32}(0.0)     Gray{Float32}(0.0)\n",
       " Gray{Float32}(0.0)  Gray{Float32}(0.0)     Gray{Float32}(0.0)\n",
       " Gray{Float32}(0.0)  Gray{Float32}(0.0)     Gray{Float32}(0.0)\n",
       " Gray{Float32}(0.0)  Gray{Float32}(0.0)  …  Gray{Float32}(0.0)\n",
       " Gray{Float32}(0.0)  Gray{Float32}(0.0)     Gray{Float32}(0.0)\n",
       " Gray{Float32}(0.0)  Gray{Float32}(0.0)     Gray{Float32}(0.0)"
      ]
     },
     "execution_count": 78,
     "metadata": {},
     "output_type": "execute_result"
    }
   ],
   "source": [
    "# view misclassifications\n",
    "\n",
    "misclass_index = 4\n",
    "img = X_testᵨ[:, :, misclass_index]\n",
    "\n",
    "@show y[misclass_index], ŷ[misclass_index];\n",
    "\n",
    "colorview(Gray, img')"
   ]
  },
  {
   "cell_type": "code",
   "execution_count": 71,
   "id": "d552a462-682f-4e26-a0e1-3e38426ec732",
   "metadata": {},
   "outputs": [
    {
     "data": {
      "image/png": "[encoded data removed]",
      "image/svg+xml": [
       "<?xml version=\"1.0\" encoding=\"utf-8\"?>\n",
       "<svg xmlns=\"http://www.w3.org/2000/svg\" xmlns:xlink=\"http://www.w3.org/1999/xlink\" width=\"600\" height=\"600\" viewBox=\"0 0 2400 2400\">\n",
       "<defs>\n",
       "  <clipPath id=\"clip470\">\n",
       "    <rect x=\"0\" y=\"0\" width=\"2400\" height=\"2400\"/>\n",
       "  </clipPath>\n",
       "</defs>\n",
       "<path clip-path=\"url(#clip470)\" d=\"M0 2400 L2400 2400 L2400 0 L0 0  Z\" fill=\"#ffffff\" fill-rule=\"evenodd\" fill-opacity=\"1\"/>\n",
       "<defs>\n",
       "  <clipPath id=\"clip471\">\n",
       "    <rect x=\"480\" y=\"240\" width=\"1681\" height=\"1681\"/>\n",
       "  </clipPath>\n",
       "</defs>\n",
       "<path clip-path=\"url(#clip470)\" d=\"M423.76 2174.14 L2352.76 2174.14 L2352.76 153.712 L423.76 153.712  Z\" fill=\"#ffffff\" fill-rule=\"evenodd\" fill-opacity=\"1\"/>\n",
       "<defs>\n",
       "  <clipPath id=\"clip472\">\n",
       "    <rect x=\"423\" y=\"153\" width=\"1930\" height=\"2021\"/>\n",
       "  </clipPath>\n",
       "</defs>\n",
       "<polyline clip-path=\"url(#clip472)\" style=\"stroke:#000000; stroke-linecap:round; stroke-linejoin:round; stroke-width:2; stroke-opacity:0.1; fill:none\" points=\"464.247,2174.14 464.247,153.712 \"/>\n",
       "<polyline clip-path=\"url(#clip472)\" style=\"stroke:#000000; stroke-linecap:round; stroke-linejoin:round; stroke-width:2; stroke-opacity:0.1; fill:none\" points=\"746.388,2174.14 746.388,153.712 \"/>\n",
       "<polyline clip-path=\"url(#clip472)\" style=\"stroke:#000000; stroke-linecap:round; stroke-linejoin:round; stroke-width:2; stroke-opacity:0.1; fill:none\" points=\"1028.53,2174.14 1028.53,153.712 \"/>\n",
       "<polyline clip-path=\"url(#clip472)\" style=\"stroke:#000000; stroke-linecap:round; stroke-linejoin:round; stroke-width:2; stroke-opacity:0.1; fill:none\" points=\"1310.67,2174.14 1310.67,153.712 \"/>\n",
       "<polyline clip-path=\"url(#clip472)\" style=\"stroke:#000000; stroke-linecap:round; stroke-linejoin:round; stroke-width:2; stroke-opacity:0.1; fill:none\" points=\"1592.81,2174.14 1592.81,153.712 \"/>\n",
       "<polyline clip-path=\"url(#clip472)\" style=\"stroke:#000000; stroke-linecap:round; stroke-linejoin:round; stroke-width:2; stroke-opacity:0.1; fill:none\" points=\"1874.95,2174.14 1874.95,153.712 \"/>\n",
       "<polyline clip-path=\"url(#clip472)\" style=\"stroke:#000000; stroke-linecap:round; stroke-linejoin:round; stroke-width:2; stroke-opacity:0.1; fill:none\" points=\"2157.09,2174.14 2157.09,153.712 \"/>\n",
       "<polyline clip-path=\"url(#clip470)\" style=\"stroke:#000000; stroke-linecap:round; stroke-linejoin:round; stroke-width:4; stroke-opacity:1; fill:none\" points=\"423.76,2174.14 2352.76,2174.14 \"/>\n",
       "<polyline clip-path=\"url(#clip470)\" style=\"stroke:#000000; stroke-linecap:round; stroke-linejoin:round; stroke-width:4; stroke-opacity:1; fill:none\" points=\"464.247,2174.14 464.247,2155.24 \"/>\n",
       "<polyline clip-path=\"url(#clip470)\" style=\"stroke:#000000; stroke-linecap:round; stroke-linejoin:round; stroke-width:4; stroke-opacity:1; fill:none\" points=\"746.388,2174.14 746.388,2155.24 \"/>\n",
       "<polyline clip-path=\"url(#clip470)\" style=\"stroke:#000000; stroke-linecap:round; stroke-linejoin:round; stroke-width:4; stroke-opacity:1; fill:none\" points=\"1028.53,2174.14 1028.53,2155.24 \"/>\n",
       "<polyline clip-path=\"url(#clip470)\" style=\"stroke:#000000; stroke-linecap:round; stroke-linejoin:round; stroke-width:4; stroke-opacity:1; fill:none\" points=\"1310.67,2174.14 1310.67,2155.24 \"/>\n",
       "<polyline clip-path=\"url(#clip470)\" style=\"stroke:#000000; stroke-linecap:round; stroke-linejoin:round; stroke-width:4; stroke-opacity:1; fill:none\" points=\"1592.81,2174.14 1592.81,2155.24 \"/>\n",
       "<polyline clip-path=\"url(#clip470)\" style=\"stroke:#000000; stroke-linecap:round; stroke-linejoin:round; stroke-width:4; stroke-opacity:1; fill:none\" points=\"1874.95,2174.14 1874.95,2155.24 \"/>\n",
       "<polyline clip-path=\"url(#clip470)\" style=\"stroke:#000000; stroke-linecap:round; stroke-linejoin:round; stroke-width:4; stroke-opacity:1; fill:none\" points=\"2157.09,2174.14 2157.09,2155.24 \"/>\n",
       "<path clip-path=\"url(#clip470)\" d=\"M464.247 2205.06 Q460.636 2205.06 458.807 2208.62 Q457.002 2212.16 457.002 2219.29 Q457.002 2226.4 458.807 2229.97 Q460.636 2233.51 464.247 2233.51 Q467.881 2233.51 469.687 2229.97 Q471.516 2226.4 471.516 2219.29 Q471.516 2212.16 469.687 2208.62 Q467.881 2205.06 464.247 2205.06 M464.247 2201.35 Q470.057 2201.35 473.113 2205.96 Q476.191 2210.54 476.191 2219.29 Q476.191 2228.02 473.113 2232.63 Q470.057 2237.21 464.247 2237.21 Q458.437 2237.21 455.358 2232.63 Q452.303 2228.02 452.303 2219.29 Q452.303 2210.54 455.358 2205.96 Q458.437 2201.35 464.247 2201.35 Z\" fill=\"#000000\" fill-rule=\"nonzero\" fill-opacity=\"1\" /><path clip-path=\"url(#clip470)\" d=\"M725.161 2232.6 L741.48 2232.6 L741.48 2236.54 L719.536 2236.54 L719.536 2232.6 Q722.198 2229.85 726.781 2225.22 Q731.388 2220.57 732.568 2219.23 Q734.814 2216.7 735.693 2214.97 Q736.596 2213.21 736.596 2211.52 Q736.596 2208.76 734.652 2207.03 Q732.73 2205.29 729.629 2205.29 Q727.43 2205.29 724.976 2206.05 Q722.545 2206.82 719.768 2208.37 L719.768 2203.65 Q722.592 2202.51 725.045 2201.93 Q727.499 2201.35 729.536 2201.35 Q734.906 2201.35 738.101 2204.04 Q741.295 2206.73 741.295 2211.22 Q741.295 2213.35 740.485 2215.27 Q739.698 2217.16 737.592 2219.76 Q737.013 2220.43 733.911 2223.65 Q730.809 2226.84 725.161 2232.6 Z\" fill=\"#000000\" fill-rule=\"nonzero\" fill-opacity=\"1\" /><path clip-path=\"url(#clip470)\" d=\"M761.295 2205.06 Q757.684 2205.06 755.855 2208.62 Q754.05 2212.16 754.05 2219.29 Q754.05 2226.4 755.855 2229.97 Q757.684 2233.51 761.295 2233.51 Q764.929 2233.51 766.735 2229.97 Q768.564 2226.4 768.564 2219.29 Q768.564 2212.16 766.735 2208.62 Q764.929 2205.06 761.295 2205.06 M761.295 2201.35 Q767.105 2201.35 770.161 2205.96 Q773.239 2210.54 773.239 2219.29 Q773.239 2228.02 770.161 2232.63 Q767.105 2237.21 761.295 2237.21 Q755.485 2237.21 752.406 2232.63 Q749.351 2228.02 749.351 2219.29 Q749.351 2210.54 752.406 2205.96 Q755.485 2201.35 761.295 2201.35 Z\" fill=\"#000000\" fill-rule=\"nonzero\" fill-opacity=\"1\" /><path clip-path=\"url(#clip470)\" d=\"M1016.7 2206.05 L1004.89 2224.5 L1016.7 2224.5 L1016.7 2206.05 M1015.47 2201.98 L1021.35 2201.98 L1021.35 2224.5 L1026.28 2224.5 L1026.28 2228.39 L1021.35 2228.39 L1021.35 2236.54 L1016.7 2236.54 L1016.7 2228.39 L1001.1 2228.39 L1001.1 2223.88 L1015.47 2201.98 Z\" fill=\"#000000\" fill-rule=\"nonzero\" fill-opacity=\"1\" /><path clip-path=\"url(#clip470)\" d=\"M1044.01 2205.06 Q1040.4 2205.06 1038.57 2208.62 Q1036.77 2212.16 1036.77 2219.29 Q1036.77 2226.4 1038.57 2229.97 Q1040.4 2233.51 1044.01 2233.51 Q1047.65 2233.51 1049.45 2229.97 Q1051.28 2226.4 1051.28 2219.29 Q1051.28 2212.16 1049.45 2208.62 Q1047.65 2205.06 1044.01 2205.06 M1044.01 2201.35 Q1049.82 2201.35 1052.88 2205.96 Q1055.96 2210.54 1055.96 2219.29 Q1055.96 2228.02 1052.88 2232.63 Q1049.82 2237.21 1044.01 2237.21 Q1038.2 2237.21 1035.13 2232.63 Q1032.07 2228.02 1032.07 2219.29 Q1032.07 2210.54 1035.13 2205.96 Q1038.2 2201.35 1044.01 2201.35 Z\" fill=\"#000000\" fill-rule=\"nonzero\" fill-opacity=\"1\" /><path clip-path=\"url(#clip470)\" d=\"M1296.07 2217.4 Q1292.93 2217.4 1291.07 2219.55 Q1289.25 2221.7 1289.25 2225.45 Q1289.25 2229.18 1291.07 2231.35 Q1292.93 2233.51 1296.07 2233.51 Q1299.22 2233.51 1301.05 2231.35 Q1302.9 2229.18 1302.9 2225.45 Q1302.9 2221.7 1301.05 2219.55 Q1299.22 2217.4 1296.07 2217.4 M1305.36 2202.74 L1305.36 2207 Q1303.6 2206.17 1301.79 2205.73 Q1300.01 2205.29 1298.25 2205.29 Q1293.62 2205.29 1291.17 2208.41 Q1288.74 2211.54 1288.39 2217.86 Q1289.75 2215.85 1291.82 2214.78 Q1293.88 2213.69 1296.35 2213.69 Q1301.56 2213.69 1304.57 2216.86 Q1307.6 2220.01 1307.6 2225.45 Q1307.6 2230.78 1304.45 2233.99 Q1301.31 2237.21 1296.07 2237.21 Q1290.08 2237.21 1286.91 2232.63 Q1283.74 2228.02 1283.74 2219.29 Q1283.74 2211.1 1287.63 2206.24 Q1291.51 2201.35 1298.07 2201.35 Q1299.82 2201.35 1301.61 2201.7 Q1303.41 2202.05 1305.36 2202.74 Z\" fill=\"#000000\" fill-rule=\"nonzero\" fill-opacity=\"1\" /><path clip-path=\"url(#clip470)\" d=\"M1325.66 2205.06 Q1322.05 2205.06 1320.22 2208.62 Q1318.41 2212.16 1318.41 2219.29 Q1318.41 2226.4 1320.22 2229.97 Q1322.05 2233.51 1325.66 2233.51 Q1329.29 2233.51 1331.1 2229.97 Q1332.93 2226.4 1332.93 2219.29 Q1332.93 2212.16 1331.1 2208.62 Q1329.29 2205.06 1325.66 2205.06 M1325.66 2201.35 Q1331.47 2201.35 1334.52 2205.96 Q1337.6 2210.54 1337.6 2219.29 Q1337.6 2228.02 1334.52 2232.63 Q1331.47 2237.21 1325.66 2237.21 Q1319.85 2237.21 1316.77 2232.63 Q1313.71 2228.02 1313.71 2219.29 Q1313.71 2210.54 1316.77 2205.96 Q1319.85 2201.35 1325.66 2201.35 Z\" fill=\"#000000\" fill-rule=\"nonzero\" fill-opacity=\"1\" /><path clip-path=\"url(#clip470)\" d=\"M1577.68 2220.13 Q1574.35 2220.13 1572.43 2221.91 Q1570.53 2223.69 1570.53 2226.82 Q1570.53 2229.94 1572.43 2231.73 Q1574.35 2233.51 1577.68 2233.51 Q1581.02 2233.51 1582.94 2231.73 Q1584.86 2229.92 1584.86 2226.82 Q1584.86 2223.69 1582.94 2221.91 Q1581.04 2220.13 1577.68 2220.13 M1573.01 2218.14 Q1570 2217.4 1568.31 2215.34 Q1566.64 2213.28 1566.64 2210.31 Q1566.64 2206.17 1569.58 2203.76 Q1572.54 2201.35 1577.68 2201.35 Q1582.84 2201.35 1585.78 2203.76 Q1588.72 2206.17 1588.72 2210.31 Q1588.72 2213.28 1587.03 2215.34 Q1585.37 2217.4 1582.38 2218.14 Q1585.76 2218.92 1587.64 2221.22 Q1589.53 2223.51 1589.53 2226.82 Q1589.53 2231.84 1586.46 2234.53 Q1583.4 2237.21 1577.68 2237.21 Q1571.97 2237.21 1568.89 2234.53 Q1565.83 2231.84 1565.83 2226.82 Q1565.83 2223.51 1567.73 2221.22 Q1569.63 2218.92 1573.01 2218.14 M1571.29 2210.75 Q1571.29 2213.44 1572.96 2214.94 Q1574.65 2216.45 1577.68 2216.45 Q1580.69 2216.45 1582.38 2214.94 Q1584.09 2213.44 1584.09 2210.75 Q1584.09 2208.07 1582.38 2206.56 Q1580.69 2205.06 1577.68 2205.06 Q1574.65 2205.06 1572.96 2206.56 Q1571.29 2208.07 1571.29 2210.75 Z\" fill=\"#000000\" fill-rule=\"nonzero\" fill-opacity=\"1\" /><path clip-path=\"url(#clip470)\" d=\"M1607.84 2205.06 Q1604.23 2205.06 1602.4 2208.62 Q1600.6 2212.16 1600.6 2219.29 Q1600.6 2226.4 1602.4 2229.97 Q1604.23 2233.51 1607.84 2233.51 Q1611.48 2233.51 1613.28 2229.97 Q1615.11 2226.4 1615.11 2219.29 Q1615.11 2212.16 1613.28 2208.62 Q1611.48 2205.06 1607.84 2205.06 M1607.84 2201.35 Q1613.65 2201.35 1616.71 2205.96 Q1619.79 2210.54 1619.79 2219.29 Q1619.79 2228.02 1616.71 2232.63 Q1613.65 2237.21 1607.84 2237.21 Q1602.03 2237.21 1598.96 2232.63 Q1595.9 2228.02 1595.9 2219.29 Q1595.9 2210.54 1598.96 2205.96 Q1602.03 2201.35 1607.84 2201.35 Z\" fill=\"#000000\" fill-rule=\"nonzero\" fill-opacity=\"1\" /><path clip-path=\"url(#clip470)\" d=\"M1834.56 2232.6 L1842.2 2232.6 L1842.2 2206.24 L1833.89 2207.91 L1833.89 2203.65 L1842.15 2201.98 L1846.83 2201.98 L1846.83 2232.6 L1854.46 2232.6 L1854.46 2236.54 L1834.56 2236.54 L1834.56 2232.6 Z\" fill=\"#000000\" fill-rule=\"nonzero\" fill-opacity=\"1\" /><path clip-path=\"url(#clip470)\" d=\"M1873.91 2205.06 Q1870.3 2205.06 1868.47 2208.62 Q1866.66 2212.16 1866.66 2219.29 Q1866.66 2226.4 1868.47 2229.97 Q1870.3 2233.51 1873.91 2233.51 Q1877.54 2233.51 1879.35 2229.97 Q1881.18 2226.4 1881.18 2219.29 Q1881.18 2212.16 1879.35 2208.62 Q1877.54 2205.06 1873.91 2205.06 M1873.91 2201.35 Q1879.72 2201.35 1882.77 2205.96 Q1885.85 2210.54 1885.85 2219.29 Q1885.85 2228.02 1882.77 2232.63 Q1879.72 2237.21 1873.91 2237.21 Q1868.1 2237.21 1865.02 2232.63 Q1861.96 2228.02 1861.96 2219.29 Q1861.96 2210.54 1865.02 2205.96 Q1868.1 2201.35 1873.91 2201.35 Z\" fill=\"#000000\" fill-rule=\"nonzero\" fill-opacity=\"1\" /><path clip-path=\"url(#clip470)\" d=\"M1904.07 2205.06 Q1900.46 2205.06 1898.63 2208.62 Q1896.83 2212.16 1896.83 2219.29 Q1896.83 2226.4 1898.63 2229.97 Q1900.46 2233.51 1904.07 2233.51 Q1907.71 2233.51 1909.51 2229.97 Q1911.34 2226.4 1911.34 2219.29 Q1911.34 2212.16 1909.51 2208.62 Q1907.71 2205.06 1904.07 2205.06 M1904.07 2201.35 Q1909.88 2201.35 1912.94 2205.96 Q1916.02 2210.54 1916.02 2219.29 Q1916.02 2228.02 1912.94 2232.63 Q1909.88 2237.21 1904.07 2237.21 Q1898.26 2237.21 1895.18 2232.63 Q1892.13 2228.02 1892.13 2219.29 Q1892.13 2210.54 1895.18 2205.96 Q1898.26 2201.35 1904.07 2201.35 Z\" fill=\"#000000\" fill-rule=\"nonzero\" fill-opacity=\"1\" /><path clip-path=\"url(#clip470)\" d=\"M2116.7 2232.6 L2124.34 2232.6 L2124.34 2206.24 L2116.03 2207.91 L2116.03 2203.65 L2124.29 2201.98 L2128.97 2201.98 L2128.97 2232.6 L2136.61 2232.6 L2136.61 2236.54 L2116.7 2236.54 L2116.7 2232.6 Z\" fill=\"#000000\" fill-rule=\"nonzero\" fill-opacity=\"1\" /><path clip-path=\"url(#clip470)\" d=\"M2150.08 2232.6 L2166.4 2232.6 L2166.4 2236.54 L2144.45 2236.54 L2144.45 2232.6 Q2147.11 2229.85 2151.7 2225.22 Q2156.3 2220.57 2157.48 2219.23 Q2159.73 2216.7 2160.61 2214.97 Q2161.51 2213.21 2161.51 2211.52 Q2161.51 2208.76 2159.57 2207.03 Q2157.65 2205.29 2154.55 2205.29 Q2152.35 2205.29 2149.89 2206.05 Q2147.46 2206.82 2144.68 2208.37 L2144.68 2203.65 Q2147.51 2202.51 2149.96 2201.93 Q2152.42 2201.35 2154.45 2201.35 Q2159.82 2201.35 2163.02 2204.04 Q2166.21 2206.73 2166.21 2211.22 Q2166.21 2213.35 2165.4 2215.27 Q2164.61 2217.16 2162.51 2219.76 Q2161.93 2220.43 2158.83 2223.65 Q2155.73 2226.84 2150.08 2232.6 Z\" fill=\"#000000\" fill-rule=\"nonzero\" fill-opacity=\"1\" /><path clip-path=\"url(#clip470)\" d=\"M2186.21 2205.06 Q2182.6 2205.06 2180.77 2208.62 Q2178.97 2212.16 2178.97 2219.29 Q2178.97 2226.4 2180.77 2229.97 Q2182.6 2233.51 2186.21 2233.51 Q2189.85 2233.51 2191.65 2229.97 Q2193.48 2226.4 2193.48 2219.29 Q2193.48 2212.16 2191.65 2208.62 Q2189.85 2205.06 2186.21 2205.06 M2186.21 2201.35 Q2192.02 2201.35 2195.08 2205.96 Q2198.16 2210.54 2198.16 2219.29 Q2198.16 2228.02 2195.08 2232.63 Q2192.02 2237.21 2186.21 2237.21 Q2180.4 2237.21 2177.32 2232.63 Q2174.27 2228.02 2174.27 2219.29 Q2174.27 2210.54 2177.32 2205.96 Q2180.4 2201.35 2186.21 2201.35 Z\" fill=\"#000000\" fill-rule=\"nonzero\" fill-opacity=\"1\" /><path clip-path=\"url(#clip470)\" d=\"M1276.27 2271.48 L1306.32 2271.48 L1306.32 2276.89 L1282.7 2276.89 L1282.7 2290.96 L1305.33 2290.96 L1305.33 2296.37 L1282.7 2296.37 L1282.7 2313.59 L1306.89 2313.59 L1306.89 2319 L1276.27 2319 L1276.27 2271.48 Z\" fill=\"#000000\" fill-rule=\"nonzero\" fill-opacity=\"1\" /><path clip-path=\"url(#clip470)\" d=\"M1322.87 2313.66 L1322.87 2332.56 L1316.98 2332.56 L1316.98 2283.36 L1322.87 2283.36 L1322.87 2288.77 Q1324.71 2285.58 1327.51 2284.06 Q1330.35 2282.5 1334.26 2282.5 Q1340.75 2282.5 1344.8 2287.65 Q1348.87 2292.81 1348.87 2301.21 Q1348.87 2309.61 1344.8 2314.77 Q1340.75 2319.93 1334.26 2319.93 Q1330.35 2319.93 1327.51 2318.4 Q1324.71 2316.84 1322.87 2313.66 M1342.79 2301.21 Q1342.79 2294.75 1340.12 2291.09 Q1337.48 2287.4 1332.83 2287.4 Q1328.18 2287.4 1325.51 2291.09 Q1322.87 2294.75 1322.87 2301.21 Q1322.87 2307.67 1325.51 2311.36 Q1328.18 2315.03 1332.83 2315.03 Q1337.48 2315.03 1340.12 2311.36 Q1342.79 2307.67 1342.79 2301.21 Z\" fill=\"#000000\" fill-rule=\"nonzero\" fill-opacity=\"1\" /><path clip-path=\"url(#clip470)\" d=\"M1372.39 2287.46 Q1367.68 2287.46 1364.94 2291.15 Q1362.21 2294.81 1362.21 2301.21 Q1362.21 2307.61 1364.91 2311.3 Q1367.65 2314.96 1372.39 2314.96 Q1377.07 2314.96 1379.81 2311.27 Q1382.54 2307.58 1382.54 2301.21 Q1382.54 2294.88 1379.81 2291.19 Q1377.07 2287.46 1372.39 2287.46 M1372.39 2282.5 Q1380.03 2282.5 1384.39 2287.46 Q1388.75 2292.43 1388.75 2301.21 Q1388.75 2309.96 1384.39 2314.96 Q1380.03 2319.93 1372.39 2319.93 Q1364.72 2319.93 1360.36 2314.96 Q1356.03 2309.96 1356.03 2301.21 Q1356.03 2292.43 1360.36 2287.46 Q1364.72 2282.5 1372.39 2282.5 Z\" fill=\"#000000\" fill-rule=\"nonzero\" fill-opacity=\"1\" /><path clip-path=\"url(#clip470)\" d=\"M1424.11 2284.72 L1424.11 2290.2 Q1421.63 2288.83 1419.12 2288.16 Q1416.63 2287.46 1414.09 2287.46 Q1408.39 2287.46 1405.24 2291.09 Q1402.09 2294.69 1402.09 2301.21 Q1402.09 2307.74 1405.24 2311.36 Q1408.39 2314.96 1414.09 2314.96 Q1416.63 2314.96 1419.12 2314.29 Q1421.63 2313.59 1424.11 2312.22 L1424.11 2317.64 Q1421.66 2318.78 1419.02 2319.35 Q1416.41 2319.93 1413.45 2319.93 Q1405.4 2319.93 1400.66 2314.87 Q1395.91 2309.81 1395.91 2301.21 Q1395.91 2292.49 1400.69 2287.49 Q1405.49 2282.5 1413.83 2282.5 Q1416.54 2282.5 1419.12 2283.07 Q1421.69 2283.61 1424.11 2284.72 Z\" fill=\"#000000\" fill-rule=\"nonzero\" fill-opacity=\"1\" /><path clip-path=\"url(#clip470)\" d=\"M1463.93 2297.49 L1463.93 2319 L1458.07 2319 L1458.07 2297.68 Q1458.07 2292.62 1456.1 2290.1 Q1454.13 2287.59 1450.18 2287.59 Q1445.44 2287.59 1442.7 2290.61 Q1439.96 2293.64 1439.96 2298.86 L1439.96 2319 L1434.08 2319 L1434.08 2269.48 L1439.96 2269.48 L1439.96 2288.89 Q1442.06 2285.68 1444.9 2284.09 Q1447.76 2282.5 1451.49 2282.5 Q1457.63 2282.5 1460.78 2286.32 Q1463.93 2290.1 1463.93 2297.49 Z\" fill=\"#000000\" fill-rule=\"nonzero\" fill-opacity=\"1\" /><path clip-path=\"url(#clip470)\" d=\"M1498.34 2284.41 L1498.34 2289.94 Q1495.85 2288.67 1493.18 2288.03 Q1490.51 2287.4 1487.64 2287.4 Q1483.28 2287.4 1481.09 2288.73 Q1478.92 2290.07 1478.92 2292.75 Q1478.92 2294.78 1480.48 2295.96 Q1482.04 2297.11 1486.75 2298.16 L1488.76 2298.6 Q1494.99 2299.94 1497.6 2302.39 Q1500.25 2304.81 1500.25 2309.17 Q1500.25 2314.13 1496.3 2317.03 Q1492.38 2319.93 1485.51 2319.93 Q1482.65 2319.93 1479.53 2319.35 Q1476.44 2318.81 1473 2317.7 L1473 2311.65 Q1476.25 2313.34 1479.4 2314.2 Q1482.55 2315.03 1485.64 2315.03 Q1489.77 2315.03 1492 2313.62 Q1494.23 2312.19 1494.23 2309.61 Q1494.23 2307.23 1492.61 2305.95 Q1491.02 2304.68 1485.57 2303.5 L1483.54 2303.03 Q1478.09 2301.88 1475.67 2299.52 Q1473.26 2297.14 1473.26 2293 Q1473.26 2287.97 1476.82 2285.23 Q1480.39 2282.5 1486.94 2282.5 Q1490.19 2282.5 1493.05 2282.97 Q1495.92 2283.45 1498.34 2284.41 Z\" fill=\"#000000\" fill-rule=\"nonzero\" fill-opacity=\"1\" /><polyline clip-path=\"url(#clip472)\" style=\"stroke:#000000; stroke-linecap:round; stroke-linejoin:round; stroke-width:2; stroke-opacity:0.1; fill:none\" points=\"423.76,1861.48 2352.76,1861.48 \"/>\n",
       "<polyline clip-path=\"url(#clip472)\" style=\"stroke:#000000; stroke-linecap:round; stroke-linejoin:round; stroke-width:2; stroke-opacity:0.1; fill:none\" points=\"423.76,1546.93 2352.76,1546.93 \"/>\n",
       "<polyline clip-path=\"url(#clip472)\" style=\"stroke:#000000; stroke-linecap:round; stroke-linejoin:round; stroke-width:2; stroke-opacity:0.1; fill:none\" points=\"423.76,1232.38 2352.76,1232.38 \"/>\n",
       "<polyline clip-path=\"url(#clip472)\" style=\"stroke:#000000; stroke-linecap:round; stroke-linejoin:round; stroke-width:2; stroke-opacity:0.1; fill:none\" points=\"423.76,917.828 2352.76,917.828 \"/>\n",
       "<polyline clip-path=\"url(#clip472)\" style=\"stroke:#000000; stroke-linecap:round; stroke-linejoin:round; stroke-width:2; stroke-opacity:0.1; fill:none\" points=\"423.76,603.279 2352.76,603.279 \"/>\n",
       "<polyline clip-path=\"url(#clip472)\" style=\"stroke:#000000; stroke-linecap:round; stroke-linejoin:round; stroke-width:2; stroke-opacity:0.1; fill:none\" points=\"423.76,288.73 2352.76,288.73 \"/>\n",
       "<polyline clip-path=\"url(#clip470)\" style=\"stroke:#000000; stroke-linecap:round; stroke-linejoin:round; stroke-width:4; stroke-opacity:1; fill:none\" points=\"423.76,2174.14 423.76,153.712 \"/>\n",
       "<polyline clip-path=\"url(#clip470)\" style=\"stroke:#000000; stroke-linecap:round; stroke-linejoin:round; stroke-width:4; stroke-opacity:1; fill:none\" points=\"423.76,1861.48 442.657,1861.48 \"/>\n",
       "<polyline clip-path=\"url(#clip470)\" style=\"stroke:#000000; stroke-linecap:round; stroke-linejoin:round; stroke-width:4; stroke-opacity:1; fill:none\" points=\"423.76,1546.93 442.657,1546.93 \"/>\n",
       "<polyline clip-path=\"url(#clip470)\" style=\"stroke:#000000; stroke-linecap:round; stroke-linejoin:round; stroke-width:4; stroke-opacity:1; fill:none\" points=\"423.76,1232.38 442.657,1232.38 \"/>\n",
       "<polyline clip-path=\"url(#clip470)\" style=\"stroke:#000000; stroke-linecap:round; stroke-linejoin:round; stroke-width:4; stroke-opacity:1; fill:none\" points=\"423.76,917.828 442.657,917.828 \"/>\n",
       "<polyline clip-path=\"url(#clip470)\" style=\"stroke:#000000; stroke-linecap:round; stroke-linejoin:round; stroke-width:4; stroke-opacity:1; fill:none\" points=\"423.76,603.279 442.657,603.279 \"/>\n",
       "<polyline clip-path=\"url(#clip470)\" style=\"stroke:#000000; stroke-linecap:round; stroke-linejoin:round; stroke-width:4; stroke-opacity:1; fill:none\" points=\"423.76,288.73 442.657,288.73 \"/>\n",
       "<path clip-path=\"url(#clip470)\" d=\"M140.242 1884.49 L140.242 1880.23 Q142.002 1881.06 143.807 1881.5 Q145.613 1881.94 147.349 1881.94 Q151.978 1881.94 154.409 1878.84 Q156.863 1875.71 157.21 1869.37 Q155.867 1871.36 153.807 1872.43 Q151.747 1873.49 149.247 1873.49 Q144.062 1873.49 141.029 1870.37 Q138.02 1867.22 138.02 1861.78 Q138.02 1856.45 141.168 1853.24 Q144.316 1850.02 149.548 1850.02 Q155.543 1850.02 158.691 1854.62 Q161.863 1859.21 161.863 1867.96 Q161.863 1876.13 157.974 1881.01 Q154.108 1885.87 147.557 1885.87 Q145.798 1885.87 143.992 1885.53 Q142.187 1885.18 140.242 1884.49 M149.548 1869.83 Q152.696 1869.83 154.525 1867.68 Q156.377 1865.53 156.377 1861.78 Q156.377 1858.05 154.525 1855.9 Q152.696 1853.72 149.548 1853.72 Q146.4 1853.72 144.548 1855.9 Q142.719 1858.05 142.719 1861.78 Q142.719 1865.53 144.548 1867.68 Q146.4 1869.83 149.548 1869.83 Z\" fill=\"#000000\" fill-rule=\"nonzero\" fill-opacity=\"1\" /><path clip-path=\"url(#clip470)\" d=\"M170.265 1879.32 L175.15 1879.32 L175.15 1885.2 L170.265 1885.2 L170.265 1879.32 Z\" fill=\"#000000\" fill-rule=\"nonzero\" fill-opacity=\"1\" /><path clip-path=\"url(#clip470)\" d=\"M195.335 1853.72 Q191.724 1853.72 189.895 1857.29 Q188.089 1860.83 188.089 1867.96 Q188.089 1875.06 189.895 1878.63 Q191.724 1882.17 195.335 1882.17 Q198.969 1882.17 200.774 1878.63 Q202.603 1875.06 202.603 1867.96 Q202.603 1860.83 200.774 1857.29 Q198.969 1853.72 195.335 1853.72 M195.335 1850.02 Q201.145 1850.02 204.2 1854.62 Q207.279 1859.21 207.279 1867.96 Q207.279 1876.68 204.2 1881.29 Q201.145 1885.87 195.335 1885.87 Q189.525 1885.87 186.446 1881.29 Q183.39 1876.68 183.39 1867.96 Q183.39 1859.21 186.446 1854.62 Q189.525 1850.02 195.335 1850.02 Z\" fill=\"#000000\" fill-rule=\"nonzero\" fill-opacity=\"1\" /><path clip-path=\"url(#clip470)\" d=\"M225.497 1853.72 Q221.885 1853.72 220.057 1857.29 Q218.251 1860.83 218.251 1867.96 Q218.251 1875.06 220.057 1878.63 Q221.885 1882.17 225.497 1882.17 Q229.131 1882.17 230.936 1878.63 Q232.765 1875.06 232.765 1867.96 Q232.765 1860.83 230.936 1857.29 Q229.131 1853.72 225.497 1853.72 M225.497 1850.02 Q231.307 1850.02 234.362 1854.62 Q237.441 1859.21 237.441 1867.96 Q237.441 1876.68 234.362 1881.29 Q231.307 1885.87 225.497 1885.87 Q219.686 1885.87 216.608 1881.29 Q213.552 1876.68 213.552 1867.96 Q213.552 1859.21 216.608 1854.62 Q219.686 1850.02 225.497 1850.02 Z\" fill=\"#000000\" fill-rule=\"nonzero\" fill-opacity=\"1\" /><path clip-path=\"url(#clip470)\" d=\"M273.83 1859.74 L263.251 1870.37 L273.83 1880.94 L271.075 1883.74 L260.45 1873.12 L249.825 1883.74 L247.094 1880.94 L257.649 1870.37 L247.094 1859.74 L249.825 1856.94 L260.45 1867.56 L271.075 1856.94 L273.83 1859.74 Z\" fill=\"#000000\" fill-rule=\"nonzero\" fill-opacity=\"1\" /><path clip-path=\"url(#clip470)\" d=\"M286.191 1881.27 L293.83 1881.27 L293.83 1854.9 L285.519 1856.57 L285.519 1852.31 L293.783 1850.64 L298.459 1850.64 L298.459 1881.27 L306.098 1881.27 L306.098 1885.2 L286.191 1885.2 L286.191 1881.27 Z\" fill=\"#000000\" fill-rule=\"nonzero\" fill-opacity=\"1\" /><path clip-path=\"url(#clip470)\" d=\"M325.542 1853.72 Q321.931 1853.72 320.103 1857.29 Q318.297 1860.83 318.297 1867.96 Q318.297 1875.06 320.103 1878.63 Q321.931 1882.17 325.542 1882.17 Q329.177 1882.17 330.982 1878.63 Q332.811 1875.06 332.811 1867.96 Q332.811 1860.83 330.982 1857.29 Q329.177 1853.72 325.542 1853.72 M325.542 1850.02 Q331.352 1850.02 334.408 1854.62 Q337.487 1859.21 337.487 1867.96 Q337.487 1876.68 334.408 1881.29 Q331.352 1885.87 325.542 1885.87 Q319.732 1885.87 316.653 1881.29 Q313.598 1876.68 313.598 1867.96 Q313.598 1859.21 316.653 1854.62 Q319.732 1850.02 325.542 1850.02 Z\" fill=\"#000000\" fill-rule=\"nonzero\" fill-opacity=\"1\" /><path clip-path=\"url(#clip470)\" d=\"M337.487 1844.12 L361.598 1844.12 L361.598 1847.32 L337.487 1847.32 L337.487 1844.12 Z\" fill=\"#000000\" fill-rule=\"nonzero\" fill-opacity=\"1\" /><path clip-path=\"url(#clip470)\" d=\"M378.394 1842.24 Q375.836 1842.24 374.331 1843.99 Q372.845 1845.74 372.845 1848.78 Q372.845 1851.81 374.331 1853.58 Q375.836 1855.33 378.394 1855.33 Q380.951 1855.33 382.437 1853.58 Q383.942 1851.81 383.942 1848.78 Q383.942 1845.74 382.437 1843.99 Q380.951 1842.24 378.394 1842.24 M385.935 1830.33 L385.935 1833.79 Q384.506 1833.12 383.039 1832.76 Q381.591 1832.4 380.162 1832.4 Q376.4 1832.4 374.406 1834.94 Q372.432 1837.48 372.149 1842.61 Q373.259 1840.98 374.933 1840.11 Q376.607 1839.23 378.619 1839.23 Q382.851 1839.23 385.296 1841.81 Q387.76 1844.36 387.76 1848.78 Q387.76 1853.11 385.202 1855.72 Q382.644 1858.34 378.394 1858.34 Q373.522 1858.34 370.946 1854.61 Q368.369 1850.87 368.369 1843.78 Q368.369 1837.12 371.529 1833.17 Q374.688 1829.21 380.011 1829.21 Q381.44 1829.21 382.889 1829.49 Q384.356 1829.77 385.935 1830.33 Z\" fill=\"#000000\" fill-rule=\"nonzero\" fill-opacity=\"1\" /><path clip-path=\"url(#clip470)\" d=\"M141.854 1566.72 L149.493 1566.72 L149.493 1540.35 L141.183 1542.02 L141.183 1537.76 L149.447 1536.09 L154.123 1536.09 L154.123 1566.72 L161.761 1566.72 L161.761 1570.65 L141.854 1570.65 L141.854 1566.72 Z\" fill=\"#000000\" fill-rule=\"nonzero\" fill-opacity=\"1\" /><path clip-path=\"url(#clip470)\" d=\"M171.206 1564.77 L176.09 1564.77 L176.09 1570.65 L171.206 1570.65 L171.206 1564.77 Z\" fill=\"#000000\" fill-rule=\"nonzero\" fill-opacity=\"1\" /><path clip-path=\"url(#clip470)\" d=\"M196.275 1539.17 Q192.664 1539.17 190.835 1542.74 Q189.03 1546.28 189.03 1553.41 Q189.03 1560.52 190.835 1564.08 Q192.664 1567.62 196.275 1567.62 Q199.909 1567.62 201.715 1564.08 Q203.544 1560.52 203.544 1553.41 Q203.544 1546.28 201.715 1542.74 Q199.909 1539.17 196.275 1539.17 M196.275 1535.47 Q202.085 1535.47 205.141 1540.08 Q208.219 1544.66 208.219 1553.41 Q208.219 1562.14 205.141 1566.74 Q202.085 1571.33 196.275 1571.33 Q190.465 1571.33 187.386 1566.74 Q184.331 1562.14 184.331 1553.41 Q184.331 1544.66 187.386 1540.08 Q190.465 1535.47 196.275 1535.47 Z\" fill=\"#000000\" fill-rule=\"nonzero\" fill-opacity=\"1\" /><path clip-path=\"url(#clip470)\" d=\"M226.437 1539.17 Q222.826 1539.17 220.997 1542.74 Q219.192 1546.28 219.192 1553.41 Q219.192 1560.52 220.997 1564.08 Q222.826 1567.62 226.437 1567.62 Q230.071 1567.62 231.877 1564.08 Q233.705 1560.52 233.705 1553.41 Q233.705 1546.28 231.877 1542.74 Q230.071 1539.17 226.437 1539.17 M226.437 1535.47 Q232.247 1535.47 235.303 1540.08 Q238.381 1544.66 238.381 1553.41 Q238.381 1562.14 235.303 1566.74 Q232.247 1571.33 226.437 1571.33 Q220.627 1571.33 217.548 1566.74 Q214.493 1562.14 214.493 1553.41 Q214.493 1544.66 217.548 1540.08 Q220.627 1535.47 226.437 1535.47 Z\" fill=\"#000000\" fill-rule=\"nonzero\" fill-opacity=\"1\" /><path clip-path=\"url(#clip470)\" d=\"M274.77 1545.19 L264.191 1555.82 L274.77 1566.39 L272.015 1569.2 L261.39 1558.57 L250.766 1569.2 L248.034 1566.39 L258.59 1555.82 L248.034 1545.19 L250.766 1542.39 L261.39 1553.02 L272.015 1542.39 L274.77 1545.19 Z\" fill=\"#000000\" fill-rule=\"nonzero\" fill-opacity=\"1\" /><path clip-path=\"url(#clip470)\" d=\"M287.131 1566.72 L294.77 1566.72 L294.77 1540.35 L286.46 1542.02 L286.46 1537.76 L294.724 1536.09 L299.4 1536.09 L299.4 1566.72 L307.038 1566.72 L307.038 1570.65 L287.131 1570.65 L287.131 1566.72 Z\" fill=\"#000000\" fill-rule=\"nonzero\" fill-opacity=\"1\" /><path clip-path=\"url(#clip470)\" d=\"M326.483 1539.17 Q322.872 1539.17 321.043 1542.74 Q319.237 1546.28 319.237 1553.41 Q319.237 1560.52 321.043 1564.08 Q322.872 1567.62 326.483 1567.62 Q330.117 1567.62 331.922 1564.08 Q333.751 1560.52 333.751 1553.41 Q333.751 1546.28 331.922 1542.74 Q330.117 1539.17 326.483 1539.17 M326.483 1535.47 Q332.293 1535.47 335.348 1540.08 Q338.427 1544.66 338.427 1553.41 Q338.427 1562.14 335.348 1566.74 Q332.293 1571.33 326.483 1571.33 Q320.673 1571.33 317.594 1566.74 Q314.538 1562.14 314.538 1553.41 Q314.538 1544.66 317.594 1540.08 Q320.673 1535.47 326.483 1535.47 Z\" fill=\"#000000\" fill-rule=\"nonzero\" fill-opacity=\"1\" /><path clip-path=\"url(#clip470)\" d=\"M338.427 1529.57 L362.539 1529.57 L362.539 1532.77 L338.427 1532.77 L338.427 1529.57 Z\" fill=\"#000000\" fill-rule=\"nonzero\" fill-opacity=\"1\" /><path clip-path=\"url(#clip470)\" d=\"M370.776 1515.16 L385.691 1515.16 L385.691 1518.36 L374.256 1518.36 L374.256 1525.24 Q375.083 1524.96 375.911 1524.83 Q376.738 1524.68 377.566 1524.68 Q382.268 1524.68 385.014 1527.26 Q387.76 1529.83 387.76 1534.23 Q387.76 1538.77 384.939 1541.29 Q382.118 1543.79 376.983 1543.79 Q375.215 1543.79 373.372 1543.49 Q371.548 1543.19 369.592 1542.59 L369.592 1538.77 Q371.284 1539.69 373.09 1540.14 Q374.895 1540.59 376.908 1540.59 Q380.162 1540.59 382.061 1538.88 Q383.961 1537.17 383.961 1534.23 Q383.961 1531.3 382.061 1529.59 Q380.162 1527.88 376.908 1527.88 Q375.384 1527.88 373.861 1528.22 Q372.356 1528.55 370.776 1529.27 L370.776 1515.16 Z\" fill=\"#000000\" fill-rule=\"nonzero\" fill-opacity=\"1\" /><path clip-path=\"url(#clip470)\" d=\"M141.854 1252.17 L149.493 1252.17 L149.493 1225.8 L141.183 1227.47 L141.183 1223.21 L149.447 1221.55 L154.123 1221.55 L154.123 1252.17 L161.761 1252.17 L161.761 1256.11 L141.854 1256.11 L141.854 1252.17 Z\" fill=\"#000000\" fill-rule=\"nonzero\" fill-opacity=\"1\" /><path clip-path=\"url(#clip470)\" d=\"M171.206 1250.23 L176.09 1250.23 L176.09 1256.11 L171.206 1256.11 L171.206 1250.23 Z\" fill=\"#000000\" fill-rule=\"nonzero\" fill-opacity=\"1\" /><path clip-path=\"url(#clip470)\" d=\"M187.085 1252.17 L194.724 1252.17 L194.724 1225.8 L186.414 1227.47 L186.414 1223.21 L194.678 1221.55 L199.354 1221.55 L199.354 1252.17 L206.993 1252.17 L206.993 1256.11 L187.085 1256.11 L187.085 1252.17 Z\" fill=\"#000000\" fill-rule=\"nonzero\" fill-opacity=\"1\" /><path clip-path=\"url(#clip470)\" d=\"M226.437 1224.62 Q222.826 1224.62 220.997 1228.19 Q219.192 1231.73 219.192 1238.86 Q219.192 1245.97 220.997 1249.53 Q222.826 1253.07 226.437 1253.07 Q230.071 1253.07 231.877 1249.53 Q233.705 1245.97 233.705 1238.86 Q233.705 1231.73 231.877 1228.19 Q230.071 1224.62 226.437 1224.62 M226.437 1220.92 Q232.247 1220.92 235.303 1225.53 Q238.381 1230.11 238.381 1238.86 Q238.381 1247.59 235.303 1252.19 Q232.247 1256.78 226.437 1256.78 Q220.627 1256.78 217.548 1252.19 Q214.493 1247.59 214.493 1238.86 Q214.493 1230.11 217.548 1225.53 Q220.627 1220.92 226.437 1220.92 Z\" fill=\"#000000\" fill-rule=\"nonzero\" fill-opacity=\"1\" /><path clip-path=\"url(#clip470)\" d=\"M274.77 1230.64 L264.191 1241.27 L274.77 1251.85 L272.015 1254.65 L261.39 1244.02 L250.766 1254.65 L248.034 1251.85 L258.59 1241.27 L248.034 1230.64 L250.766 1227.84 L261.39 1238.47 L272.015 1227.84 L274.77 1230.64 Z\" fill=\"#000000\" fill-rule=\"nonzero\" fill-opacity=\"1\" /><path clip-path=\"url(#clip470)\" d=\"M287.131 1252.17 L294.77 1252.17 L294.77 1225.8 L286.46 1227.47 L286.46 1223.21 L294.724 1221.55 L299.4 1221.55 L299.4 1252.17 L307.038 1252.17 L307.038 1256.11 L287.131 1256.11 L287.131 1252.17 Z\" fill=\"#000000\" fill-rule=\"nonzero\" fill-opacity=\"1\" /><path clip-path=\"url(#clip470)\" d=\"M326.483 1224.62 Q322.872 1224.62 321.043 1228.19 Q319.237 1231.73 319.237 1238.86 Q319.237 1245.97 321.043 1249.53 Q322.872 1253.07 326.483 1253.07 Q330.117 1253.07 331.922 1249.53 Q333.751 1245.97 333.751 1238.86 Q333.751 1231.73 331.922 1228.19 Q330.117 1224.62 326.483 1224.62 M326.483 1220.92 Q332.293 1220.92 335.348 1225.53 Q338.427 1230.11 338.427 1238.86 Q338.427 1247.59 335.348 1252.19 Q332.293 1256.78 326.483 1256.78 Q320.673 1256.78 317.594 1252.19 Q314.538 1247.59 314.538 1238.86 Q314.538 1230.11 317.594 1225.53 Q320.673 1220.92 326.483 1220.92 Z\" fill=\"#000000\" fill-rule=\"nonzero\" fill-opacity=\"1\" /><path clip-path=\"url(#clip470)\" d=\"M338.427 1215.02 L362.539 1215.02 L362.539 1218.22 L338.427 1218.22 L338.427 1215.02 Z\" fill=\"#000000\" fill-rule=\"nonzero\" fill-opacity=\"1\" /><path clip-path=\"url(#clip470)\" d=\"M370.776 1200.61 L385.691 1200.61 L385.691 1203.81 L374.256 1203.81 L374.256 1210.7 Q375.083 1210.41 375.911 1210.28 Q376.738 1210.13 377.566 1210.13 Q382.268 1210.13 385.014 1212.71 Q387.76 1215.28 387.76 1219.69 Q387.76 1224.22 384.939 1226.74 Q382.118 1229.24 376.983 1229.24 Q375.215 1229.24 373.372 1228.94 Q371.548 1228.64 369.592 1228.04 L369.592 1224.22 Q371.284 1225.14 373.09 1225.59 Q374.895 1226.04 376.908 1226.04 Q380.162 1226.04 382.061 1224.33 Q383.961 1222.62 383.961 1219.69 Q383.961 1216.75 382.061 1215.04 Q380.162 1213.33 376.908 1213.33 Q375.384 1213.33 373.861 1213.67 Q372.356 1214.01 370.776 1214.72 L370.776 1200.61 Z\" fill=\"#000000\" fill-rule=\"nonzero\" fill-opacity=\"1\" /><path clip-path=\"url(#clip470)\" d=\"M141.854 937.621 L149.493 937.621 L149.493 911.255 L141.183 912.922 L141.183 908.663 L149.447 906.996 L154.123 906.996 L154.123 937.621 L161.761 937.621 L161.761 941.556 L141.854 941.556 L141.854 937.621 Z\" fill=\"#000000\" fill-rule=\"nonzero\" fill-opacity=\"1\" /><path clip-path=\"url(#clip470)\" d=\"M171.206 935.676 L176.09 935.676 L176.09 941.556 L171.206 941.556 L171.206 935.676 Z\" fill=\"#000000\" fill-rule=\"nonzero\" fill-opacity=\"1\" /><path clip-path=\"url(#clip470)\" d=\"M190.303 937.621 L206.622 937.621 L206.622 941.556 L184.678 941.556 L184.678 937.621 Q187.34 934.866 191.923 930.237 Q196.53 925.584 197.71 924.241 Q199.956 921.718 200.835 919.982 Q201.738 918.223 201.738 916.533 Q201.738 913.778 199.794 912.042 Q197.872 910.306 194.77 910.306 Q192.571 910.306 190.118 911.07 Q187.687 911.834 184.909 913.385 L184.909 908.663 Q187.733 907.528 190.187 906.95 Q192.641 906.371 194.678 906.371 Q200.048 906.371 203.243 909.056 Q206.437 911.741 206.437 916.232 Q206.437 918.362 205.627 920.283 Q204.84 922.181 202.733 924.774 Q202.155 925.445 199.053 928.663 Q195.951 931.857 190.303 937.621 Z\" fill=\"#000000\" fill-rule=\"nonzero\" fill-opacity=\"1\" /><path clip-path=\"url(#clip470)\" d=\"M226.437 910.075 Q222.826 910.075 220.997 913.64 Q219.192 917.181 219.192 924.311 Q219.192 931.417 220.997 934.982 Q222.826 938.524 226.437 938.524 Q230.071 938.524 231.877 934.982 Q233.705 931.417 233.705 924.311 Q233.705 917.181 231.877 913.64 Q230.071 910.075 226.437 910.075 M226.437 906.371 Q232.247 906.371 235.303 910.978 Q238.381 915.561 238.381 924.311 Q238.381 933.038 235.303 937.644 Q232.247 942.227 226.437 942.227 Q220.627 942.227 217.548 937.644 Q214.493 933.038 214.493 924.311 Q214.493 915.561 217.548 910.978 Q220.627 906.371 226.437 906.371 Z\" fill=\"#000000\" fill-rule=\"nonzero\" fill-opacity=\"1\" /><path clip-path=\"url(#clip470)\" d=\"M274.77 916.093 L264.191 926.718 L274.77 937.297 L272.015 940.098 L261.39 929.473 L250.766 940.098 L248.034 937.297 L258.59 926.718 L248.034 916.093 L250.766 913.292 L261.39 923.917 L272.015 913.292 L274.77 916.093 Z\" fill=\"#000000\" fill-rule=\"nonzero\" fill-opacity=\"1\" /><path clip-path=\"url(#clip470)\" d=\"M287.131 937.621 L294.77 937.621 L294.77 911.255 L286.46 912.922 L286.46 908.663 L294.724 906.996 L299.4 906.996 L299.4 937.621 L307.038 937.621 L307.038 941.556 L287.131 941.556 L287.131 937.621 Z\" fill=\"#000000\" fill-rule=\"nonzero\" fill-opacity=\"1\" /><path clip-path=\"url(#clip470)\" d=\"M326.483 910.075 Q322.872 910.075 321.043 913.64 Q319.237 917.181 319.237 924.311 Q319.237 931.417 321.043 934.982 Q322.872 938.524 326.483 938.524 Q330.117 938.524 331.922 934.982 Q333.751 931.417 333.751 924.311 Q333.751 917.181 331.922 913.64 Q330.117 910.075 326.483 910.075 M326.483 906.371 Q332.293 906.371 335.348 910.978 Q338.427 915.561 338.427 924.311 Q338.427 933.038 335.348 937.644 Q332.293 942.227 326.483 942.227 Q320.673 942.227 317.594 937.644 Q314.538 933.038 314.538 924.311 Q314.538 915.561 317.594 910.978 Q320.673 906.371 326.483 906.371 Z\" fill=\"#000000\" fill-rule=\"nonzero\" fill-opacity=\"1\" /><path clip-path=\"url(#clip470)\" d=\"M338.427 900.472 L362.539 900.472 L362.539 903.67 L338.427 903.67 L338.427 900.472 Z\" fill=\"#000000\" fill-rule=\"nonzero\" fill-opacity=\"1\" /><path clip-path=\"url(#clip470)\" d=\"M370.776 886.066 L385.691 886.066 L385.691 889.263 L374.256 889.263 L374.256 896.147 Q375.083 895.865 375.911 895.733 Q376.738 895.582 377.566 895.582 Q382.268 895.582 385.014 898.159 Q387.76 900.736 387.76 905.137 Q387.76 909.669 384.939 912.19 Q382.118 914.691 376.983 914.691 Q375.215 914.691 373.372 914.39 Q371.548 914.089 369.592 913.487 L369.592 909.669 Q371.284 910.591 373.09 911.042 Q374.895 911.494 376.908 911.494 Q380.162 911.494 382.061 909.782 Q383.961 908.071 383.961 905.137 Q383.961 902.203 382.061 900.491 Q380.162 898.78 376.908 898.78 Q375.384 898.78 373.861 899.118 Q372.356 899.457 370.776 900.172 L370.776 886.066 Z\" fill=\"#000000\" fill-rule=\"nonzero\" fill-opacity=\"1\" /><path clip-path=\"url(#clip470)\" d=\"M141.854 623.072 L149.493 623.072 L149.493 596.706 L141.183 598.373 L141.183 594.114 L149.447 592.447 L154.123 592.447 L154.123 623.072 L161.761 623.072 L161.761 627.007 L141.854 627.007 L141.854 623.072 Z\" fill=\"#000000\" fill-rule=\"nonzero\" fill-opacity=\"1\" /><path clip-path=\"url(#clip470)\" d=\"M171.206 621.127 L176.09 621.127 L176.09 627.007 L171.206 627.007 L171.206 621.127 Z\" fill=\"#000000\" fill-rule=\"nonzero\" fill-opacity=\"1\" /><path clip-path=\"url(#clip470)\" d=\"M200.442 608.373 Q203.798 609.09 205.673 611.359 Q207.571 613.627 207.571 616.961 Q207.571 622.076 204.053 624.877 Q200.534 627.678 194.053 627.678 Q191.877 627.678 189.562 627.239 Q187.27 626.822 184.817 625.965 L184.817 621.452 Q186.761 622.586 189.076 623.164 Q191.391 623.743 193.914 623.743 Q198.312 623.743 200.604 622.007 Q202.919 620.271 202.919 616.961 Q202.919 613.905 200.766 612.192 Q198.636 610.456 194.817 610.456 L190.789 610.456 L190.789 606.614 L195.002 606.614 Q198.451 606.614 200.28 605.248 Q202.108 603.859 202.108 601.266 Q202.108 598.604 200.21 597.192 Q198.335 595.757 194.817 595.757 Q192.895 595.757 190.696 596.174 Q188.497 596.591 185.858 597.47 L185.858 593.304 Q188.52 592.563 190.835 592.192 Q193.173 591.822 195.233 591.822 Q200.557 591.822 203.659 594.253 Q206.761 596.66 206.761 600.78 Q206.761 603.651 205.118 605.641 Q203.474 607.609 200.442 608.373 Z\" fill=\"#000000\" fill-rule=\"nonzero\" fill-opacity=\"1\" /><path clip-path=\"url(#clip470)\" d=\"M226.437 595.526 Q222.826 595.526 220.997 599.091 Q219.192 602.632 219.192 609.762 Q219.192 616.868 220.997 620.433 Q222.826 623.975 226.437 623.975 Q230.071 623.975 231.877 620.433 Q233.705 616.868 233.705 609.762 Q233.705 602.632 231.877 599.091 Q230.071 595.526 226.437 595.526 M226.437 591.822 Q232.247 591.822 235.303 596.428 Q238.381 601.012 238.381 609.762 Q238.381 618.489 235.303 623.095 Q232.247 627.678 226.437 627.678 Q220.627 627.678 217.548 623.095 Q214.493 618.489 214.493 609.762 Q214.493 601.012 217.548 596.428 Q220.627 591.822 226.437 591.822 Z\" fill=\"#000000\" fill-rule=\"nonzero\" fill-opacity=\"1\" /><path clip-path=\"url(#clip470)\" d=\"M274.77 601.544 L264.191 612.169 L274.77 622.748 L272.015 625.549 L261.39 614.924 L250.766 625.549 L248.034 622.748 L258.59 612.169 L248.034 601.544 L250.766 598.743 L261.39 609.368 L272.015 598.743 L274.77 601.544 Z\" fill=\"#000000\" fill-rule=\"nonzero\" fill-opacity=\"1\" /><path clip-path=\"url(#clip470)\" d=\"M287.131 623.072 L294.77 623.072 L294.77 596.706 L286.46 598.373 L286.46 594.114 L294.724 592.447 L299.4 592.447 L299.4 623.072 L307.038 623.072 L307.038 627.007 L287.131 627.007 L287.131 623.072 Z\" fill=\"#000000\" fill-rule=\"nonzero\" fill-opacity=\"1\" /><path clip-path=\"url(#clip470)\" d=\"M326.483 595.526 Q322.872 595.526 321.043 599.091 Q319.237 602.632 319.237 609.762 Q319.237 616.868 321.043 620.433 Q322.872 623.975 326.483 623.975 Q330.117 623.975 331.922 620.433 Q333.751 616.868 333.751 609.762 Q333.751 602.632 331.922 599.091 Q330.117 595.526 326.483 595.526 M326.483 591.822 Q332.293 591.822 335.348 596.428 Q338.427 601.012 338.427 609.762 Q338.427 618.489 335.348 623.095 Q332.293 627.678 326.483 627.678 Q320.673 627.678 317.594 623.095 Q314.538 618.489 314.538 609.762 Q314.538 601.012 317.594 596.428 Q320.673 591.822 326.483 591.822 Z\" fill=\"#000000\" fill-rule=\"nonzero\" fill-opacity=\"1\" /><path clip-path=\"url(#clip470)\" d=\"M338.427 585.923 L362.539 585.923 L362.539 589.121 L338.427 589.121 L338.427 585.923 Z\" fill=\"#000000\" fill-rule=\"nonzero\" fill-opacity=\"1\" /><path clip-path=\"url(#clip470)\" d=\"M370.776 571.517 L385.691 571.517 L385.691 574.714 L374.256 574.714 L374.256 581.598 Q375.083 581.315 375.911 581.184 Q376.738 581.033 377.566 581.033 Q382.268 581.033 385.014 583.61 Q387.76 586.187 387.76 590.588 Q387.76 595.12 384.939 597.641 Q382.118 600.142 376.983 600.142 Q375.215 600.142 373.372 599.841 Q371.548 599.54 369.592 598.938 L369.592 595.12 Q371.284 596.042 373.09 596.493 Q374.895 596.945 376.908 596.945 Q380.162 596.945 382.061 595.233 Q383.961 593.522 383.961 590.588 Q383.961 587.654 382.061 585.942 Q380.162 584.231 376.908 584.231 Q375.384 584.231 373.861 584.569 Q372.356 584.908 370.776 585.622 L370.776 571.517 Z\" fill=\"#000000\" fill-rule=\"nonzero\" fill-opacity=\"1\" /><path clip-path=\"url(#clip470)\" d=\"M141.854 308.523 L149.493 308.523 L149.493 282.157 L141.183 283.824 L141.183 279.565 L149.447 277.898 L154.123 277.898 L154.123 308.523 L161.761 308.523 L161.761 312.458 L141.854 312.458 L141.854 308.523 Z\" fill=\"#000000\" fill-rule=\"nonzero\" fill-opacity=\"1\" /><path clip-path=\"url(#clip470)\" d=\"M171.206 306.578 L176.09 306.578 L176.09 312.458 L171.206 312.458 L171.206 306.578 Z\" fill=\"#000000\" fill-rule=\"nonzero\" fill-opacity=\"1\" /><path clip-path=\"url(#clip470)\" d=\"M199.122 281.972 L187.317 300.421 L199.122 300.421 L199.122 281.972 M197.895 277.898 L203.775 277.898 L203.775 300.421 L208.706 300.421 L208.706 304.31 L203.775 304.31 L203.775 312.458 L199.122 312.458 L199.122 304.31 L183.52 304.31 L183.52 299.796 L197.895 277.898 Z\" fill=\"#000000\" fill-rule=\"nonzero\" fill-opacity=\"1\" /><path clip-path=\"url(#clip470)\" d=\"M226.437 280.977 Q222.826 280.977 220.997 284.541 Q219.192 288.083 219.192 295.213 Q219.192 302.319 220.997 305.884 Q222.826 309.426 226.437 309.426 Q230.071 309.426 231.877 305.884 Q233.705 302.319 233.705 295.213 Q233.705 288.083 231.877 284.541 Q230.071 280.977 226.437 280.977 M226.437 277.273 Q232.247 277.273 235.303 281.879 Q238.381 286.463 238.381 295.213 Q238.381 303.939 235.303 308.546 Q232.247 313.129 226.437 313.129 Q220.627 313.129 217.548 308.546 Q214.493 303.939 214.493 295.213 Q214.493 286.463 217.548 281.879 Q220.627 277.273 226.437 277.273 Z\" fill=\"#000000\" fill-rule=\"nonzero\" fill-opacity=\"1\" /><path clip-path=\"url(#clip470)\" d=\"M274.77 286.995 L264.191 297.62 L274.77 308.199 L272.015 311 L261.39 300.375 L250.766 311 L248.034 308.199 L258.59 297.62 L248.034 286.995 L250.766 284.194 L261.39 294.819 L272.015 284.194 L274.77 286.995 Z\" fill=\"#000000\" fill-rule=\"nonzero\" fill-opacity=\"1\" /><path clip-path=\"url(#clip470)\" d=\"M287.131 308.523 L294.77 308.523 L294.77 282.157 L286.46 283.824 L286.46 279.565 L294.724 277.898 L299.4 277.898 L299.4 308.523 L307.038 308.523 L307.038 312.458 L287.131 312.458 L287.131 308.523 Z\" fill=\"#000000\" fill-rule=\"nonzero\" fill-opacity=\"1\" /><path clip-path=\"url(#clip470)\" d=\"M326.483 280.977 Q322.872 280.977 321.043 284.541 Q319.237 288.083 319.237 295.213 Q319.237 302.319 321.043 305.884 Q322.872 309.426 326.483 309.426 Q330.117 309.426 331.922 305.884 Q333.751 302.319 333.751 295.213 Q333.751 288.083 331.922 284.541 Q330.117 280.977 326.483 280.977 M326.483 277.273 Q332.293 277.273 335.348 281.879 Q338.427 286.463 338.427 295.213 Q338.427 303.939 335.348 308.546 Q332.293 313.129 326.483 313.129 Q320.673 313.129 317.594 308.546 Q314.538 303.939 314.538 295.213 Q314.538 286.463 317.594 281.879 Q320.673 277.273 326.483 277.273 Z\" fill=\"#000000\" fill-rule=\"nonzero\" fill-opacity=\"1\" /><path clip-path=\"url(#clip470)\" d=\"M338.427 271.374 L362.539 271.374 L362.539 274.572 L338.427 274.572 L338.427 271.374 Z\" fill=\"#000000\" fill-rule=\"nonzero\" fill-opacity=\"1\" /><path clip-path=\"url(#clip470)\" d=\"M370.776 256.968 L385.691 256.968 L385.691 260.165 L374.256 260.165 L374.256 267.049 Q375.083 266.766 375.911 266.635 Q376.738 266.484 377.566 266.484 Q382.268 266.484 385.014 269.061 Q387.76 271.638 387.76 276.039 Q387.76 280.571 384.939 283.092 Q382.118 285.593 376.983 285.593 Q375.215 285.593 373.372 285.292 Q371.548 284.991 369.592 284.389 L369.592 280.571 Q371.284 281.493 373.09 281.944 Q374.895 282.396 376.908 282.396 Q380.162 282.396 382.061 280.684 Q383.961 278.973 383.961 276.039 Q383.961 273.105 382.061 271.393 Q380.162 269.682 376.908 269.682 Q375.384 269.682 373.861 270.02 Q372.356 270.359 370.776 271.073 L370.776 256.968 Z\" fill=\"#000000\" fill-rule=\"nonzero\" fill-opacity=\"1\" /><path clip-path=\"url(#clip470)\" d=\"M40.2442 1230.62 L40.2442 1224.19 L82.3533 1224.19 L82.3533 1201.05 L87.7642 1201.05 L87.7642 1230.62 L40.2442 1230.62 Z\" fill=\"#000000\" fill-rule=\"nonzero\" fill-opacity=\"1\" /><path clip-path=\"url(#clip470)\" d=\"M56.2221 1181.89 Q56.2221 1186.6 59.9142 1189.34 Q63.5745 1192.08 69.972 1192.08 Q76.3695 1192.08 80.0617 1189.37 Q83.7219 1186.64 83.7219 1181.89 Q83.7219 1177.21 80.0298 1174.48 Q76.3377 1171.74 69.972 1171.74 Q63.6381 1171.74 59.946 1174.48 Q56.2221 1177.21 56.2221 1181.89 M51.2568 1181.89 Q51.2568 1174.25 56.2221 1169.89 Q61.1873 1165.53 69.972 1165.53 Q78.7249 1165.53 83.7219 1169.89 Q88.6872 1174.25 88.6872 1181.89 Q88.6872 1189.56 83.7219 1193.92 Q78.7249 1198.25 69.972 1198.25 Q61.1873 1198.25 56.2221 1193.92 Q51.2568 1189.56 51.2568 1181.89 Z\" fill=\"#000000\" fill-rule=\"nonzero\" fill-opacity=\"1\" /><path clip-path=\"url(#clip470)\" d=\"M53.1665 1133.1 L58.7047 1133.1 Q57.4316 1135.58 56.795 1138.26 Q56.1584 1140.93 56.1584 1143.79 Q56.1584 1148.15 57.4952 1150.35 Q58.832 1152.52 61.5056 1152.52 Q63.5426 1152.52 64.7203 1150.96 Q65.8661 1149.4 66.9165 1144.69 L67.3621 1142.68 Q68.6989 1136.44 71.1497 1133.83 Q73.5686 1131.19 77.9291 1131.19 Q82.8944 1131.19 85.7908 1135.14 Q88.6872 1139.05 88.6872 1145.93 Q88.6872 1148.79 88.1143 1151.91 Q87.5732 1155 86.4592 1158.44 L80.4118 1158.44 Q82.0987 1155.19 82.958 1152.04 Q83.7856 1148.89 83.7856 1145.8 Q83.7856 1141.66 82.3851 1139.43 Q80.9529 1137.21 78.3747 1137.21 Q75.9876 1137.21 74.7145 1138.83 Q73.4413 1140.42 72.2637 1145.86 L71.7862 1147.9 Q70.6404 1153.34 68.2851 1155.76 Q65.898 1158.18 61.7602 1158.18 Q56.7313 1158.18 53.9941 1154.62 Q51.2568 1151.05 51.2568 1144.49 Q51.2568 1141.25 51.7343 1138.38 Q52.2117 1135.52 53.1665 1133.1 Z\" fill=\"#000000\" fill-rule=\"nonzero\" fill-opacity=\"1\" /><path clip-path=\"url(#clip470)\" d=\"M53.1665 1099.14 L58.7047 1099.14 Q57.4316 1101.62 56.795 1104.3 Q56.1584 1106.97 56.1584 1109.83 Q56.1584 1114.19 57.4952 1116.39 Q58.832 1118.55 61.5056 1118.55 Q63.5426 1118.55 64.7203 1116.99 Q65.8661 1115.44 66.9165 1110.72 L67.3621 1108.72 Q68.6989 1102.48 71.1497 1099.87 Q73.5686 1097.23 77.9291 1097.23 Q82.8944 1097.23 85.7908 1101.18 Q88.6872 1105.09 88.6872 1111.97 Q88.6872 1114.83 88.1143 1117.95 Q87.5732 1121.04 86.4592 1124.47 L80.4118 1124.47 Q82.0987 1121.23 82.958 1118.08 Q83.7856 1114.93 83.7856 1111.84 Q83.7856 1107.7 82.3851 1105.47 Q80.9529 1103.24 78.3747 1103.24 Q75.9876 1103.24 74.7145 1104.87 Q73.4413 1106.46 72.2637 1111.9 L71.7862 1113.94 Q70.6404 1119.38 68.2851 1121.8 Q65.898 1124.22 61.7602 1124.22 Q56.7313 1124.22 53.9941 1120.66 Q51.2568 1117.09 51.2568 1110.53 Q51.2568 1107.29 51.7343 1104.42 Q52.2117 1101.56 53.1665 1099.14 Z\" fill=\"#000000\" fill-rule=\"nonzero\" fill-opacity=\"1\" /><path clip-path=\"url(#clip470)\" d=\"M1078.89 12.096 L1087.07 12.096 L1087.07 65.6895 L1116.52 65.6895 L1116.52 72.576 L1078.89 72.576 L1078.89 12.096 Z\" fill=\"#000000\" fill-rule=\"nonzero\" fill-opacity=\"1\" /><path clip-path=\"url(#clip470)\" d=\"M1162.14 48.0275 L1162.14 51.6733 L1127.87 51.6733 Q1128.35 59.3701 1132.48 63.421 Q1136.66 67.4314 1144.07 67.4314 Q1148.36 67.4314 1152.37 66.3781 Q1156.42 65.3249 1160.39 63.2184 L1160.39 70.267 Q1156.38 71.9684 1152.17 72.8596 Q1147.96 73.7508 1143.62 73.7508 Q1132.77 73.7508 1126.41 67.4314 Q1120.09 61.1119 1120.09 50.3365 Q1120.09 39.1965 1126.08 32.6746 Q1132.12 26.1121 1142.33 26.1121 Q1151.48 26.1121 1156.79 32.0264 Q1162.14 37.9003 1162.14 48.0275 M1154.68 45.84 Q1154.6 39.7232 1151.24 36.0774 Q1147.92 32.4315 1142.41 32.4315 Q1136.17 32.4315 1132.4 35.9558 Q1128.68 39.4801 1128.11 45.8805 L1154.68 45.84 Z\" fill=\"#000000\" fill-rule=\"nonzero\" fill-opacity=\"1\" /><path clip-path=\"url(#clip470)\" d=\"M1194.99 49.7694 Q1185.96 49.7694 1182.47 51.8354 Q1178.99 53.9013 1178.99 58.8839 Q1178.99 62.8538 1181.58 65.2034 Q1184.21 67.5124 1188.71 67.5124 Q1194.91 67.5124 1198.64 63.1374 Q1202.4 58.7219 1202.4 51.4303 L1202.4 49.7694 L1194.99 49.7694 M1209.86 46.6907 L1209.86 72.576 L1202.4 72.576 L1202.4 65.6895 Q1199.85 69.8214 1196.04 71.8063 Q1192.23 73.7508 1186.73 73.7508 Q1179.76 73.7508 1175.63 69.8619 Q1171.53 65.9325 1171.53 59.3701 Q1171.53 51.7138 1176.64 47.825 Q1181.78 43.9361 1191.95 43.9361 L1202.4 43.9361 L1202.4 43.2069 Q1202.4 38.0623 1199 35.2672 Q1195.64 32.4315 1189.52 32.4315 Q1185.63 32.4315 1181.95 33.3632 Q1178.26 34.295 1174.86 36.1584 L1174.86 29.2718 Q1178.95 27.692 1182.8 26.9223 Q1186.64 26.1121 1190.29 26.1121 Q1200.13 26.1121 1204.99 31.2163 Q1209.86 36.3204 1209.86 46.6907 Z\" fill=\"#000000\" fill-rule=\"nonzero\" fill-opacity=\"1\" /><path clip-path=\"url(#clip470)\" d=\"M1251.5 34.1734 Q1250.24 33.4443 1248.74 33.1202 Q1247.29 32.7556 1245.5 32.7556 Q1239.18 32.7556 1235.78 36.8875 Q1232.42 40.9789 1232.42 48.6757 L1232.42 72.576 L1224.93 72.576 L1224.93 27.2059 L1232.42 27.2059 L1232.42 34.2544 Q1234.77 30.1225 1238.54 28.1376 Q1242.3 26.1121 1247.69 26.1121 Q1248.46 26.1121 1249.39 26.2337 Q1250.32 26.3147 1251.46 26.5172 L1251.5 34.1734 Z\" fill=\"#000000\" fill-rule=\"nonzero\" fill-opacity=\"1\" /><path clip-path=\"url(#clip470)\" d=\"M1295.57 45.1919 L1295.57 72.576 L1288.12 72.576 L1288.12 45.4349 Q1288.12 38.994 1285.61 35.7938 Q1283.1 32.5936 1278.07 32.5936 Q1272.04 32.5936 1268.55 36.4419 Q1265.07 40.2903 1265.07 46.9338 L1265.07 72.576 L1257.58 72.576 L1257.58 27.2059 L1265.07 27.2059 L1265.07 34.2544 Q1267.74 30.163 1271.35 28.1376 Q1274.99 26.1121 1279.73 26.1121 Q1287.55 26.1121 1291.56 30.9732 Q1295.57 35.7938 1295.57 45.1919 Z\" fill=\"#000000\" fill-rule=\"nonzero\" fill-opacity=\"1\" /><path clip-path=\"url(#clip470)\" d=\"M1310.44 27.2059 L1317.89 27.2059 L1317.89 72.576 L1310.44 72.576 L1310.44 27.2059 M1310.44 9.54393 L1317.89 9.54393 L1317.89 18.9825 L1310.44 18.9825 L1310.44 9.54393 Z\" fill=\"#000000\" fill-rule=\"nonzero\" fill-opacity=\"1\" /><path clip-path=\"url(#clip470)\" d=\"M1371.2 45.1919 L1371.2 72.576 L1363.75 72.576 L1363.75 45.4349 Q1363.75 38.994 1361.24 35.7938 Q1358.73 32.5936 1353.7 32.5936 Q1347.67 32.5936 1344.18 36.4419 Q1340.7 40.2903 1340.7 46.9338 L1340.7 72.576 L1333.21 72.576 L1333.21 27.2059 L1340.7 27.2059 L1340.7 34.2544 Q1343.37 30.163 1346.98 28.1376 Q1350.62 26.1121 1355.36 26.1121 Q1363.18 26.1121 1367.19 30.9732 Q1371.2 35.7938 1371.2 45.1919 Z\" fill=\"#000000\" fill-rule=\"nonzero\" fill-opacity=\"1\" /><path clip-path=\"url(#clip470)\" d=\"M1415.93 49.3643 Q1415.93 41.2625 1412.56 36.8065 Q1409.24 32.3505 1403.21 32.3505 Q1397.21 32.3505 1393.85 36.8065 Q1390.53 41.2625 1390.53 49.3643 Q1390.53 57.4256 1393.85 61.8816 Q1397.21 66.3376 1403.21 66.3376 Q1409.24 66.3376 1412.56 61.8816 Q1415.93 57.4256 1415.93 49.3643 M1423.38 66.9452 Q1423.38 78.5308 1418.23 84.1616 Q1413.09 89.8329 1402.48 89.8329 Q1398.55 89.8329 1395.06 89.2252 Q1391.58 88.6581 1388.3 87.4428 L1388.3 80.1917 Q1391.58 81.9741 1394.78 82.8248 Q1397.98 83.6755 1401.3 83.6755 Q1408.63 83.6755 1412.28 79.8271 Q1415.93 76.0193 1415.93 68.282 L1415.93 64.5957 Q1413.62 68.6061 1410.01 70.5911 Q1406.41 72.576 1401.38 72.576 Q1393.04 72.576 1387.93 66.2161 Q1382.83 59.8562 1382.83 49.3643 Q1382.83 38.832 1387.93 32.472 Q1393.04 26.1121 1401.38 26.1121 Q1406.41 26.1121 1410.01 28.0971 Q1413.62 30.082 1415.93 34.0924 L1415.93 27.2059 L1423.38 27.2059 L1423.38 66.9452 Z\" fill=\"#000000\" fill-rule=\"nonzero\" fill-opacity=\"1\" /><path clip-path=\"url(#clip470)\" d=\"M1510.72 16.7545 L1510.72 25.383 Q1506.58 21.5346 1501.89 19.6307 Q1497.23 17.7268 1491.96 17.7268 Q1481.59 17.7268 1476.08 24.0867 Q1470.57 30.4061 1470.57 42.3968 Q1470.57 54.3469 1476.08 60.7069 Q1481.59 67.0263 1491.96 67.0263 Q1497.23 67.0263 1501.89 65.1223 Q1506.58 63.2184 1510.72 59.3701 L1510.72 67.9175 Q1506.42 70.8341 1501.6 72.2924 Q1496.82 73.7508 1491.47 73.7508 Q1477.74 73.7508 1469.84 65.3654 Q1461.94 56.9395 1461.94 42.3968 Q1461.94 27.8135 1469.84 19.4281 Q1477.74 11.0023 1491.47 11.0023 Q1496.9 11.0023 1501.68 12.4606 Q1506.5 13.8784 1510.72 16.7545 Z\" fill=\"#000000\" fill-rule=\"nonzero\" fill-opacity=\"1\" /><path clip-path=\"url(#clip470)\" d=\"M1522.26 54.671 L1522.26 27.2059 L1529.72 27.2059 L1529.72 54.3874 Q1529.72 60.8284 1532.23 64.0691 Q1534.74 67.2693 1539.76 67.2693 Q1545.8 67.2693 1549.28 63.421 Q1552.81 59.5726 1552.81 52.9291 L1552.81 27.2059 L1560.26 27.2059 L1560.26 72.576 L1552.81 72.576 L1552.81 65.6084 Q1550.09 69.7404 1546.49 71.7658 Q1542.92 73.7508 1538.18 73.7508 Q1530.36 73.7508 1526.31 68.8897 Q1522.26 64.0286 1522.26 54.671 M1541.02 26.1121 L1541.02 26.1121 Z\" fill=\"#000000\" fill-rule=\"nonzero\" fill-opacity=\"1\" /><path clip-path=\"url(#clip470)\" d=\"M1601.9 34.1734 Q1600.65 33.4443 1599.15 33.1202 Q1597.69 32.7556 1595.91 32.7556 Q1589.59 32.7556 1586.19 36.8875 Q1582.82 40.9789 1582.82 48.6757 L1582.82 72.576 L1575.33 72.576 L1575.33 27.2059 L1582.82 27.2059 L1582.82 34.2544 Q1585.17 30.1225 1588.94 28.1376 Q1592.71 26.1121 1598.09 26.1121 Q1598.86 26.1121 1599.8 26.2337 Q1600.73 26.3147 1601.86 26.5172 L1601.9 34.1734 Z\" fill=\"#000000\" fill-rule=\"nonzero\" fill-opacity=\"1\" /><path clip-path=\"url(#clip470)\" d=\"M1604.37 27.2059 L1612.27 27.2059 L1626.45 65.2844 L1640.63 27.2059 L1648.53 27.2059 L1631.51 72.576 L1621.39 72.576 L1604.37 27.2059 Z\" fill=\"#000000\" fill-rule=\"nonzero\" fill-opacity=\"1\" /><path clip-path=\"url(#clip470)\" d=\"M1697.63 48.0275 L1697.63 51.6733 L1663.35 51.6733 Q1663.84 59.3701 1667.97 63.421 Q1672.15 67.4314 1679.56 67.4314 Q1683.85 67.4314 1687.86 66.3781 Q1691.91 65.3249 1695.88 63.2184 L1695.88 70.267 Q1691.87 71.9684 1687.66 72.8596 Q1683.45 73.7508 1679.11 73.7508 Q1668.26 73.7508 1661.9 67.4314 Q1655.58 61.1119 1655.58 50.3365 Q1655.58 39.1965 1661.57 32.6746 Q1667.61 26.1121 1677.82 26.1121 Q1686.97 26.1121 1692.28 32.0264 Q1697.63 37.9003 1697.63 48.0275 M1690.17 45.84 Q1690.09 39.7232 1686.73 36.0774 Q1683.41 32.4315 1677.9 32.4315 Q1671.66 32.4315 1667.89 35.9558 Q1664.16 39.4801 1663.6 45.8805 L1690.17 45.84 Z\" fill=\"#000000\" fill-rule=\"nonzero\" fill-opacity=\"1\" /><polyline clip-path=\"url(#clip472)\" style=\"stroke:#0000ff; stroke-linecap:round; stroke-linejoin:round; stroke-width:8; stroke-opacity:1; fill:none\" points=\"478.354,210.894 492.461,235.382 506.568,259.563 520.675,277.598 534.782,300.56 548.889,325.618 562.996,346.26 577.103,367.084 591.21,388.836 605.317,411.639 619.424,433.442 633.531,453.654 647.639,475.683 661.746,497.347 675.853,516.955 689.96,534.71 704.067,556.345 718.174,575.599 732.281,592.674 746.388,614.475 760.495,634.971 774.602,652.307 788.709,671.994 802.816,691.821 816.923,710.346 831.03,728.989 845.137,747.347 859.244,766.583 873.351,786.017 887.458,802.085 901.565,820.759 915.672,839.891 929.779,855.694 943.886,875.292 957.993,892.365 972.1,908.417 986.207,927.188 1000.31,944.433 1014.42,960.331 1028.53,978.485 1042.64,994.918 1056.74,1011.86 1070.85,1028.46 1084.96,1044.65 1099.06,1060.46 1113.17,1076.96 1127.28,1093.33 1141.38,1109.03 1155.49,1124.63 1169.6,1140.35 1183.71,1156.22 1197.81,1171.76 1211.92,1186.97 1226.03,1202.46 1240.13,1217.79 1254.24,1232.88 1268.35,1247.75 1282.46,1261.13 1296.56,1276.31 1310.67,1291.54 1324.78,1306.01 1338.88,1320.42 1352.99,1334.92 1367.1,1349.26 1381.2,1363.59 1395.31,1377.39 1409.42,1391.2 1423.53,1404.92 1437.63,1419.39 1451.74,1431.54 1465.85,1446.19 1479.95,1459.82 1494.06,1473.46 1508.17,1486.31 1522.27,1500.8 1536.38,1513.02 1550.49,1526.42 1564.6,1539.52 1578.7,1552.78 1592.81,1565.29 1606.92,1577.93 1621.02,1590.52 1635.13,1603.21 1649.24,1615.31 1663.35,1628.6 1677.45,1640.78 1691.56,1653.6 1705.67,1664.74 1719.77,1677.81 1733.88,1689.38 1747.99,1701.98 1762.09,1713.85 1776.2,1724.45 1790.31,1737.63 1804.42,1748.05 1818.52,1759.8 1832.63,1772.27 1846.74,1782 1860.84,1794.04 1874.95,1806.18 1889.06,1816.14 1903.16,1827.65 1917.27,1839.53 1931.38,1850.46 1945.49,1860.71 1959.59,1872.6 1973.7,1883.64 1987.81,1893.94 2001.91,1904.7 2016.02,1916.32 2030.13,1925.79 2044.24,1937.22 2058.34,1947.2 2072.45,1957.4 2086.56,1968.24 2100.66,1978.41 2114.77,1987.98 2128.88,1998.77 2142.98,2009.09 2157.09,2019.45 2171.2,2029.51 2185.31,2040.27 2199.41,2049.74 2213.52,2059.55 2227.63,2069.28 2241.73,2079 2255.84,2088.22 2269.95,2097.63 2284.05,2107.26 2298.16,2116.96 \"/>\n",
       "</svg>\n"
      ],
      "text/html": [
       "<?xml version=\"1.0\" encoding=\"utf-8\"?>\n",
       "<svg xmlns=\"http://www.w3.org/2000/svg\" xmlns:xlink=\"http://www.w3.org/1999/xlink\" width=\"600\" height=\"600\" viewBox=\"0 0 2400 2400\">\n",
       "<defs>\n",
       "  <clipPath id=\"clip520\">\n",
       "    <rect x=\"0\" y=\"0\" width=\"2400\" height=\"2400\"/>\n",
       "  </clipPath>\n",
       "</defs>\n",
       "<path clip-path=\"url(#clip520)\" d=\"M0 2400 L2400 2400 L2400 0 L0 0  Z\" fill=\"#ffffff\" fill-rule=\"evenodd\" fill-opacity=\"1\"/>\n",
       "<defs>\n",
       "  <clipPath id=\"clip521\">\n",
       "    <rect x=\"480\" y=\"240\" width=\"1681\" height=\"1681\"/>\n",
       "  </clipPath>\n",
       "</defs>\n",
       "<path clip-path=\"url(#clip520)\" d=\"M423.76 2174.14 L2352.76 2174.14 L2352.76 153.712 L423.76 153.712  Z\" fill=\"#ffffff\" fill-rule=\"evenodd\" fill-opacity=\"1\"/>\n",
       "<defs>\n",
       "  <clipPath id=\"clip522\">\n",
       "    <rect x=\"423\" y=\"153\" width=\"1930\" height=\"2021\"/>\n",
       "  </clipPath>\n",
       "</defs>\n",
       "<polyline clip-path=\"url(#clip522)\" style=\"stroke:#000000; stroke-linecap:round; stroke-linejoin:round; stroke-width:2; stroke-opacity:0.1; fill:none\" points=\"464.247,2174.14 464.247,153.712 \"/>\n",
       "<polyline clip-path=\"url(#clip522)\" style=\"stroke:#000000; stroke-linecap:round; stroke-linejoin:round; stroke-width:2; stroke-opacity:0.1; fill:none\" points=\"746.388,2174.14 746.388,153.712 \"/>\n",
       "<polyline clip-path=\"url(#clip522)\" style=\"stroke:#000000; stroke-linecap:round; stroke-linejoin:round; stroke-width:2; stroke-opacity:0.1; fill:none\" points=\"1028.53,2174.14 1028.53,153.712 \"/>\n",
       "<polyline clip-path=\"url(#clip522)\" style=\"stroke:#000000; stroke-linecap:round; stroke-linejoin:round; stroke-width:2; stroke-opacity:0.1; fill:none\" points=\"1310.67,2174.14 1310.67,153.712 \"/>\n",
       "<polyline clip-path=\"url(#clip522)\" style=\"stroke:#000000; stroke-linecap:round; stroke-linejoin:round; stroke-width:2; stroke-opacity:0.1; fill:none\" points=\"1592.81,2174.14 1592.81,153.712 \"/>\n",
       "<polyline clip-path=\"url(#clip522)\" style=\"stroke:#000000; stroke-linecap:round; stroke-linejoin:round; stroke-width:2; stroke-opacity:0.1; fill:none\" points=\"1874.95,2174.14 1874.95,153.712 \"/>\n",
       "<polyline clip-path=\"url(#clip522)\" style=\"stroke:#000000; stroke-linecap:round; stroke-linejoin:round; stroke-width:2; stroke-opacity:0.1; fill:none\" points=\"2157.09,2174.14 2157.09,153.712 \"/>\n",
       "<polyline clip-path=\"url(#clip520)\" style=\"stroke:#000000; stroke-linecap:round; stroke-linejoin:round; stroke-width:4; stroke-opacity:1; fill:none\" points=\"423.76,2174.14 2352.76,2174.14 \"/>\n",
       "<polyline clip-path=\"url(#clip520)\" style=\"stroke:#000000; stroke-linecap:round; stroke-linejoin:round; stroke-width:4; stroke-opacity:1; fill:none\" points=\"464.247,2174.14 464.247,2155.24 \"/>\n",
       "<polyline clip-path=\"url(#clip520)\" style=\"stroke:#000000; stroke-linecap:round; stroke-linejoin:round; stroke-width:4; stroke-opacity:1; fill:none\" points=\"746.388,2174.14 746.388,2155.24 \"/>\n",
       "<polyline clip-path=\"url(#clip520)\" style=\"stroke:#000000; stroke-linecap:round; stroke-linejoin:round; stroke-width:4; stroke-opacity:1; fill:none\" points=\"1028.53,2174.14 1028.53,2155.24 \"/>\n",
       "<polyline clip-path=\"url(#clip520)\" style=\"stroke:#000000; stroke-linecap:round; stroke-linejoin:round; stroke-width:4; stroke-opacity:1; fill:none\" points=\"1310.67,2174.14 1310.67,2155.24 \"/>\n",
       "<polyline clip-path=\"url(#clip520)\" style=\"stroke:#000000; stroke-linecap:round; stroke-linejoin:round; stroke-width:4; stroke-opacity:1; fill:none\" points=\"1592.81,2174.14 1592.81,2155.24 \"/>\n",
       "<polyline clip-path=\"url(#clip520)\" style=\"stroke:#000000; stroke-linecap:round; stroke-linejoin:round; stroke-width:4; stroke-opacity:1; fill:none\" points=\"1874.95,2174.14 1874.95,2155.24 \"/>\n",
       "<polyline clip-path=\"url(#clip520)\" style=\"stroke:#000000; stroke-linecap:round; stroke-linejoin:round; stroke-width:4; stroke-opacity:1; fill:none\" points=\"2157.09,2174.14 2157.09,2155.24 \"/>\n",
       "<path clip-path=\"url(#clip520)\" d=\"M464.247 2205.06 Q460.636 2205.06 458.807 2208.62 Q457.002 2212.16 457.002 2219.29 Q457.002 2226.4 458.807 2229.97 Q460.636 2233.51 464.247 2233.51 Q467.881 2233.51 469.687 2229.97 Q471.516 2226.4 471.516 2219.29 Q471.516 2212.16 469.687 2208.62 Q467.881 2205.06 464.247 2205.06 M464.247 2201.35 Q470.057 2201.35 473.113 2205.96 Q476.191 2210.54 476.191 2219.29 Q476.191 2228.02 473.113 2232.63 Q470.057 2237.21 464.247 2237.21 Q458.437 2237.21 455.358 2232.63 Q452.303 2228.02 452.303 2219.29 Q452.303 2210.54 455.358 2205.96 Q458.437 2201.35 464.247 2201.35 Z\" fill=\"#000000\" fill-rule=\"nonzero\" fill-opacity=\"1\" /><path clip-path=\"url(#clip520)\" d=\"M725.161 2232.6 L741.48 2232.6 L741.48 2236.54 L719.536 2236.54 L719.536 2232.6 Q722.198 2229.85 726.781 2225.22 Q731.388 2220.57 732.568 2219.23 Q734.814 2216.7 735.693 2214.97 Q736.596 2213.21 736.596 2211.52 Q736.596 2208.76 734.652 2207.03 Q732.73 2205.29 729.629 2205.29 Q727.43 2205.29 724.976 2206.05 Q722.545 2206.82 719.768 2208.37 L719.768 2203.65 Q722.592 2202.51 725.045 2201.93 Q727.499 2201.35 729.536 2201.35 Q734.906 2201.35 738.101 2204.04 Q741.295 2206.73 741.295 2211.22 Q741.295 2213.35 740.485 2215.27 Q739.698 2217.16 737.592 2219.76 Q737.013 2220.43 733.911 2223.65 Q730.809 2226.84 725.161 2232.6 Z\" fill=\"#000000\" fill-rule=\"nonzero\" fill-opacity=\"1\" /><path clip-path=\"url(#clip520)\" d=\"M761.295 2205.06 Q757.684 2205.06 755.855 2208.62 Q754.05 2212.16 754.05 2219.29 Q754.05 2226.4 755.855 2229.97 Q757.684 2233.51 761.295 2233.51 Q764.929 2233.51 766.735 2229.97 Q768.564 2226.4 768.564 2219.29 Q768.564 2212.16 766.735 2208.62 Q764.929 2205.06 761.295 2205.06 M761.295 2201.35 Q767.105 2201.35 770.161 2205.96 Q773.239 2210.54 773.239 2219.29 Q773.239 2228.02 770.161 2232.63 Q767.105 2237.21 761.295 2237.21 Q755.485 2237.21 752.406 2232.63 Q749.351 2228.02 749.351 2219.29 Q749.351 2210.54 752.406 2205.96 Q755.485 2201.35 761.295 2201.35 Z\" fill=\"#000000\" fill-rule=\"nonzero\" fill-opacity=\"1\" /><path clip-path=\"url(#clip520)\" d=\"M1016.7 2206.05 L1004.89 2224.5 L1016.7 2224.5 L1016.7 2206.05 M1015.47 2201.98 L1021.35 2201.98 L1021.35 2224.5 L1026.28 2224.5 L1026.28 2228.39 L1021.35 2228.39 L1021.35 2236.54 L1016.7 2236.54 L1016.7 2228.39 L1001.1 2228.39 L1001.1 2223.88 L1015.47 2201.98 Z\" fill=\"#000000\" fill-rule=\"nonzero\" fill-opacity=\"1\" /><path clip-path=\"url(#clip520)\" d=\"M1044.01 2205.06 Q1040.4 2205.06 1038.57 2208.62 Q1036.77 2212.16 1036.77 2219.29 Q1036.77 2226.4 1038.57 2229.97 Q1040.4 2233.51 1044.01 2233.51 Q1047.65 2233.51 1049.45 2229.97 Q1051.28 2226.4 1051.28 2219.29 Q1051.28 2212.16 1049.45 2208.62 Q1047.65 2205.06 1044.01 2205.06 M1044.01 2201.35 Q1049.82 2201.35 1052.88 2205.96 Q1055.96 2210.54 1055.96 2219.29 Q1055.96 2228.02 1052.88 2232.63 Q1049.82 2237.21 1044.01 2237.21 Q1038.2 2237.21 1035.13 2232.63 Q1032.07 2228.02 1032.07 2219.29 Q1032.07 2210.54 1035.13 2205.96 Q1038.2 2201.35 1044.01 2201.35 Z\" fill=\"#000000\" fill-rule=\"nonzero\" fill-opacity=\"1\" /><path clip-path=\"url(#clip520)\" d=\"M1296.07 2217.4 Q1292.93 2217.4 1291.07 2219.55 Q1289.25 2221.7 1289.25 2225.45 Q1289.25 2229.18 1291.07 2231.35 Q1292.93 2233.51 1296.07 2233.51 Q1299.22 2233.51 1301.05 2231.35 Q1302.9 2229.18 1302.9 2225.45 Q1302.9 2221.7 1301.05 2219.55 Q1299.22 2217.4 1296.07 2217.4 M1305.36 2202.74 L1305.36 2207 Q1303.6 2206.17 1301.79 2205.73 Q1300.01 2205.29 1298.25 2205.29 Q1293.62 2205.29 1291.17 2208.41 Q1288.74 2211.54 1288.39 2217.86 Q1289.75 2215.85 1291.82 2214.78 Q1293.88 2213.69 1296.35 2213.69 Q1301.56 2213.69 1304.57 2216.86 Q1307.6 2220.01 1307.6 2225.45 Q1307.6 2230.78 1304.45 2233.99 Q1301.31 2237.21 1296.07 2237.21 Q1290.08 2237.21 1286.91 2232.63 Q1283.74 2228.02 1283.74 2219.29 Q1283.74 2211.1 1287.63 2206.24 Q1291.51 2201.35 1298.07 2201.35 Q1299.82 2201.35 1301.61 2201.7 Q1303.41 2202.05 1305.36 2202.74 Z\" fill=\"#000000\" fill-rule=\"nonzero\" fill-opacity=\"1\" /><path clip-path=\"url(#clip520)\" d=\"M1325.66 2205.06 Q1322.05 2205.06 1320.22 2208.62 Q1318.41 2212.16 1318.41 2219.29 Q1318.41 2226.4 1320.22 2229.97 Q1322.05 2233.51 1325.66 2233.51 Q1329.29 2233.51 1331.1 2229.97 Q1332.93 2226.4 1332.93 2219.29 Q1332.93 2212.16 1331.1 2208.62 Q1329.29 2205.06 1325.66 2205.06 M1325.66 2201.35 Q1331.47 2201.35 1334.52 2205.96 Q1337.6 2210.54 1337.6 2219.29 Q1337.6 2228.02 1334.52 2232.63 Q1331.47 2237.21 1325.66 2237.21 Q1319.85 2237.21 1316.77 2232.63 Q1313.71 2228.02 1313.71 2219.29 Q1313.71 2210.54 1316.77 2205.96 Q1319.85 2201.35 1325.66 2201.35 Z\" fill=\"#000000\" fill-rule=\"nonzero\" fill-opacity=\"1\" /><path clip-path=\"url(#clip520)\" d=\"M1577.68 2220.13 Q1574.35 2220.13 1572.43 2221.91 Q1570.53 2223.69 1570.53 2226.82 Q1570.53 2229.94 1572.43 2231.73 Q1574.35 2233.51 1577.68 2233.51 Q1581.02 2233.51 1582.94 2231.73 Q1584.86 2229.92 1584.86 2226.82 Q1584.86 2223.69 1582.94 2221.91 Q1581.04 2220.13 1577.68 2220.13 M1573.01 2218.14 Q1570 2217.4 1568.31 2215.34 Q1566.64 2213.28 1566.64 2210.31 Q1566.64 2206.17 1569.58 2203.76 Q1572.54 2201.35 1577.68 2201.35 Q1582.84 2201.35 1585.78 2203.76 Q1588.72 2206.17 1588.72 2210.31 Q1588.72 2213.28 1587.03 2215.34 Q1585.37 2217.4 1582.38 2218.14 Q1585.76 2218.92 1587.64 2221.22 Q1589.53 2223.51 1589.53 2226.82 Q1589.53 2231.84 1586.46 2234.53 Q1583.4 2237.21 1577.68 2237.21 Q1571.97 2237.21 1568.89 2234.53 Q1565.83 2231.84 1565.83 2226.82 Q1565.83 2223.51 1567.73 2221.22 Q1569.63 2218.92 1573.01 2218.14 M1571.29 2210.75 Q1571.29 2213.44 1572.96 2214.94 Q1574.65 2216.45 1577.68 2216.45 Q1580.69 2216.45 1582.38 2214.94 Q1584.09 2213.44 1584.09 2210.75 Q1584.09 2208.07 1582.38 2206.56 Q1580.69 2205.06 1577.68 2205.06 Q1574.65 2205.06 1572.96 2206.56 Q1571.29 2208.07 1571.29 2210.75 Z\" fill=\"#000000\" fill-rule=\"nonzero\" fill-opacity=\"1\" /><path clip-path=\"url(#clip520)\" d=\"M1607.84 2205.06 Q1604.23 2205.06 1602.4 2208.62 Q1600.6 2212.16 1600.6 2219.29 Q1600.6 2226.4 1602.4 2229.97 Q1604.23 2233.51 1607.84 2233.51 Q1611.48 2233.51 1613.28 2229.97 Q1615.11 2226.4 1615.11 2219.29 Q1615.11 2212.16 1613.28 2208.62 Q1611.48 2205.06 1607.84 2205.06 M1607.84 2201.35 Q1613.65 2201.35 1616.71 2205.96 Q1619.79 2210.54 1619.79 2219.29 Q1619.79 2228.02 1616.71 2232.63 Q1613.65 2237.21 1607.84 2237.21 Q1602.03 2237.21 1598.96 2232.63 Q1595.9 2228.02 1595.9 2219.29 Q1595.9 2210.54 1598.96 2205.96 Q1602.03 2201.35 1607.84 2201.35 Z\" fill=\"#000000\" fill-rule=\"nonzero\" fill-opacity=\"1\" /><path clip-path=\"url(#clip520)\" d=\"M1834.56 2232.6 L1842.2 2232.6 L1842.2 2206.24 L1833.89 2207.91 L1833.89 2203.65 L1842.15 2201.98 L1846.83 2201.98 L1846.83 2232.6 L1854.46 2232.6 L1854.46 2236.54 L1834.56 2236.54 L1834.56 2232.6 Z\" fill=\"#000000\" fill-rule=\"nonzero\" fill-opacity=\"1\" /><path clip-path=\"url(#clip520)\" d=\"M1873.91 2205.06 Q1870.3 2205.06 1868.47 2208.62 Q1866.66 2212.16 1866.66 2219.29 Q1866.66 2226.4 1868.47 2229.97 Q1870.3 2233.51 1873.91 2233.51 Q1877.54 2233.51 1879.35 2229.97 Q1881.18 2226.4 1881.18 2219.29 Q1881.18 2212.16 1879.35 2208.62 Q1877.54 2205.06 1873.91 2205.06 M1873.91 2201.35 Q1879.72 2201.35 1882.77 2205.96 Q1885.85 2210.54 1885.85 2219.29 Q1885.85 2228.02 1882.77 2232.63 Q1879.72 2237.21 1873.91 2237.21 Q1868.1 2237.21 1865.02 2232.63 Q1861.96 2228.02 1861.96 2219.29 Q1861.96 2210.54 1865.02 2205.96 Q1868.1 2201.35 1873.91 2201.35 Z\" fill=\"#000000\" fill-rule=\"nonzero\" fill-opacity=\"1\" /><path clip-path=\"url(#clip520)\" d=\"M1904.07 2205.06 Q1900.46 2205.06 1898.63 2208.62 Q1896.83 2212.16 1896.83 2219.29 Q1896.83 2226.4 1898.63 2229.97 Q1900.46 2233.51 1904.07 2233.51 Q1907.71 2233.51 1909.51 2229.97 Q1911.34 2226.4 1911.34 2219.29 Q1911.34 2212.16 1909.51 2208.62 Q1907.71 2205.06 1904.07 2205.06 M1904.07 2201.35 Q1909.88 2201.35 1912.94 2205.96 Q1916.02 2210.54 1916.02 2219.29 Q1916.02 2228.02 1912.94 2232.63 Q1909.88 2237.21 1904.07 2237.21 Q1898.26 2237.21 1895.18 2232.63 Q1892.13 2228.02 1892.13 2219.29 Q1892.13 2210.54 1895.18 2205.96 Q1898.26 2201.35 1904.07 2201.35 Z\" fill=\"#000000\" fill-rule=\"nonzero\" fill-opacity=\"1\" /><path clip-path=\"url(#clip520)\" d=\"M2116.7 2232.6 L2124.34 2232.6 L2124.34 2206.24 L2116.03 2207.91 L2116.03 2203.65 L2124.29 2201.98 L2128.97 2201.98 L2128.97 2232.6 L2136.61 2232.6 L2136.61 2236.54 L2116.7 2236.54 L2116.7 2232.6 Z\" fill=\"#000000\" fill-rule=\"nonzero\" fill-opacity=\"1\" /><path clip-path=\"url(#clip520)\" d=\"M2150.08 2232.6 L2166.4 2232.6 L2166.4 2236.54 L2144.45 2236.54 L2144.45 2232.6 Q2147.11 2229.85 2151.7 2225.22 Q2156.3 2220.57 2157.48 2219.23 Q2159.73 2216.7 2160.61 2214.97 Q2161.51 2213.21 2161.51 2211.52 Q2161.51 2208.76 2159.57 2207.03 Q2157.65 2205.29 2154.55 2205.29 Q2152.35 2205.29 2149.89 2206.05 Q2147.46 2206.82 2144.68 2208.37 L2144.68 2203.65 Q2147.51 2202.51 2149.96 2201.93 Q2152.42 2201.35 2154.45 2201.35 Q2159.82 2201.35 2163.02 2204.04 Q2166.21 2206.73 2166.21 2211.22 Q2166.21 2213.35 2165.4 2215.27 Q2164.61 2217.16 2162.51 2219.76 Q2161.93 2220.43 2158.83 2223.65 Q2155.73 2226.84 2150.08 2232.6 Z\" fill=\"#000000\" fill-rule=\"nonzero\" fill-opacity=\"1\" /><path clip-path=\"url(#clip520)\" d=\"M2186.21 2205.06 Q2182.6 2205.06 2180.77 2208.62 Q2178.97 2212.16 2178.97 2219.29 Q2178.97 2226.4 2180.77 2229.97 Q2182.6 2233.51 2186.21 2233.51 Q2189.85 2233.51 2191.65 2229.97 Q2193.48 2226.4 2193.48 2219.29 Q2193.48 2212.16 2191.65 2208.62 Q2189.85 2205.06 2186.21 2205.06 M2186.21 2201.35 Q2192.02 2201.35 2195.08 2205.96 Q2198.16 2210.54 2198.16 2219.29 Q2198.16 2228.02 2195.08 2232.63 Q2192.02 2237.21 2186.21 2237.21 Q2180.4 2237.21 2177.32 2232.63 Q2174.27 2228.02 2174.27 2219.29 Q2174.27 2210.54 2177.32 2205.96 Q2180.4 2201.35 2186.21 2201.35 Z\" fill=\"#000000\" fill-rule=\"nonzero\" fill-opacity=\"1\" /><path clip-path=\"url(#clip520)\" d=\"M1276.27 2271.48 L1306.32 2271.48 L1306.32 2276.89 L1282.7 2276.89 L1282.7 2290.96 L1305.33 2290.96 L1305.33 2296.37 L1282.7 2296.37 L1282.7 2313.59 L1306.89 2313.59 L1306.89 2319 L1276.27 2319 L1276.27 2271.48 Z\" fill=\"#000000\" fill-rule=\"nonzero\" fill-opacity=\"1\" /><path clip-path=\"url(#clip520)\" d=\"M1322.87 2313.66 L1322.87 2332.56 L1316.98 2332.56 L1316.98 2283.36 L1322.87 2283.36 L1322.87 2288.77 Q1324.71 2285.58 1327.51 2284.06 Q1330.35 2282.5 1334.26 2282.5 Q1340.75 2282.5 1344.8 2287.65 Q1348.87 2292.81 1348.87 2301.21 Q1348.87 2309.61 1344.8 2314.77 Q1340.75 2319.93 1334.26 2319.93 Q1330.35 2319.93 1327.51 2318.4 Q1324.71 2316.84 1322.87 2313.66 M1342.79 2301.21 Q1342.79 2294.75 1340.12 2291.09 Q1337.48 2287.4 1332.83 2287.4 Q1328.18 2287.4 1325.51 2291.09 Q1322.87 2294.75 1322.87 2301.21 Q1322.87 2307.67 1325.51 2311.36 Q1328.18 2315.03 1332.83 2315.03 Q1337.48 2315.03 1340.12 2311.36 Q1342.79 2307.67 1342.79 2301.21 Z\" fill=\"#000000\" fill-rule=\"nonzero\" fill-opacity=\"1\" /><path clip-path=\"url(#clip520)\" d=\"M1372.39 2287.46 Q1367.68 2287.46 1364.94 2291.15 Q1362.21 2294.81 1362.21 2301.21 Q1362.21 2307.61 1364.91 2311.3 Q1367.65 2314.96 1372.39 2314.96 Q1377.07 2314.96 1379.81 2311.27 Q1382.54 2307.58 1382.54 2301.21 Q1382.54 2294.88 1379.81 2291.19 Q1377.07 2287.46 1372.39 2287.46 M1372.39 2282.5 Q1380.03 2282.5 1384.39 2287.46 Q1388.75 2292.43 1388.75 2301.21 Q1388.75 2309.96 1384.39 2314.96 Q1380.03 2319.93 1372.39 2319.93 Q1364.72 2319.93 1360.36 2314.96 Q1356.03 2309.96 1356.03 2301.21 Q1356.03 2292.43 1360.36 2287.46 Q1364.72 2282.5 1372.39 2282.5 Z\" fill=\"#000000\" fill-rule=\"nonzero\" fill-opacity=\"1\" /><path clip-path=\"url(#clip520)\" d=\"M1424.11 2284.72 L1424.11 2290.2 Q1421.63 2288.83 1419.12 2288.16 Q1416.63 2287.46 1414.09 2287.46 Q1408.39 2287.46 1405.24 2291.09 Q1402.09 2294.69 1402.09 2301.21 Q1402.09 2307.74 1405.24 2311.36 Q1408.39 2314.96 1414.09 2314.96 Q1416.63 2314.96 1419.12 2314.29 Q1421.63 2313.59 1424.11 2312.22 L1424.11 2317.64 Q1421.66 2318.78 1419.02 2319.35 Q1416.41 2319.93 1413.45 2319.93 Q1405.4 2319.93 1400.66 2314.87 Q1395.91 2309.81 1395.91 2301.21 Q1395.91 2292.49 1400.69 2287.49 Q1405.49 2282.5 1413.83 2282.5 Q1416.54 2282.5 1419.12 2283.07 Q1421.69 2283.61 1424.11 2284.72 Z\" fill=\"#000000\" fill-rule=\"nonzero\" fill-opacity=\"1\" /><path clip-path=\"url(#clip520)\" d=\"M1463.93 2297.49 L1463.93 2319 L1458.07 2319 L1458.07 2297.68 Q1458.07 2292.62 1456.1 2290.1 Q1454.13 2287.59 1450.18 2287.59 Q1445.44 2287.59 1442.7 2290.61 Q1439.96 2293.64 1439.96 2298.86 L1439.96 2319 L1434.08 2319 L1434.08 2269.48 L1439.96 2269.48 L1439.96 2288.89 Q1442.06 2285.68 1444.9 2284.09 Q1447.76 2282.5 1451.49 2282.5 Q1457.63 2282.5 1460.78 2286.32 Q1463.93 2290.1 1463.93 2297.49 Z\" fill=\"#000000\" fill-rule=\"nonzero\" fill-opacity=\"1\" /><path clip-path=\"url(#clip520)\" d=\"M1498.34 2284.41 L1498.34 2289.94 Q1495.85 2288.67 1493.18 2288.03 Q1490.51 2287.4 1487.64 2287.4 Q1483.28 2287.4 1481.09 2288.73 Q1478.92 2290.07 1478.92 2292.75 Q1478.92 2294.78 1480.48 2295.96 Q1482.04 2297.11 1486.75 2298.16 L1488.76 2298.6 Q1494.99 2299.94 1497.6 2302.39 Q1500.25 2304.81 1500.25 2309.17 Q1500.25 2314.13 1496.3 2317.03 Q1492.38 2319.93 1485.51 2319.93 Q1482.65 2319.93 1479.53 2319.35 Q1476.44 2318.81 1473 2317.7 L1473 2311.65 Q1476.25 2313.34 1479.4 2314.2 Q1482.55 2315.03 1485.64 2315.03 Q1489.77 2315.03 1492 2313.62 Q1494.23 2312.19 1494.23 2309.61 Q1494.23 2307.23 1492.61 2305.95 Q1491.02 2304.68 1485.57 2303.5 L1483.54 2303.03 Q1478.09 2301.88 1475.67 2299.52 Q1473.26 2297.14 1473.26 2293 Q1473.26 2287.97 1476.82 2285.23 Q1480.39 2282.5 1486.94 2282.5 Q1490.19 2282.5 1493.05 2282.97 Q1495.92 2283.45 1498.34 2284.41 Z\" fill=\"#000000\" fill-rule=\"nonzero\" fill-opacity=\"1\" /><polyline clip-path=\"url(#clip522)\" style=\"stroke:#000000; stroke-linecap:round; stroke-linejoin:round; stroke-width:2; stroke-opacity:0.1; fill:none\" points=\"423.76,1861.48 2352.76,1861.48 \"/>\n",
       "<polyline clip-path=\"url(#clip522)\" style=\"stroke:#000000; stroke-linecap:round; stroke-linejoin:round; stroke-width:2; stroke-opacity:0.1; fill:none\" points=\"423.76,1546.93 2352.76,1546.93 \"/>\n",
       "<polyline clip-path=\"url(#clip522)\" style=\"stroke:#000000; stroke-linecap:round; stroke-linejoin:round; stroke-width:2; stroke-opacity:0.1; fill:none\" points=\"423.76,1232.38 2352.76,1232.38 \"/>\n",
       "<polyline clip-path=\"url(#clip522)\" style=\"stroke:#000000; stroke-linecap:round; stroke-linejoin:round; stroke-width:2; stroke-opacity:0.1; fill:none\" points=\"423.76,917.828 2352.76,917.828 \"/>\n",
       "<polyline clip-path=\"url(#clip522)\" style=\"stroke:#000000; stroke-linecap:round; stroke-linejoin:round; stroke-width:2; stroke-opacity:0.1; fill:none\" points=\"423.76,603.279 2352.76,603.279 \"/>\n",
       "<polyline clip-path=\"url(#clip522)\" style=\"stroke:#000000; stroke-linecap:round; stroke-linejoin:round; stroke-width:2; stroke-opacity:0.1; fill:none\" points=\"423.76,288.73 2352.76,288.73 \"/>\n",
       "<polyline clip-path=\"url(#clip520)\" style=\"stroke:#000000; stroke-linecap:round; stroke-linejoin:round; stroke-width:4; stroke-opacity:1; fill:none\" points=\"423.76,2174.14 423.76,153.712 \"/>\n",
       "<polyline clip-path=\"url(#clip520)\" style=\"stroke:#000000; stroke-linecap:round; stroke-linejoin:round; stroke-width:4; stroke-opacity:1; fill:none\" points=\"423.76,1861.48 442.657,1861.48 \"/>\n",
       "<polyline clip-path=\"url(#clip520)\" style=\"stroke:#000000; stroke-linecap:round; stroke-linejoin:round; stroke-width:4; stroke-opacity:1; fill:none\" points=\"423.76,1546.93 442.657,1546.93 \"/>\n",
       "<polyline clip-path=\"url(#clip520)\" style=\"stroke:#000000; stroke-linecap:round; stroke-linejoin:round; stroke-width:4; stroke-opacity:1; fill:none\" points=\"423.76,1232.38 442.657,1232.38 \"/>\n",
       "<polyline clip-path=\"url(#clip520)\" style=\"stroke:#000000; stroke-linecap:round; stroke-linejoin:round; stroke-width:4; stroke-opacity:1; fill:none\" points=\"423.76,917.828 442.657,917.828 \"/>\n",
       "<polyline clip-path=\"url(#clip520)\" style=\"stroke:#000000; stroke-linecap:round; stroke-linejoin:round; stroke-width:4; stroke-opacity:1; fill:none\" points=\"423.76,603.279 442.657,603.279 \"/>\n",
       "<polyline clip-path=\"url(#clip520)\" style=\"stroke:#000000; stroke-linecap:round; stroke-linejoin:round; stroke-width:4; stroke-opacity:1; fill:none\" points=\"423.76,288.73 442.657,288.73 \"/>\n",
       "<path clip-path=\"url(#clip520)\" d=\"M140.242 1884.49 L140.242 1880.23 Q142.002 1881.06 143.807 1881.5 Q145.613 1881.94 147.349 1881.94 Q151.978 1881.94 154.409 1878.84 Q156.863 1875.71 157.21 1869.37 Q155.867 1871.36 153.807 1872.43 Q151.747 1873.49 149.247 1873.49 Q144.062 1873.49 141.029 1870.37 Q138.02 1867.22 138.02 1861.78 Q138.02 1856.45 141.168 1853.24 Q144.316 1850.02 149.548 1850.02 Q155.543 1850.02 158.691 1854.62 Q161.863 1859.21 161.863 1867.96 Q161.863 1876.13 157.974 1881.01 Q154.108 1885.87 147.557 1885.87 Q145.798 1885.87 143.992 1885.53 Q142.187 1885.18 140.242 1884.49 M149.548 1869.83 Q152.696 1869.83 154.525 1867.68 Q156.377 1865.53 156.377 1861.78 Q156.377 1858.05 154.525 1855.9 Q152.696 1853.72 149.548 1853.72 Q146.4 1853.72 144.548 1855.9 Q142.719 1858.05 142.719 1861.78 Q142.719 1865.53 144.548 1867.68 Q146.4 1869.83 149.548 1869.83 Z\" fill=\"#000000\" fill-rule=\"nonzero\" fill-opacity=\"1\" /><path clip-path=\"url(#clip520)\" d=\"M170.265 1879.32 L175.15 1879.32 L175.15 1885.2 L170.265 1885.2 L170.265 1879.32 Z\" fill=\"#000000\" fill-rule=\"nonzero\" fill-opacity=\"1\" /><path clip-path=\"url(#clip520)\" d=\"M195.335 1853.72 Q191.724 1853.72 189.895 1857.29 Q188.089 1860.83 188.089 1867.96 Q188.089 1875.06 189.895 1878.63 Q191.724 1882.17 195.335 1882.17 Q198.969 1882.17 200.774 1878.63 Q202.603 1875.06 202.603 1867.96 Q202.603 1860.83 200.774 1857.29 Q198.969 1853.72 195.335 1853.72 M195.335 1850.02 Q201.145 1850.02 204.2 1854.62 Q207.279 1859.21 207.279 1867.96 Q207.279 1876.68 204.2 1881.29 Q201.145 1885.87 195.335 1885.87 Q189.525 1885.87 186.446 1881.29 Q183.39 1876.68 183.39 1867.96 Q183.39 1859.21 186.446 1854.62 Q189.525 1850.02 195.335 1850.02 Z\" fill=\"#000000\" fill-rule=\"nonzero\" fill-opacity=\"1\" /><path clip-path=\"url(#clip520)\" d=\"M225.497 1853.72 Q221.885 1853.72 220.057 1857.29 Q218.251 1860.83 218.251 1867.96 Q218.251 1875.06 220.057 1878.63 Q221.885 1882.17 225.497 1882.17 Q229.131 1882.17 230.936 1878.63 Q232.765 1875.06 232.765 1867.96 Q232.765 1860.83 230.936 1857.29 Q229.131 1853.72 225.497 1853.72 M225.497 1850.02 Q231.307 1850.02 234.362 1854.62 Q237.441 1859.21 237.441 1867.96 Q237.441 1876.68 234.362 1881.29 Q231.307 1885.87 225.497 1885.87 Q219.686 1885.87 216.608 1881.29 Q213.552 1876.68 213.552 1867.96 Q213.552 1859.21 216.608 1854.62 Q219.686 1850.02 225.497 1850.02 Z\" fill=\"#000000\" fill-rule=\"nonzero\" fill-opacity=\"1\" /><path clip-path=\"url(#clip520)\" d=\"M273.83 1859.74 L263.251 1870.37 L273.83 1880.94 L271.075 1883.74 L260.45 1873.12 L249.825 1883.74 L247.094 1880.94 L257.649 1870.37 L247.094 1859.74 L249.825 1856.94 L260.45 1867.56 L271.075 1856.94 L273.83 1859.74 Z\" fill=\"#000000\" fill-rule=\"nonzero\" fill-opacity=\"1\" /><path clip-path=\"url(#clip520)\" d=\"M286.191 1881.27 L293.83 1881.27 L293.83 1854.9 L285.519 1856.57 L285.519 1852.31 L293.783 1850.64 L298.459 1850.64 L298.459 1881.27 L306.098 1881.27 L306.098 1885.2 L286.191 1885.2 L286.191 1881.27 Z\" fill=\"#000000\" fill-rule=\"nonzero\" fill-opacity=\"1\" /><path clip-path=\"url(#clip520)\" d=\"M325.542 1853.72 Q321.931 1853.72 320.103 1857.29 Q318.297 1860.83 318.297 1867.96 Q318.297 1875.06 320.103 1878.63 Q321.931 1882.17 325.542 1882.17 Q329.177 1882.17 330.982 1878.63 Q332.811 1875.06 332.811 1867.96 Q332.811 1860.83 330.982 1857.29 Q329.177 1853.72 325.542 1853.72 M325.542 1850.02 Q331.352 1850.02 334.408 1854.62 Q337.487 1859.21 337.487 1867.96 Q337.487 1876.68 334.408 1881.29 Q331.352 1885.87 325.542 1885.87 Q319.732 1885.87 316.653 1881.29 Q313.598 1876.68 313.598 1867.96 Q313.598 1859.21 316.653 1854.62 Q319.732 1850.02 325.542 1850.02 Z\" fill=\"#000000\" fill-rule=\"nonzero\" fill-opacity=\"1\" /><path clip-path=\"url(#clip520)\" d=\"M337.487 1844.12 L361.598 1844.12 L361.598 1847.32 L337.487 1847.32 L337.487 1844.12 Z\" fill=\"#000000\" fill-rule=\"nonzero\" fill-opacity=\"1\" /><path clip-path=\"url(#clip520)\" d=\"M378.394 1842.24 Q375.836 1842.24 374.331 1843.99 Q372.845 1845.74 372.845 1848.78 Q372.845 1851.81 374.331 1853.58 Q375.836 1855.33 378.394 1855.33 Q380.951 1855.33 382.437 1853.58 Q383.942 1851.81 383.942 1848.78 Q383.942 1845.74 382.437 1843.99 Q380.951 1842.24 378.394 1842.24 M385.935 1830.33 L385.935 1833.79 Q384.506 1833.12 383.039 1832.76 Q381.591 1832.4 380.162 1832.4 Q376.4 1832.4 374.406 1834.94 Q372.432 1837.48 372.149 1842.61 Q373.259 1840.98 374.933 1840.11 Q376.607 1839.23 378.619 1839.23 Q382.851 1839.23 385.296 1841.81 Q387.76 1844.36 387.76 1848.78 Q387.76 1853.11 385.202 1855.72 Q382.644 1858.34 378.394 1858.34 Q373.522 1858.34 370.946 1854.61 Q368.369 1850.87 368.369 1843.78 Q368.369 1837.12 371.529 1833.17 Q374.688 1829.21 380.011 1829.21 Q381.44 1829.21 382.889 1829.49 Q384.356 1829.77 385.935 1830.33 Z\" fill=\"#000000\" fill-rule=\"nonzero\" fill-opacity=\"1\" /><path clip-path=\"url(#clip520)\" d=\"M141.854 1566.72 L149.493 1566.72 L149.493 1540.35 L141.183 1542.02 L141.183 1537.76 L149.447 1536.09 L154.123 1536.09 L154.123 1566.72 L161.761 1566.72 L161.761 1570.65 L141.854 1570.65 L141.854 1566.72 Z\" fill=\"#000000\" fill-rule=\"nonzero\" fill-opacity=\"1\" /><path clip-path=\"url(#clip520)\" d=\"M171.206 1564.77 L176.09 1564.77 L176.09 1570.65 L171.206 1570.65 L171.206 1564.77 Z\" fill=\"#000000\" fill-rule=\"nonzero\" fill-opacity=\"1\" /><path clip-path=\"url(#clip520)\" d=\"M196.275 1539.17 Q192.664 1539.17 190.835 1542.74 Q189.03 1546.28 189.03 1553.41 Q189.03 1560.52 190.835 1564.08 Q192.664 1567.62 196.275 1567.62 Q199.909 1567.62 201.715 1564.08 Q203.544 1560.52 203.544 1553.41 Q203.544 1546.28 201.715 1542.74 Q199.909 1539.17 196.275 1539.17 M196.275 1535.47 Q202.085 1535.47 205.141 1540.08 Q208.219 1544.66 208.219 1553.41 Q208.219 1562.14 205.141 1566.74 Q202.085 1571.33 196.275 1571.33 Q190.465 1571.33 187.386 1566.74 Q184.331 1562.14 184.331 1553.41 Q184.331 1544.66 187.386 1540.08 Q190.465 1535.47 196.275 1535.47 Z\" fill=\"#000000\" fill-rule=\"nonzero\" fill-opacity=\"1\" /><path clip-path=\"url(#clip520)\" d=\"M226.437 1539.17 Q222.826 1539.17 220.997 1542.74 Q219.192 1546.28 219.192 1553.41 Q219.192 1560.52 220.997 1564.08 Q222.826 1567.62 226.437 1567.62 Q230.071 1567.62 231.877 1564.08 Q233.705 1560.52 233.705 1553.41 Q233.705 1546.28 231.877 1542.74 Q230.071 1539.17 226.437 1539.17 M226.437 1535.47 Q232.247 1535.47 235.303 1540.08 Q238.381 1544.66 238.381 1553.41 Q238.381 1562.14 235.303 1566.74 Q232.247 1571.33 226.437 1571.33 Q220.627 1571.33 217.548 1566.74 Q214.493 1562.14 214.493 1553.41 Q214.493 1544.66 217.548 1540.08 Q220.627 1535.47 226.437 1535.47 Z\" fill=\"#000000\" fill-rule=\"nonzero\" fill-opacity=\"1\" /><path clip-path=\"url(#clip520)\" d=\"M274.77 1545.19 L264.191 1555.82 L274.77 1566.39 L272.015 1569.2 L261.39 1558.57 L250.766 1569.2 L248.034 1566.39 L258.59 1555.82 L248.034 1545.19 L250.766 1542.39 L261.39 1553.02 L272.015 1542.39 L274.77 1545.19 Z\" fill=\"#000000\" fill-rule=\"nonzero\" fill-opacity=\"1\" /><path clip-path=\"url(#clip520)\" d=\"M287.131 1566.72 L294.77 1566.72 L294.77 1540.35 L286.46 1542.02 L286.46 1537.76 L294.724 1536.09 L299.4 1536.09 L299.4 1566.72 L307.038 1566.72 L307.038 1570.65 L287.131 1570.65 L287.131 1566.72 Z\" fill=\"#000000\" fill-rule=\"nonzero\" fill-opacity=\"1\" /><path clip-path=\"url(#clip520)\" d=\"M326.483 1539.17 Q322.872 1539.17 321.043 1542.74 Q319.237 1546.28 319.237 1553.41 Q319.237 1560.52 321.043 1564.08 Q322.872 1567.62 326.483 1567.62 Q330.117 1567.62 331.922 1564.08 Q333.751 1560.52 333.751 1553.41 Q333.751 1546.28 331.922 1542.74 Q330.117 1539.17 326.483 1539.17 M326.483 1535.47 Q332.293 1535.47 335.348 1540.08 Q338.427 1544.66 338.427 1553.41 Q338.427 1562.14 335.348 1566.74 Q332.293 1571.33 326.483 1571.33 Q320.673 1571.33 317.594 1566.74 Q314.538 1562.14 314.538 1553.41 Q314.538 1544.66 317.594 1540.08 Q320.673 1535.47 326.483 1535.47 Z\" fill=\"#000000\" fill-rule=\"nonzero\" fill-opacity=\"1\" /><path clip-path=\"url(#clip520)\" d=\"M338.427 1529.57 L362.539 1529.57 L362.539 1532.77 L338.427 1532.77 L338.427 1529.57 Z\" fill=\"#000000\" fill-rule=\"nonzero\" fill-opacity=\"1\" /><path clip-path=\"url(#clip520)\" d=\"M370.776 1515.16 L385.691 1515.16 L385.691 1518.36 L374.256 1518.36 L374.256 1525.24 Q375.083 1524.96 375.911 1524.83 Q376.738 1524.68 377.566 1524.68 Q382.268 1524.68 385.014 1527.26 Q387.76 1529.83 387.76 1534.23 Q387.76 1538.77 384.939 1541.29 Q382.118 1543.79 376.983 1543.79 Q375.215 1543.79 373.372 1543.49 Q371.548 1543.19 369.592 1542.59 L369.592 1538.77 Q371.284 1539.69 373.09 1540.14 Q374.895 1540.59 376.908 1540.59 Q380.162 1540.59 382.061 1538.88 Q383.961 1537.17 383.961 1534.23 Q383.961 1531.3 382.061 1529.59 Q380.162 1527.88 376.908 1527.88 Q375.384 1527.88 373.861 1528.22 Q372.356 1528.55 370.776 1529.27 L370.776 1515.16 Z\" fill=\"#000000\" fill-rule=\"nonzero\" fill-opacity=\"1\" /><path clip-path=\"url(#clip520)\" d=\"M141.854 1252.17 L149.493 1252.17 L149.493 1225.8 L141.183 1227.47 L141.183 1223.21 L149.447 1221.55 L154.123 1221.55 L154.123 1252.17 L161.761 1252.17 L161.761 1256.11 L141.854 1256.11 L141.854 1252.17 Z\" fill=\"#000000\" fill-rule=\"nonzero\" fill-opacity=\"1\" /><path clip-path=\"url(#clip520)\" d=\"M171.206 1250.23 L176.09 1250.23 L176.09 1256.11 L171.206 1256.11 L171.206 1250.23 Z\" fill=\"#000000\" fill-rule=\"nonzero\" fill-opacity=\"1\" /><path clip-path=\"url(#clip520)\" d=\"M187.085 1252.17 L194.724 1252.17 L194.724 1225.8 L186.414 1227.47 L186.414 1223.21 L194.678 1221.55 L199.354 1221.55 L199.354 1252.17 L206.993 1252.17 L206.993 1256.11 L187.085 1256.11 L187.085 1252.17 Z\" fill=\"#000000\" fill-rule=\"nonzero\" fill-opacity=\"1\" /><path clip-path=\"url(#clip520)\" d=\"M226.437 1224.62 Q222.826 1224.62 220.997 1228.19 Q219.192 1231.73 219.192 1238.86 Q219.192 1245.97 220.997 1249.53 Q222.826 1253.07 226.437 1253.07 Q230.071 1253.07 231.877 1249.53 Q233.705 1245.97 233.705 1238.86 Q233.705 1231.73 231.877 1228.19 Q230.071 1224.62 226.437 1224.62 M226.437 1220.92 Q232.247 1220.92 235.303 1225.53 Q238.381 1230.11 238.381 1238.86 Q238.381 1247.59 235.303 1252.19 Q232.247 1256.78 226.437 1256.78 Q220.627 1256.78 217.548 1252.19 Q214.493 1247.59 214.493 1238.86 Q214.493 1230.11 217.548 1225.53 Q220.627 1220.92 226.437 1220.92 Z\" fill=\"#000000\" fill-rule=\"nonzero\" fill-opacity=\"1\" /><path clip-path=\"url(#clip520)\" d=\"M274.77 1230.64 L264.191 1241.27 L274.77 1251.85 L272.015 1254.65 L261.39 1244.02 L250.766 1254.65 L248.034 1251.85 L258.59 1241.27 L248.034 1230.64 L250.766 1227.84 L261.39 1238.47 L272.015 1227.84 L274.77 1230.64 Z\" fill=\"#000000\" fill-rule=\"nonzero\" fill-opacity=\"1\" /><path clip-path=\"url(#clip520)\" d=\"M287.131 1252.17 L294.77 1252.17 L294.77 1225.8 L286.46 1227.47 L286.46 1223.21 L294.724 1221.55 L299.4 1221.55 L299.4 1252.17 L307.038 1252.17 L307.038 1256.11 L287.131 1256.11 L287.131 1252.17 Z\" fill=\"#000000\" fill-rule=\"nonzero\" fill-opacity=\"1\" /><path clip-path=\"url(#clip520)\" d=\"M326.483 1224.62 Q322.872 1224.62 321.043 1228.19 Q319.237 1231.73 319.237 1238.86 Q319.237 1245.97 321.043 1249.53 Q322.872 1253.07 326.483 1253.07 Q330.117 1253.07 331.922 1249.53 Q333.751 1245.97 333.751 1238.86 Q333.751 1231.73 331.922 1228.19 Q330.117 1224.62 326.483 1224.62 M326.483 1220.92 Q332.293 1220.92 335.348 1225.53 Q338.427 1230.11 338.427 1238.86 Q338.427 1247.59 335.348 1252.19 Q332.293 1256.78 326.483 1256.78 Q320.673 1256.78 317.594 1252.19 Q314.538 1247.59 314.538 1238.86 Q314.538 1230.11 317.594 1225.53 Q320.673 1220.92 326.483 1220.92 Z\" fill=\"#000000\" fill-rule=\"nonzero\" fill-opacity=\"1\" /><path clip-path=\"url(#clip520)\" d=\"M338.427 1215.02 L362.539 1215.02 L362.539 1218.22 L338.427 1218.22 L338.427 1215.02 Z\" fill=\"#000000\" fill-rule=\"nonzero\" fill-opacity=\"1\" /><path clip-path=\"url(#clip520)\" d=\"M370.776 1200.61 L385.691 1200.61 L385.691 1203.81 L374.256 1203.81 L374.256 1210.7 Q375.083 1210.41 375.911 1210.28 Q376.738 1210.13 377.566 1210.13 Q382.268 1210.13 385.014 1212.71 Q387.76 1215.28 387.76 1219.69 Q387.76 1224.22 384.939 1226.74 Q382.118 1229.24 376.983 1229.24 Q375.215 1229.24 373.372 1228.94 Q371.548 1228.64 369.592 1228.04 L369.592 1224.22 Q371.284 1225.14 373.09 1225.59 Q374.895 1226.04 376.908 1226.04 Q380.162 1226.04 382.061 1224.33 Q383.961 1222.62 383.961 1219.69 Q383.961 1216.75 382.061 1215.04 Q380.162 1213.33 376.908 1213.33 Q375.384 1213.33 373.861 1213.67 Q372.356 1214.01 370.776 1214.72 L370.776 1200.61 Z\" fill=\"#000000\" fill-rule=\"nonzero\" fill-opacity=\"1\" /><path clip-path=\"url(#clip520)\" d=\"M141.854 937.621 L149.493 937.621 L149.493 911.255 L141.183 912.922 L141.183 908.663 L149.447 906.996 L154.123 906.996 L154.123 937.621 L161.761 937.621 L161.761 941.556 L141.854 941.556 L141.854 937.621 Z\" fill=\"#000000\" fill-rule=\"nonzero\" fill-opacity=\"1\" /><path clip-path=\"url(#clip520)\" d=\"M171.206 935.676 L176.09 935.676 L176.09 941.556 L171.206 941.556 L171.206 935.676 Z\" fill=\"#000000\" fill-rule=\"nonzero\" fill-opacity=\"1\" /><path clip-path=\"url(#clip520)\" d=\"M190.303 937.621 L206.622 937.621 L206.622 941.556 L184.678 941.556 L184.678 937.621 Q187.34 934.866 191.923 930.237 Q196.53 925.584 197.71 924.241 Q199.956 921.718 200.835 919.982 Q201.738 918.223 201.738 916.533 Q201.738 913.778 199.794 912.042 Q197.872 910.306 194.77 910.306 Q192.571 910.306 190.118 911.07 Q187.687 911.834 184.909 913.385 L184.909 908.663 Q187.733 907.528 190.187 906.95 Q192.641 906.371 194.678 906.371 Q200.048 906.371 203.243 909.056 Q206.437 911.741 206.437 916.232 Q206.437 918.362 205.627 920.283 Q204.84 922.181 202.733 924.774 Q202.155 925.445 199.053 928.663 Q195.951 931.857 190.303 937.621 Z\" fill=\"#000000\" fill-rule=\"nonzero\" fill-opacity=\"1\" /><path clip-path=\"url(#clip520)\" d=\"M226.437 910.075 Q222.826 910.075 220.997 913.64 Q219.192 917.181 219.192 924.311 Q219.192 931.417 220.997 934.982 Q222.826 938.524 226.437 938.524 Q230.071 938.524 231.877 934.982 Q233.705 931.417 233.705 924.311 Q233.705 917.181 231.877 913.64 Q230.071 910.075 226.437 910.075 M226.437 906.371 Q232.247 906.371 235.303 910.978 Q238.381 915.561 238.381 924.311 Q238.381 933.038 235.303 937.644 Q232.247 942.227 226.437 942.227 Q220.627 942.227 217.548 937.644 Q214.493 933.038 214.493 924.311 Q214.493 915.561 217.548 910.978 Q220.627 906.371 226.437 906.371 Z\" fill=\"#000000\" fill-rule=\"nonzero\" fill-opacity=\"1\" /><path clip-path=\"url(#clip520)\" d=\"M274.77 916.093 L264.191 926.718 L274.77 937.297 L272.015 940.098 L261.39 929.473 L250.766 940.098 L248.034 937.297 L258.59 926.718 L248.034 916.093 L250.766 913.292 L261.39 923.917 L272.015 913.292 L274.77 916.093 Z\" fill=\"#000000\" fill-rule=\"nonzero\" fill-opacity=\"1\" /><path clip-path=\"url(#clip520)\" d=\"M287.131 937.621 L294.77 937.621 L294.77 911.255 L286.46 912.922 L286.46 908.663 L294.724 906.996 L299.4 906.996 L299.4 937.621 L307.038 937.621 L307.038 941.556 L287.131 941.556 L287.131 937.621 Z\" fill=\"#000000\" fill-rule=\"nonzero\" fill-opacity=\"1\" /><path clip-path=\"url(#clip520)\" d=\"M326.483 910.075 Q322.872 910.075 321.043 913.64 Q319.237 917.181 319.237 924.311 Q319.237 931.417 321.043 934.982 Q322.872 938.524 326.483 938.524 Q330.117 938.524 331.922 934.982 Q333.751 931.417 333.751 924.311 Q333.751 917.181 331.922 913.64 Q330.117 910.075 326.483 910.075 M326.483 906.371 Q332.293 906.371 335.348 910.978 Q338.427 915.561 338.427 924.311 Q338.427 933.038 335.348 937.644 Q332.293 942.227 326.483 942.227 Q320.673 942.227 317.594 937.644 Q314.538 933.038 314.538 924.311 Q314.538 915.561 317.594 910.978 Q320.673 906.371 326.483 906.371 Z\" fill=\"#000000\" fill-rule=\"nonzero\" fill-opacity=\"1\" /><path clip-path=\"url(#clip520)\" d=\"M338.427 900.472 L362.539 900.472 L362.539 903.67 L338.427 903.67 L338.427 900.472 Z\" fill=\"#000000\" fill-rule=\"nonzero\" fill-opacity=\"1\" /><path clip-path=\"url(#clip520)\" d=\"M370.776 886.066 L385.691 886.066 L385.691 889.263 L374.256 889.263 L374.256 896.147 Q375.083 895.865 375.911 895.733 Q376.738 895.582 377.566 895.582 Q382.268 895.582 385.014 898.159 Q387.76 900.736 387.76 905.137 Q387.76 909.669 384.939 912.19 Q382.118 914.691 376.983 914.691 Q375.215 914.691 373.372 914.39 Q371.548 914.089 369.592 913.487 L369.592 909.669 Q371.284 910.591 373.09 911.042 Q374.895 911.494 376.908 911.494 Q380.162 911.494 382.061 909.782 Q383.961 908.071 383.961 905.137 Q383.961 902.203 382.061 900.491 Q380.162 898.78 376.908 898.78 Q375.384 898.78 373.861 899.118 Q372.356 899.457 370.776 900.172 L370.776 886.066 Z\" fill=\"#000000\" fill-rule=\"nonzero\" fill-opacity=\"1\" /><path clip-path=\"url(#clip520)\" d=\"M141.854 623.072 L149.493 623.072 L149.493 596.706 L141.183 598.373 L141.183 594.114 L149.447 592.447 L154.123 592.447 L154.123 623.072 L161.761 623.072 L161.761 627.007 L141.854 627.007 L141.854 623.072 Z\" fill=\"#000000\" fill-rule=\"nonzero\" fill-opacity=\"1\" /><path clip-path=\"url(#clip520)\" d=\"M171.206 621.127 L176.09 621.127 L176.09 627.007 L171.206 627.007 L171.206 621.127 Z\" fill=\"#000000\" fill-rule=\"nonzero\" fill-opacity=\"1\" /><path clip-path=\"url(#clip520)\" d=\"M200.442 608.373 Q203.798 609.09 205.673 611.359 Q207.571 613.627 207.571 616.961 Q207.571 622.076 204.053 624.877 Q200.534 627.678 194.053 627.678 Q191.877 627.678 189.562 627.239 Q187.27 626.822 184.817 625.965 L184.817 621.452 Q186.761 622.586 189.076 623.164 Q191.391 623.743 193.914 623.743 Q198.312 623.743 200.604 622.007 Q202.919 620.271 202.919 616.961 Q202.919 613.905 200.766 612.192 Q198.636 610.456 194.817 610.456 L190.789 610.456 L190.789 606.614 L195.002 606.614 Q198.451 606.614 200.28 605.248 Q202.108 603.859 202.108 601.266 Q202.108 598.604 200.21 597.192 Q198.335 595.757 194.817 595.757 Q192.895 595.757 190.696 596.174 Q188.497 596.591 185.858 597.47 L185.858 593.304 Q188.52 592.563 190.835 592.192 Q193.173 591.822 195.233 591.822 Q200.557 591.822 203.659 594.253 Q206.761 596.66 206.761 600.78 Q206.761 603.651 205.118 605.641 Q203.474 607.609 200.442 608.373 Z\" fill=\"#000000\" fill-rule=\"nonzero\" fill-opacity=\"1\" /><path clip-path=\"url(#clip520)\" d=\"M226.437 595.526 Q222.826 595.526 220.997 599.091 Q219.192 602.632 219.192 609.762 Q219.192 616.868 220.997 620.433 Q222.826 623.975 226.437 623.975 Q230.071 623.975 231.877 620.433 Q233.705 616.868 233.705 609.762 Q233.705 602.632 231.877 599.091 Q230.071 595.526 226.437 595.526 M226.437 591.822 Q232.247 591.822 235.303 596.428 Q238.381 601.012 238.381 609.762 Q238.381 618.489 235.303 623.095 Q232.247 627.678 226.437 627.678 Q220.627 627.678 217.548 623.095 Q214.493 618.489 214.493 609.762 Q214.493 601.012 217.548 596.428 Q220.627 591.822 226.437 591.822 Z\" fill=\"#000000\" fill-rule=\"nonzero\" fill-opacity=\"1\" /><path clip-path=\"url(#clip520)\" d=\"M274.77 601.544 L264.191 612.169 L274.77 622.748 L272.015 625.549 L261.39 614.924 L250.766 625.549 L248.034 622.748 L258.59 612.169 L248.034 601.544 L250.766 598.743 L261.39 609.368 L272.015 598.743 L274.77 601.544 Z\" fill=\"#000000\" fill-rule=\"nonzero\" fill-opacity=\"1\" /><path clip-path=\"url(#clip520)\" d=\"M287.131 623.072 L294.77 623.072 L294.77 596.706 L286.46 598.373 L286.46 594.114 L294.724 592.447 L299.4 592.447 L299.4 623.072 L307.038 623.072 L307.038 627.007 L287.131 627.007 L287.131 623.072 Z\" fill=\"#000000\" fill-rule=\"nonzero\" fill-opacity=\"1\" /><path clip-path=\"url(#clip520)\" d=\"M326.483 595.526 Q322.872 595.526 321.043 599.091 Q319.237 602.632 319.237 609.762 Q319.237 616.868 321.043 620.433 Q322.872 623.975 326.483 623.975 Q330.117 623.975 331.922 620.433 Q333.751 616.868 333.751 609.762 Q333.751 602.632 331.922 599.091 Q330.117 595.526 326.483 595.526 M326.483 591.822 Q332.293 591.822 335.348 596.428 Q338.427 601.012 338.427 609.762 Q338.427 618.489 335.348 623.095 Q332.293 627.678 326.483 627.678 Q320.673 627.678 317.594 623.095 Q314.538 618.489 314.538 609.762 Q314.538 601.012 317.594 596.428 Q320.673 591.822 326.483 591.822 Z\" fill=\"#000000\" fill-rule=\"nonzero\" fill-opacity=\"1\" /><path clip-path=\"url(#clip520)\" d=\"M338.427 585.923 L362.539 585.923 L362.539 589.121 L338.427 589.121 L338.427 585.923 Z\" fill=\"#000000\" fill-rule=\"nonzero\" fill-opacity=\"1\" /><path clip-path=\"url(#clip520)\" d=\"M370.776 571.517 L385.691 571.517 L385.691 574.714 L374.256 574.714 L374.256 581.598 Q375.083 581.315 375.911 581.184 Q376.738 581.033 377.566 581.033 Q382.268 581.033 385.014 583.61 Q387.76 586.187 387.76 590.588 Q387.76 595.12 384.939 597.641 Q382.118 600.142 376.983 600.142 Q375.215 600.142 373.372 599.841 Q371.548 599.54 369.592 598.938 L369.592 595.12 Q371.284 596.042 373.09 596.493 Q374.895 596.945 376.908 596.945 Q380.162 596.945 382.061 595.233 Q383.961 593.522 383.961 590.588 Q383.961 587.654 382.061 585.942 Q380.162 584.231 376.908 584.231 Q375.384 584.231 373.861 584.569 Q372.356 584.908 370.776 585.622 L370.776 571.517 Z\" fill=\"#000000\" fill-rule=\"nonzero\" fill-opacity=\"1\" /><path clip-path=\"url(#clip520)\" d=\"M141.854 308.523 L149.493 308.523 L149.493 282.157 L141.183 283.824 L141.183 279.565 L149.447 277.898 L154.123 277.898 L154.123 308.523 L161.761 308.523 L161.761 312.458 L141.854 312.458 L141.854 308.523 Z\" fill=\"#000000\" fill-rule=\"nonzero\" fill-opacity=\"1\" /><path clip-path=\"url(#clip520)\" d=\"M171.206 306.578 L176.09 306.578 L176.09 312.458 L171.206 312.458 L171.206 306.578 Z\" fill=\"#000000\" fill-rule=\"nonzero\" fill-opacity=\"1\" /><path clip-path=\"url(#clip520)\" d=\"M199.122 281.972 L187.317 300.421 L199.122 300.421 L199.122 281.972 M197.895 277.898 L203.775 277.898 L203.775 300.421 L208.706 300.421 L208.706 304.31 L203.775 304.31 L203.775 312.458 L199.122 312.458 L199.122 304.31 L183.52 304.31 L183.52 299.796 L197.895 277.898 Z\" fill=\"#000000\" fill-rule=\"nonzero\" fill-opacity=\"1\" /><path clip-path=\"url(#clip520)\" d=\"M226.437 280.977 Q222.826 280.977 220.997 284.541 Q219.192 288.083 219.192 295.213 Q219.192 302.319 220.997 305.884 Q222.826 309.426 226.437 309.426 Q230.071 309.426 231.877 305.884 Q233.705 302.319 233.705 295.213 Q233.705 288.083 231.877 284.541 Q230.071 280.977 226.437 280.977 M226.437 277.273 Q232.247 277.273 235.303 281.879 Q238.381 286.463 238.381 295.213 Q238.381 303.939 235.303 308.546 Q232.247 313.129 226.437 313.129 Q220.627 313.129 217.548 308.546 Q214.493 303.939 214.493 295.213 Q214.493 286.463 217.548 281.879 Q220.627 277.273 226.437 277.273 Z\" fill=\"#000000\" fill-rule=\"nonzero\" fill-opacity=\"1\" /><path clip-path=\"url(#clip520)\" d=\"M274.77 286.995 L264.191 297.62 L274.77 308.199 L272.015 311 L261.39 300.375 L250.766 311 L248.034 308.199 L258.59 297.62 L248.034 286.995 L250.766 284.194 L261.39 294.819 L272.015 284.194 L274.77 286.995 Z\" fill=\"#000000\" fill-rule=\"nonzero\" fill-opacity=\"1\" /><path clip-path=\"url(#clip520)\" d=\"M287.131 308.523 L294.77 308.523 L294.77 282.157 L286.46 283.824 L286.46 279.565 L294.724 277.898 L299.4 277.898 L299.4 308.523 L307.038 308.523 L307.038 312.458 L287.131 312.458 L287.131 308.523 Z\" fill=\"#000000\" fill-rule=\"nonzero\" fill-opacity=\"1\" /><path clip-path=\"url(#clip520)\" d=\"M326.483 280.977 Q322.872 280.977 321.043 284.541 Q319.237 288.083 319.237 295.213 Q319.237 302.319 321.043 305.884 Q322.872 309.426 326.483 309.426 Q330.117 309.426 331.922 305.884 Q333.751 302.319 333.751 295.213 Q333.751 288.083 331.922 284.541 Q330.117 280.977 326.483 280.977 M326.483 277.273 Q332.293 277.273 335.348 281.879 Q338.427 286.463 338.427 295.213 Q338.427 303.939 335.348 308.546 Q332.293 313.129 326.483 313.129 Q320.673 313.129 317.594 308.546 Q314.538 303.939 314.538 295.213 Q314.538 286.463 317.594 281.879 Q320.673 277.273 326.483 277.273 Z\" fill=\"#000000\" fill-rule=\"nonzero\" fill-opacity=\"1\" /><path clip-path=\"url(#clip520)\" d=\"M338.427 271.374 L362.539 271.374 L362.539 274.572 L338.427 274.572 L338.427 271.374 Z\" fill=\"#000000\" fill-rule=\"nonzero\" fill-opacity=\"1\" /><path clip-path=\"url(#clip520)\" d=\"M370.776 256.968 L385.691 256.968 L385.691 260.165 L374.256 260.165 L374.256 267.049 Q375.083 266.766 375.911 266.635 Q376.738 266.484 377.566 266.484 Q382.268 266.484 385.014 269.061 Q387.76 271.638 387.76 276.039 Q387.76 280.571 384.939 283.092 Q382.118 285.593 376.983 285.593 Q375.215 285.593 373.372 285.292 Q371.548 284.991 369.592 284.389 L369.592 280.571 Q371.284 281.493 373.09 281.944 Q374.895 282.396 376.908 282.396 Q380.162 282.396 382.061 280.684 Q383.961 278.973 383.961 276.039 Q383.961 273.105 382.061 271.393 Q380.162 269.682 376.908 269.682 Q375.384 269.682 373.861 270.02 Q372.356 270.359 370.776 271.073 L370.776 256.968 Z\" fill=\"#000000\" fill-rule=\"nonzero\" fill-opacity=\"1\" /><path clip-path=\"url(#clip520)\" d=\"M40.2442 1230.62 L40.2442 1224.19 L82.3533 1224.19 L82.3533 1201.05 L87.7642 1201.05 L87.7642 1230.62 L40.2442 1230.62 Z\" fill=\"#000000\" fill-rule=\"nonzero\" fill-opacity=\"1\" /><path clip-path=\"url(#clip520)\" d=\"M56.2221 1181.89 Q56.2221 1186.6 59.9142 1189.34 Q63.5745 1192.08 69.972 1192.08 Q76.3695 1192.08 80.0617 1189.37 Q83.7219 1186.64 83.7219 1181.89 Q83.7219 1177.21 80.0298 1174.48 Q76.3377 1171.74 69.972 1171.74 Q63.6381 1171.74 59.946 1174.48 Q56.2221 1177.21 56.2221 1181.89 M51.2568 1181.89 Q51.2568 1174.25 56.2221 1169.89 Q61.1873 1165.53 69.972 1165.53 Q78.7249 1165.53 83.7219 1169.89 Q88.6872 1174.25 88.6872 1181.89 Q88.6872 1189.56 83.7219 1193.92 Q78.7249 1198.25 69.972 1198.25 Q61.1873 1198.25 56.2221 1193.92 Q51.2568 1189.56 51.2568 1181.89 Z\" fill=\"#000000\" fill-rule=\"nonzero\" fill-opacity=\"1\" /><path clip-path=\"url(#clip520)\" d=\"M53.1665 1133.1 L58.7047 1133.1 Q57.4316 1135.58 56.795 1138.26 Q56.1584 1140.93 56.1584 1143.79 Q56.1584 1148.15 57.4952 1150.35 Q58.832 1152.52 61.5056 1152.52 Q63.5426 1152.52 64.7203 1150.96 Q65.8661 1149.4 66.9165 1144.69 L67.3621 1142.68 Q68.6989 1136.44 71.1497 1133.83 Q73.5686 1131.19 77.9291 1131.19 Q82.8944 1131.19 85.7908 1135.14 Q88.6872 1139.05 88.6872 1145.93 Q88.6872 1148.79 88.1143 1151.91 Q87.5732 1155 86.4592 1158.44 L80.4118 1158.44 Q82.0987 1155.19 82.958 1152.04 Q83.7856 1148.89 83.7856 1145.8 Q83.7856 1141.66 82.3851 1139.43 Q80.9529 1137.21 78.3747 1137.21 Q75.9876 1137.21 74.7145 1138.83 Q73.4413 1140.42 72.2637 1145.86 L71.7862 1147.9 Q70.6404 1153.34 68.2851 1155.76 Q65.898 1158.18 61.7602 1158.18 Q56.7313 1158.18 53.9941 1154.62 Q51.2568 1151.05 51.2568 1144.49 Q51.2568 1141.25 51.7343 1138.38 Q52.2117 1135.52 53.1665 1133.1 Z\" fill=\"#000000\" fill-rule=\"nonzero\" fill-opacity=\"1\" /><path clip-path=\"url(#clip520)\" d=\"M53.1665 1099.14 L58.7047 1099.14 Q57.4316 1101.62 56.795 1104.3 Q56.1584 1106.97 56.1584 1109.83 Q56.1584 1114.19 57.4952 1116.39 Q58.832 1118.55 61.5056 1118.55 Q63.5426 1118.55 64.7203 1116.99 Q65.8661 1115.44 66.9165 1110.72 L67.3621 1108.72 Q68.6989 1102.48 71.1497 1099.87 Q73.5686 1097.23 77.9291 1097.23 Q82.8944 1097.23 85.7908 1101.18 Q88.6872 1105.09 88.6872 1111.97 Q88.6872 1114.83 88.1143 1117.95 Q87.5732 1121.04 86.4592 1124.47 L80.4118 1124.47 Q82.0987 1121.23 82.958 1118.08 Q83.7856 1114.93 83.7856 1111.84 Q83.7856 1107.7 82.3851 1105.47 Q80.9529 1103.24 78.3747 1103.24 Q75.9876 1103.24 74.7145 1104.87 Q73.4413 1106.46 72.2637 1111.9 L71.7862 1113.94 Q70.6404 1119.38 68.2851 1121.8 Q65.898 1124.22 61.7602 1124.22 Q56.7313 1124.22 53.9941 1120.66 Q51.2568 1117.09 51.2568 1110.53 Q51.2568 1107.29 51.7343 1104.42 Q52.2117 1101.56 53.1665 1099.14 Z\" fill=\"#000000\" fill-rule=\"nonzero\" fill-opacity=\"1\" /><path clip-path=\"url(#clip520)\" d=\"M1078.89 12.096 L1087.07 12.096 L1087.07 65.6895 L1116.52 65.6895 L1116.52 72.576 L1078.89 72.576 L1078.89 12.096 Z\" fill=\"#000000\" fill-rule=\"nonzero\" fill-opacity=\"1\" /><path clip-path=\"url(#clip520)\" d=\"M1162.14 48.0275 L1162.14 51.6733 L1127.87 51.6733 Q1128.35 59.3701 1132.48 63.421 Q1136.66 67.4314 1144.07 67.4314 Q1148.36 67.4314 1152.37 66.3781 Q1156.42 65.3249 1160.39 63.2184 L1160.39 70.267 Q1156.38 71.9684 1152.17 72.8596 Q1147.96 73.7508 1143.62 73.7508 Q1132.77 73.7508 1126.41 67.4314 Q1120.09 61.1119 1120.09 50.3365 Q1120.09 39.1965 1126.08 32.6746 Q1132.12 26.1121 1142.33 26.1121 Q1151.48 26.1121 1156.79 32.0264 Q1162.14 37.9003 1162.14 48.0275 M1154.68 45.84 Q1154.6 39.7232 1151.24 36.0774 Q1147.92 32.4315 1142.41 32.4315 Q1136.17 32.4315 1132.4 35.9558 Q1128.68 39.4801 1128.11 45.8805 L1154.68 45.84 Z\" fill=\"#000000\" fill-rule=\"nonzero\" fill-opacity=\"1\" /><path clip-path=\"url(#clip520)\" d=\"M1194.99 49.7694 Q1185.96 49.7694 1182.47 51.8354 Q1178.99 53.9013 1178.99 58.8839 Q1178.99 62.8538 1181.58 65.2034 Q1184.21 67.5124 1188.71 67.5124 Q1194.91 67.5124 1198.64 63.1374 Q1202.4 58.7219 1202.4 51.4303 L1202.4 49.7694 L1194.99 49.7694 M1209.86 46.6907 L1209.86 72.576 L1202.4 72.576 L1202.4 65.6895 Q1199.85 69.8214 1196.04 71.8063 Q1192.23 73.7508 1186.73 73.7508 Q1179.76 73.7508 1175.63 69.8619 Q1171.53 65.9325 1171.53 59.3701 Q1171.53 51.7138 1176.64 47.825 Q1181.78 43.9361 1191.95 43.9361 L1202.4 43.9361 L1202.4 43.2069 Q1202.4 38.0623 1199 35.2672 Q1195.64 32.4315 1189.52 32.4315 Q1185.63 32.4315 1181.95 33.3632 Q1178.26 34.295 1174.86 36.1584 L1174.86 29.2718 Q1178.95 27.692 1182.8 26.9223 Q1186.64 26.1121 1190.29 26.1121 Q1200.13 26.1121 1204.99 31.2163 Q1209.86 36.3204 1209.86 46.6907 Z\" fill=\"#000000\" fill-rule=\"nonzero\" fill-opacity=\"1\" /><path clip-path=\"url(#clip520)\" d=\"M1251.5 34.1734 Q1250.24 33.4443 1248.74 33.1202 Q1247.29 32.7556 1245.5 32.7556 Q1239.18 32.7556 1235.78 36.8875 Q1232.42 40.9789 1232.42 48.6757 L1232.42 72.576 L1224.93 72.576 L1224.93 27.2059 L1232.42 27.2059 L1232.42 34.2544 Q1234.77 30.1225 1238.54 28.1376 Q1242.3 26.1121 1247.69 26.1121 Q1248.46 26.1121 1249.39 26.2337 Q1250.32 26.3147 1251.46 26.5172 L1251.5 34.1734 Z\" fill=\"#000000\" fill-rule=\"nonzero\" fill-opacity=\"1\" /><path clip-path=\"url(#clip520)\" d=\"M1295.57 45.1919 L1295.57 72.576 L1288.12 72.576 L1288.12 45.4349 Q1288.12 38.994 1285.61 35.7938 Q1283.1 32.5936 1278.07 32.5936 Q1272.04 32.5936 1268.55 36.4419 Q1265.07 40.2903 1265.07 46.9338 L1265.07 72.576 L1257.58 72.576 L1257.58 27.2059 L1265.07 27.2059 L1265.07 34.2544 Q1267.74 30.163 1271.35 28.1376 Q1274.99 26.1121 1279.73 26.1121 Q1287.55 26.1121 1291.56 30.9732 Q1295.57 35.7938 1295.57 45.1919 Z\" fill=\"#000000\" fill-rule=\"nonzero\" fill-opacity=\"1\" /><path clip-path=\"url(#clip520)\" d=\"M1310.44 27.2059 L1317.89 27.2059 L1317.89 72.576 L1310.44 72.576 L1310.44 27.2059 M1310.44 9.54393 L1317.89 9.54393 L1317.89 18.9825 L1310.44 18.9825 L1310.44 9.54393 Z\" fill=\"#000000\" fill-rule=\"nonzero\" fill-opacity=\"1\" /><path clip-path=\"url(#clip520)\" d=\"M1371.2 45.1919 L1371.2 72.576 L1363.75 72.576 L1363.75 45.4349 Q1363.75 38.994 1361.24 35.7938 Q1358.73 32.5936 1353.7 32.5936 Q1347.67 32.5936 1344.18 36.4419 Q1340.7 40.2903 1340.7 46.9338 L1340.7 72.576 L1333.21 72.576 L1333.21 27.2059 L1340.7 27.2059 L1340.7 34.2544 Q1343.37 30.163 1346.98 28.1376 Q1350.62 26.1121 1355.36 26.1121 Q1363.18 26.1121 1367.19 30.9732 Q1371.2 35.7938 1371.2 45.1919 Z\" fill=\"#000000\" fill-rule=\"nonzero\" fill-opacity=\"1\" /><path clip-path=\"url(#clip520)\" d=\"M1415.93 49.3643 Q1415.93 41.2625 1412.56 36.8065 Q1409.24 32.3505 1403.21 32.3505 Q1397.21 32.3505 1393.85 36.8065 Q1390.53 41.2625 1390.53 49.3643 Q1390.53 57.4256 1393.85 61.8816 Q1397.21 66.3376 1403.21 66.3376 Q1409.24 66.3376 1412.56 61.8816 Q1415.93 57.4256 1415.93 49.3643 M1423.38 66.9452 Q1423.38 78.5308 1418.23 84.1616 Q1413.09 89.8329 1402.48 89.8329 Q1398.55 89.8329 1395.06 89.2252 Q1391.58 88.6581 1388.3 87.4428 L1388.3 80.1917 Q1391.58 81.9741 1394.78 82.8248 Q1397.98 83.6755 1401.3 83.6755 Q1408.63 83.6755 1412.28 79.8271 Q1415.93 76.0193 1415.93 68.282 L1415.93 64.5957 Q1413.62 68.6061 1410.01 70.5911 Q1406.41 72.576 1401.38 72.576 Q1393.04 72.576 1387.93 66.2161 Q1382.83 59.8562 1382.83 49.3643 Q1382.83 38.832 1387.93 32.472 Q1393.04 26.1121 1401.38 26.1121 Q1406.41 26.1121 1410.01 28.0971 Q1413.62 30.082 1415.93 34.0924 L1415.93 27.2059 L1423.38 27.2059 L1423.38 66.9452 Z\" fill=\"#000000\" fill-rule=\"nonzero\" fill-opacity=\"1\" /><path clip-path=\"url(#clip520)\" d=\"M1510.72 16.7545 L1510.72 25.383 Q1506.58 21.5346 1501.89 19.6307 Q1497.23 17.7268 1491.96 17.7268 Q1481.59 17.7268 1476.08 24.0867 Q1470.57 30.4061 1470.57 42.3968 Q1470.57 54.3469 1476.08 60.7069 Q1481.59 67.0263 1491.96 67.0263 Q1497.23 67.0263 1501.89 65.1223 Q1506.58 63.2184 1510.72 59.3701 L1510.72 67.9175 Q1506.42 70.8341 1501.6 72.2924 Q1496.82 73.7508 1491.47 73.7508 Q1477.74 73.7508 1469.84 65.3654 Q1461.94 56.9395 1461.94 42.3968 Q1461.94 27.8135 1469.84 19.4281 Q1477.74 11.0023 1491.47 11.0023 Q1496.9 11.0023 1501.68 12.4606 Q1506.5 13.8784 1510.72 16.7545 Z\" fill=\"#000000\" fill-rule=\"nonzero\" fill-opacity=\"1\" /><path clip-path=\"url(#clip520)\" d=\"M1522.26 54.671 L1522.26 27.2059 L1529.72 27.2059 L1529.72 54.3874 Q1529.72 60.8284 1532.23 64.0691 Q1534.74 67.2693 1539.76 67.2693 Q1545.8 67.2693 1549.28 63.421 Q1552.81 59.5726 1552.81 52.9291 L1552.81 27.2059 L1560.26 27.2059 L1560.26 72.576 L1552.81 72.576 L1552.81 65.6084 Q1550.09 69.7404 1546.49 71.7658 Q1542.92 73.7508 1538.18 73.7508 Q1530.36 73.7508 1526.31 68.8897 Q1522.26 64.0286 1522.26 54.671 M1541.02 26.1121 L1541.02 26.1121 Z\" fill=\"#000000\" fill-rule=\"nonzero\" fill-opacity=\"1\" /><path clip-path=\"url(#clip520)\" d=\"M1601.9 34.1734 Q1600.65 33.4443 1599.15 33.1202 Q1597.69 32.7556 1595.91 32.7556 Q1589.59 32.7556 1586.19 36.8875 Q1582.82 40.9789 1582.82 48.6757 L1582.82 72.576 L1575.33 72.576 L1575.33 27.2059 L1582.82 27.2059 L1582.82 34.2544 Q1585.17 30.1225 1588.94 28.1376 Q1592.71 26.1121 1598.09 26.1121 Q1598.86 26.1121 1599.8 26.2337 Q1600.73 26.3147 1601.86 26.5172 L1601.9 34.1734 Z\" fill=\"#000000\" fill-rule=\"nonzero\" fill-opacity=\"1\" /><path clip-path=\"url(#clip520)\" d=\"M1604.37 27.2059 L1612.27 27.2059 L1626.45 65.2844 L1640.63 27.2059 L1648.53 27.2059 L1631.51 72.576 L1621.39 72.576 L1604.37 27.2059 Z\" fill=\"#000000\" fill-rule=\"nonzero\" fill-opacity=\"1\" /><path clip-path=\"url(#clip520)\" d=\"M1697.63 48.0275 L1697.63 51.6733 L1663.35 51.6733 Q1663.84 59.3701 1667.97 63.421 Q1672.15 67.4314 1679.56 67.4314 Q1683.85 67.4314 1687.86 66.3781 Q1691.91 65.3249 1695.88 63.2184 L1695.88 70.267 Q1691.87 71.9684 1687.66 72.8596 Q1683.45 73.7508 1679.11 73.7508 Q1668.26 73.7508 1661.9 67.4314 Q1655.58 61.1119 1655.58 50.3365 Q1655.58 39.1965 1661.57 32.6746 Q1667.61 26.1121 1677.82 26.1121 Q1686.97 26.1121 1692.28 32.0264 Q1697.63 37.9003 1697.63 48.0275 M1690.17 45.84 Q1690.09 39.7232 1686.73 36.0774 Q1683.41 32.4315 1677.9 32.4315 Q1671.66 32.4315 1667.89 35.9558 Q1664.16 39.4801 1663.6 45.8805 L1690.17 45.84 Z\" fill=\"#000000\" fill-rule=\"nonzero\" fill-opacity=\"1\" /><polyline clip-path=\"url(#clip522)\" style=\"stroke:#0000ff; stroke-linecap:round; stroke-linejoin:round; stroke-width:8; stroke-opacity:1; fill:none\" points=\"478.354,210.894 492.461,235.382 506.568,259.563 520.675,277.598 534.782,300.56 548.889,325.618 562.996,346.26 577.103,367.084 591.21,388.836 605.317,411.639 619.424,433.442 633.531,453.654 647.639,475.683 661.746,497.347 675.853,516.955 689.96,534.71 704.067,556.345 718.174,575.599 732.281,592.674 746.388,614.475 760.495,634.971 774.602,652.307 788.709,671.994 802.816,691.821 816.923,710.346 831.03,728.989 845.137,747.347 859.244,766.583 873.351,786.017 887.458,802.085 901.565,820.759 915.672,839.891 929.779,855.694 943.886,875.292 957.993,892.365 972.1,908.417 986.207,927.188 1000.31,944.433 1014.42,960.331 1028.53,978.485 1042.64,994.918 1056.74,1011.86 1070.85,1028.46 1084.96,1044.65 1099.06,1060.46 1113.17,1076.96 1127.28,1093.33 1141.38,1109.03 1155.49,1124.63 1169.6,1140.35 1183.71,1156.22 1197.81,1171.76 1211.92,1186.97 1226.03,1202.46 1240.13,1217.79 1254.24,1232.88 1268.35,1247.75 1282.46,1261.13 1296.56,1276.31 1310.67,1291.54 1324.78,1306.01 1338.88,1320.42 1352.99,1334.92 1367.1,1349.26 1381.2,1363.59 1395.31,1377.39 1409.42,1391.2 1423.53,1404.92 1437.63,1419.39 1451.74,1431.54 1465.85,1446.19 1479.95,1459.82 1494.06,1473.46 1508.17,1486.31 1522.27,1500.8 1536.38,1513.02 1550.49,1526.42 1564.6,1539.52 1578.7,1552.78 1592.81,1565.29 1606.92,1577.93 1621.02,1590.52 1635.13,1603.21 1649.24,1615.31 1663.35,1628.6 1677.45,1640.78 1691.56,1653.6 1705.67,1664.74 1719.77,1677.81 1733.88,1689.38 1747.99,1701.98 1762.09,1713.85 1776.2,1724.45 1790.31,1737.63 1804.42,1748.05 1818.52,1759.8 1832.63,1772.27 1846.74,1782 1860.84,1794.04 1874.95,1806.18 1889.06,1816.14 1903.16,1827.65 1917.27,1839.53 1931.38,1850.46 1945.49,1860.71 1959.59,1872.6 1973.7,1883.64 1987.81,1893.94 2001.91,1904.7 2016.02,1916.32 2030.13,1925.79 2044.24,1937.22 2058.34,1947.2 2072.45,1957.4 2086.56,1968.24 2100.66,1978.41 2114.77,1987.98 2128.88,1998.77 2142.98,2009.09 2157.09,2019.45 2171.2,2029.51 2185.31,2040.27 2199.41,2049.74 2213.52,2059.55 2227.63,2069.28 2241.73,2079 2255.84,2088.22 2269.95,2097.63 2284.05,2107.26 2298.16,2116.96 \"/>\n",
       "</svg>\n"
      ]
     },
     "execution_count": 71,
     "metadata": {},
     "output_type": "execute_result"
    }
   ],
   "source": [
    "# initialize plot\n",
    "\n",
    "gr(size = (600, 600))\n",
    "\n",
    "# plot learning curve\n",
    "\n",
    "# p_l_curve = \n",
    "plot(1:epochs, loss_history,\n",
    "    xlabel = \"Epochs\",\n",
    "    ylabel = \"Loss\",\n",
    "    title = \"Learning Curve\",\n",
    "    legend = false,\n",
    "    color = :blue,\n",
    "    linewidth = 2\n",
    ")\n",
    "# save plot\n",
    "# savefig(p_l_curve, \"images/ann_learning_curve.svg\");"
   ]
  },
  {
   "cell_type": "markdown",
   "id": "9eb76e99-7526-40f6-9c87-791665818371",
   "metadata": {},
   "source": [
    "# References\n",
    "\n",
    "- [ ] [Is there a way to print loss from Flux.train?](https://stackoverflow.com/questions/73737260/is-there-a-way-to-print-loss-from-flux-train)\n",
    "- [ ] [The Future of Machine Learning and why it looks a lot like Julia 🤖](https://towardsdatascience.com/the-future-of-machine-learning-and-why-it-looks-a-lot-like-julia-a0e26b51f6a6)"
   ]
  },
  {
   "cell_type": "code",
   "execution_count": null,
   "id": "ecc79cac-bc61-4e18-8be1-ee7ae5072503",
   "metadata": {},
   "outputs": [],
   "source": []
  }
 ],
 "metadata": {
  "kernelspec": {
   "display_name": "Julia 1.9.3",
   "language": "julia",
   "name": "julia-1.9"
  },
  "language_info": {
   "file_extension": ".jl",
   "mimetype": "application/julia",
   "name": "julia",
   "version": "1.9.4"
  }
 },
 "nbformat": 4,
 "nbformat_minor": 5
}

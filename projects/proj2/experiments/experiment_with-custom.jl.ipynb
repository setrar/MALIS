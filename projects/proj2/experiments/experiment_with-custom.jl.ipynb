{
 "cells": [
  {
   "cell_type": "code",
   "execution_count": 8,
   "id": "0745f471-528e-46b0-978d-006329cdb69f",
   "metadata": {},
   "outputs": [],
   "source": [
    "using Random"
   ]
  },
  {
   "cell_type": "code",
   "execution_count": 9,
   "id": "a77fcb4f-355d-4e25-bfb4-34317aa1632f",
   "metadata": {},
   "outputs": [
    {
     "data": {
      "text/plain": [
       "predict (generic function with 1 method)"
      ]
     },
     "execution_count": 9,
     "metadata": {},
     "output_type": "execute_result"
    }
   ],
   "source": [
    "include(\"perceptron.jl\")"
   ]
  },
  {
   "cell_type": "code",
   "execution_count": 10,
   "id": "b4e59633-1a48-485d-960a-0eefcf33c1f7",
   "metadata": {},
   "outputs": [
    {
     "data": {
      "text/plain": [
       "train! (generic function with 1 method)"
      ]
     },
     "execution_count": 10,
     "metadata": {},
     "output_type": "execute_result"
    }
   ],
   "source": [
    "# Training method for Perceptron\n",
    "function train!(perceptron::Perceptron, inputs::Matrix{Float64}, targets::Vector{Float64}, η::Float64, epochs::Int)\n",
    "    for epoch in 1:epochs\n",
    "        for i in 1:size(inputs, 1)\n",
    "            input = inputs[i, :]\n",
    "            target = targets[i]\n",
    "\n",
    "            prediction = predict(perceptron, input)\n",
    "            error = target - prediction\n",
    "\n",
    "            # Update weights and bias\n",
    "            perceptron.weights .+= η * error * input\n",
    "            perceptron.bias += learning_rate * error\n",
    "        end\n",
    "    end\n",
    "end"
   ]
  },
  {
   "cell_type": "code",
   "execution_count": 11,
   "id": "ab329160-f989-4235-a82d-89b8a3a9617c",
   "metadata": {},
   "outputs": [
    {
     "data": {
      "text/plain": [
       "Perceptron([0.9799558245837517, 0.9503066210826131], 0.9810511994061689)"
      ]
     },
     "execution_count": 11,
     "metadata": {},
     "output_type": "execute_result"
    }
   ],
   "source": [
    "# Example usage\n",
    "input_size = 2\n",
    "perceptron = Perceptron(input_size)"
   ]
  },
  {
   "cell_type": "code",
   "execution_count": 12,
   "id": "51ecf4c6-aeb8-4ffb-8eec-378b321a2502",
   "metadata": {},
   "outputs": [],
   "source": [
    "# Training data\n",
    "inputs = randn(100, input_size)\n",
    "targets = rand([0.0, 1.0], 100);"
   ]
  },
  {
   "cell_type": "code",
   "execution_count": 14,
   "id": "e64286dc-2548-498c-8151-706b0567f110",
   "metadata": {},
   "outputs": [
    {
     "ename": "LoadError",
     "evalue": "MethodError: no method matching train!(::Perceptron, ::Matrix{Float64}, ::Float64, ::Float64, ::Int64)\n\n\u001b[0mClosest candidates are:\n\u001b[0m  train!(::Perceptron, ::Matrix{Float64}, \u001b[91m::Vector{Float64}\u001b[39m, ::Float64, ::Int64)\n\u001b[0m\u001b[90m   @\u001b[39m \u001b[35mMain\u001b[39m \u001b[90m\u001b[4mIn[10]:2\u001b[24m\u001b[39m\n",
     "output_type": "error",
     "traceback": [
      "MethodError: no method matching train!(::Perceptron, ::Matrix{Float64}, ::Float64, ::Float64, ::Int64)\n\n\u001b[0mClosest candidates are:\n\u001b[0m  train!(::Perceptron, ::Matrix{Float64}, \u001b[91m::Vector{Float64}\u001b[39m, ::Float64, ::Int64)\n\u001b[0m\u001b[90m   @\u001b[39m \u001b[35mMain\u001b[39m \u001b[90m\u001b[4mIn[10]:2\u001b[24m\u001b[39m\n",
      "",
      "Stacktrace:",
      " [1] top-level scope",
      "   @ In[14]:4"
     ]
    }
   ],
   "source": [
    "# Training the perceptron\n",
    "learning_rate = 0.1          # Learning Rate\n",
    "epochs = 1000\n",
    "train!(perceptron, inputs, learning_rate, learning_rate, epochs)"
   ]
  },
  {
   "cell_type": "code",
   "execution_count": 15,
   "id": "ea6ff8e6-10e9-48d5-aba8-c0ddc15c6fb1",
   "metadata": {},
   "outputs": [
    {
     "name": "stdout",
     "output_type": "stream",
     "text": [
      "Test Input: [-0.9712435428287041, -2.2639585127609627]\n",
      "Prediction: 0.0\n"
     ]
    }
   ],
   "source": [
    "# Test the perceptron\n",
    "test_input = randn(input_size)\n",
    "prediction = predict(perceptron, test_input)\n",
    "\n",
    "println(\"Test Input: \", test_input)\n",
    "println(\"Prediction: \", prediction)"
   ]
  },
  {
   "cell_type": "code",
   "execution_count": null,
   "id": "b866ebc2-0e2d-42c9-85e0-daf3c5a4f65e",
   "metadata": {},
   "outputs": [],
   "source": []
  }
 ],
 "metadata": {
  "kernelspec": {
   "display_name": "Julia 1.9.3",
   "language": "julia",
   "name": "julia-1.9"
  },
  "language_info": {
   "file_extension": ".jl",
   "mimetype": "application/julia",
   "name": "julia",
   "version": "1.9.4"
  }
 },
 "nbformat": 4,
 "nbformat_minor": 5
}

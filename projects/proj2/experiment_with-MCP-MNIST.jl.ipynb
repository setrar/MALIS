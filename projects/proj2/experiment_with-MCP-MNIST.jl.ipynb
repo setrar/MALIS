{
 "cells": [
  {
   "cell_type": "code",
   "execution_count": 30,
   "metadata": {},
   "outputs": [],
   "source": [
    "using LinearAlgebra\n",
    "using Random\n",
    "using MLDatasets"
   ]
  },
  {
   "cell_type": "code",
   "execution_count": 31,
   "metadata": {},
   "outputs": [
    {
     "data": {
      "text/plain": [
       "predict (generic function with 2 methods)"
      ]
     },
     "execution_count": 31,
     "metadata": {},
     "output_type": "execute_result"
    }
   ],
   "source": [
    "include(\"multiclassperceptron.jl\")"
   ]
  },
  {
   "cell_type": "code",
   "execution_count": 32,
   "metadata": {},
   "outputs": [],
   "source": [
    "# Load and preprocess the MNIST data\n",
    "train_x, train_y = MLDatasets.MNIST(split=:train)[:];\n",
    "test_x, test_y = MLDatasets.MNIST(split=:test)[:];"
   ]
  },
  {
   "cell_type": "code",
   "execution_count": 33,
   "metadata": {},
   "outputs": [],
   "source": [
    "# Flatten and normalize the images\n",
    "flatten(x) = Float64.(reshape(x, 28 * 28)) / 255.0\n",
    "train_inputs = hcat([flatten(train_x[:, :, i]) for i in 1:size(train_x, 3)]...);\n",
    "test_inputs = hcat([flatten(test_x[:, :, i]) for i in 1:size(test_x, 3)]...);\n",
    "train_targets = train_y .+ 1;\n",
    "test_targets = test_y .+ 1;"
   ]
  },
  {
   "cell_type": "code",
   "execution_count": 34,
   "metadata": {},
   "outputs": [],
   "source": [
    "# Create the multi-class perceptron model\n",
    "input_size = 28 * 28\n",
    "num_classes = 10\n",
    "multi_class_perceptron = MultiClassPerceptron(input_size, num_classes);"
   ]
  },
  {
   "cell_type": "code",
   "execution_count": 35,
   "metadata": {},
   "outputs": [],
   "source": [
    "# Train the multi-class perceptron model\n",
    "epochs = 500\n",
    "learning_rate = 0.01\n",
    "train!(multi_class_perceptron, train_inputs, train_targets, epochs, learning_rate)\n"
   ]
  },
  {
   "cell_type": "code",
   "execution_count": 36,
   "metadata": {},
   "outputs": [
    {
     "data": {
      "text/plain": [
       "test (generic function with 1 method)"
      ]
     },
     "execution_count": 36,
     "metadata": {},
     "output_type": "execute_result"
    }
   ],
   "source": [
    "# Test the multi-class perceptron model\n",
    "function test(model::MultiClassPerceptron, inputs::Matrix{Float64}, targets::Vector{Int})\n",
    "    correct = 0\n",
    "    for i in 1:size(inputs, 2)\n",
    "        x = inputs[:, i]\n",
    "        y = targets[i]\n",
    "        ŷ = predict(model, x)\n",
    "        correct += (ŷ == y ? 1 : 0)\n",
    "    end\n",
    "    accuracy = correct / size(inputs, 2)\n",
    "    return accuracy\n",
    "end"
   ]
  },
  {
   "cell_type": "code",
   "execution_count": 37,
   "metadata": {},
   "outputs": [
    {
     "name": "stdout",
     "output_type": "stream",
     "text": [
      "Test Accuracy: 0.8198\n"
     ]
    }
   ],
   "source": [
    "# Calculate test accuracy\n",
    "accuracy = test(multi_class_perceptron, test_inputs, test_targets)\n",
    "println(\"Test Accuracy: $accuracy\")"
   ]
  },
  {
   "cell_type": "code",
   "execution_count": null,
   "metadata": {},
   "outputs": [],
   "source": []
  }
 ],
 "metadata": {
  "kernelspec": {
   "display_name": "Julia 1.9.3",
   "language": "julia",
   "name": "julia-1.9"
  },
  "language_info": {
   "file_extension": ".jl",
   "mimetype": "application/julia",
   "name": "julia",
   "version": "1.9.4"
  }
 },
 "nbformat": 4,
 "nbformat_minor": 4
}
